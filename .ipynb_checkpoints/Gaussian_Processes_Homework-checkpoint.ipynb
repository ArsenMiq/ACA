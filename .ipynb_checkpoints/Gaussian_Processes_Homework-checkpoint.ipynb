{
 "cells": [
  {
   "cell_type": "markdown",
   "id": "a8f5f70f",
   "metadata": {},
   "source": [
    "### Gaussian_Process: Regression"
   ]
  },
  {
   "cell_type": "markdown",
   "id": "4d2593a7",
   "metadata": {},
   "source": [
    "#### Download the SolarPrediction.csv dataset from https://www.kaggle.com/dronio/SolarEnergy\n",
    "#### Print its head()"
   ]
  },
  {
   "cell_type": "code",
   "execution_count": 22,
   "id": "7b635f06",
   "metadata": {},
   "outputs": [
    {
     "data": {
      "text/html": [
       "<div>\n",
       "<style scoped>\n",
       "    .dataframe tbody tr th:only-of-type {\n",
       "        vertical-align: middle;\n",
       "    }\n",
       "\n",
       "    .dataframe tbody tr th {\n",
       "        vertical-align: top;\n",
       "    }\n",
       "\n",
       "    .dataframe thead th {\n",
       "        text-align: right;\n",
       "    }\n",
       "</style>\n",
       "<table border=\"1\" class=\"dataframe\">\n",
       "  <thead>\n",
       "    <tr style=\"text-align: right;\">\n",
       "      <th></th>\n",
       "      <th>UNIXTime</th>\n",
       "      <th>Data</th>\n",
       "      <th>Time</th>\n",
       "      <th>Radiation</th>\n",
       "      <th>Temperature</th>\n",
       "      <th>Pressure</th>\n",
       "      <th>Humidity</th>\n",
       "      <th>WindDirection(Degrees)</th>\n",
       "      <th>Speed</th>\n",
       "      <th>TimeSunRise</th>\n",
       "      <th>TimeSunSet</th>\n",
       "    </tr>\n",
       "  </thead>\n",
       "  <tbody>\n",
       "    <tr>\n",
       "      <th>0</th>\n",
       "      <td>1475229326</td>\n",
       "      <td>9/29/2016 12:00:00 AM</td>\n",
       "      <td>23:55:26</td>\n",
       "      <td>1.21</td>\n",
       "      <td>48</td>\n",
       "      <td>30.46</td>\n",
       "      <td>59</td>\n",
       "      <td>177.39</td>\n",
       "      <td>5.62</td>\n",
       "      <td>06:13:00</td>\n",
       "      <td>18:13:00</td>\n",
       "    </tr>\n",
       "    <tr>\n",
       "      <th>1</th>\n",
       "      <td>1475229023</td>\n",
       "      <td>9/29/2016 12:00:00 AM</td>\n",
       "      <td>23:50:23</td>\n",
       "      <td>1.21</td>\n",
       "      <td>48</td>\n",
       "      <td>30.46</td>\n",
       "      <td>58</td>\n",
       "      <td>176.78</td>\n",
       "      <td>3.37</td>\n",
       "      <td>06:13:00</td>\n",
       "      <td>18:13:00</td>\n",
       "    </tr>\n",
       "    <tr>\n",
       "      <th>2</th>\n",
       "      <td>1475228726</td>\n",
       "      <td>9/29/2016 12:00:00 AM</td>\n",
       "      <td>23:45:26</td>\n",
       "      <td>1.23</td>\n",
       "      <td>48</td>\n",
       "      <td>30.46</td>\n",
       "      <td>57</td>\n",
       "      <td>158.75</td>\n",
       "      <td>3.37</td>\n",
       "      <td>06:13:00</td>\n",
       "      <td>18:13:00</td>\n",
       "    </tr>\n",
       "    <tr>\n",
       "      <th>3</th>\n",
       "      <td>1475228421</td>\n",
       "      <td>9/29/2016 12:00:00 AM</td>\n",
       "      <td>23:40:21</td>\n",
       "      <td>1.21</td>\n",
       "      <td>48</td>\n",
       "      <td>30.46</td>\n",
       "      <td>60</td>\n",
       "      <td>137.71</td>\n",
       "      <td>3.37</td>\n",
       "      <td>06:13:00</td>\n",
       "      <td>18:13:00</td>\n",
       "    </tr>\n",
       "    <tr>\n",
       "      <th>4</th>\n",
       "      <td>1475228124</td>\n",
       "      <td>9/29/2016 12:00:00 AM</td>\n",
       "      <td>23:35:24</td>\n",
       "      <td>1.17</td>\n",
       "      <td>48</td>\n",
       "      <td>30.46</td>\n",
       "      <td>62</td>\n",
       "      <td>104.95</td>\n",
       "      <td>5.62</td>\n",
       "      <td>06:13:00</td>\n",
       "      <td>18:13:00</td>\n",
       "    </tr>\n",
       "  </tbody>\n",
       "</table>\n",
       "</div>"
      ],
      "text/plain": [
       "     UNIXTime                   Data      Time  Radiation  Temperature  \\\n",
       "0  1475229326  9/29/2016 12:00:00 AM  23:55:26       1.21           48   \n",
       "1  1475229023  9/29/2016 12:00:00 AM  23:50:23       1.21           48   \n",
       "2  1475228726  9/29/2016 12:00:00 AM  23:45:26       1.23           48   \n",
       "3  1475228421  9/29/2016 12:00:00 AM  23:40:21       1.21           48   \n",
       "4  1475228124  9/29/2016 12:00:00 AM  23:35:24       1.17           48   \n",
       "\n",
       "   Pressure  Humidity  WindDirection(Degrees)  Speed TimeSunRise TimeSunSet  \n",
       "0     30.46        59                  177.39   5.62    06:13:00   18:13:00  \n",
       "1     30.46        58                  176.78   3.37    06:13:00   18:13:00  \n",
       "2     30.46        57                  158.75   3.37    06:13:00   18:13:00  \n",
       "3     30.46        60                  137.71   3.37    06:13:00   18:13:00  \n",
       "4     30.46        62                  104.95   5.62    06:13:00   18:13:00  "
      ]
     },
     "execution_count": 22,
     "metadata": {},
     "output_type": "execute_result"
    }
   ],
   "source": [
    "# TODO\n",
    "import pandas as pd\n",
    "data = pd.read_csv('SolarPrediction.csv')\n",
    "data.head()"
   ]
  },
  {
   "cell_type": "markdown",
   "id": "b23c876b",
   "metadata": {},
   "source": [
    "#### Explore the dataset. \n",
    "#### Drop the unnecessary columns, if any."
   ]
  },
  {
   "cell_type": "code",
   "execution_count": 23,
   "id": "e103546d",
   "metadata": {},
   "outputs": [],
   "source": [
    "# TODO\n",
    "data = data.drop(['Data', 'Time', 'TimeSunRise', 'TimeSunSet'], axis = 1)"
   ]
  },
  {
   "cell_type": "markdown",
   "id": "d4939724",
   "metadata": {},
   "source": [
    "#### Convert the Data (If did not drop), Time, TimeSunRise, TimeSunSet columns to datetime"
   ]
  },
  {
   "cell_type": "code",
   "execution_count": 24,
   "id": "cc5d1634",
   "metadata": {},
   "outputs": [
    {
     "data": {
      "text/html": [
       "<div>\n",
       "<style scoped>\n",
       "    .dataframe tbody tr th:only-of-type {\n",
       "        vertical-align: middle;\n",
       "    }\n",
       "\n",
       "    .dataframe tbody tr th {\n",
       "        vertical-align: top;\n",
       "    }\n",
       "\n",
       "    .dataframe thead th {\n",
       "        text-align: right;\n",
       "    }\n",
       "</style>\n",
       "<table border=\"1\" class=\"dataframe\">\n",
       "  <thead>\n",
       "    <tr style=\"text-align: right;\">\n",
       "      <th></th>\n",
       "      <th>UNIXTime</th>\n",
       "      <th>Radiation</th>\n",
       "      <th>Temperature</th>\n",
       "      <th>Pressure</th>\n",
       "      <th>Humidity</th>\n",
       "      <th>WindDirection(Degrees)</th>\n",
       "      <th>Speed</th>\n",
       "    </tr>\n",
       "  </thead>\n",
       "  <tbody>\n",
       "    <tr>\n",
       "      <th>0</th>\n",
       "      <td>1475229326</td>\n",
       "      <td>1.21</td>\n",
       "      <td>48</td>\n",
       "      <td>30.46</td>\n",
       "      <td>59</td>\n",
       "      <td>177.39</td>\n",
       "      <td>5.62</td>\n",
       "    </tr>\n",
       "    <tr>\n",
       "      <th>1</th>\n",
       "      <td>1475229023</td>\n",
       "      <td>1.21</td>\n",
       "      <td>48</td>\n",
       "      <td>30.46</td>\n",
       "      <td>58</td>\n",
       "      <td>176.78</td>\n",
       "      <td>3.37</td>\n",
       "    </tr>\n",
       "    <tr>\n",
       "      <th>2</th>\n",
       "      <td>1475228726</td>\n",
       "      <td>1.23</td>\n",
       "      <td>48</td>\n",
       "      <td>30.46</td>\n",
       "      <td>57</td>\n",
       "      <td>158.75</td>\n",
       "      <td>3.37</td>\n",
       "    </tr>\n",
       "    <tr>\n",
       "      <th>3</th>\n",
       "      <td>1475228421</td>\n",
       "      <td>1.21</td>\n",
       "      <td>48</td>\n",
       "      <td>30.46</td>\n",
       "      <td>60</td>\n",
       "      <td>137.71</td>\n",
       "      <td>3.37</td>\n",
       "    </tr>\n",
       "    <tr>\n",
       "      <th>4</th>\n",
       "      <td>1475228124</td>\n",
       "      <td>1.17</td>\n",
       "      <td>48</td>\n",
       "      <td>30.46</td>\n",
       "      <td>62</td>\n",
       "      <td>104.95</td>\n",
       "      <td>5.62</td>\n",
       "    </tr>\n",
       "  </tbody>\n",
       "</table>\n",
       "</div>"
      ],
      "text/plain": [
       "     UNIXTime  Radiation  Temperature  Pressure  Humidity  \\\n",
       "0  1475229326       1.21           48     30.46        59   \n",
       "1  1475229023       1.21           48     30.46        58   \n",
       "2  1475228726       1.23           48     30.46        57   \n",
       "3  1475228421       1.21           48     30.46        60   \n",
       "4  1475228124       1.17           48     30.46        62   \n",
       "\n",
       "   WindDirection(Degrees)  Speed  \n",
       "0                  177.39   5.62  \n",
       "1                  176.78   3.37  \n",
       "2                  158.75   3.37  \n",
       "3                  137.71   3.37  \n",
       "4                  104.95   5.62  "
      ]
     },
     "execution_count": 24,
     "metadata": {},
     "output_type": "execute_result"
    }
   ],
   "source": [
    "# TODO\n",
    "data.head()"
   ]
  },
  {
   "cell_type": "markdown",
   "id": "8ad6a8a4",
   "metadata": {},
   "source": [
    "#### Generate Cyclical features from newly generated datetime objects\n",
    "#### link for help: https://www.kaggle.com/avanwyk/encoding-cyclical-features-for-deep-learning?scriptVersionId=3208521&cellId=21"
   ]
  },
  {
   "cell_type": "code",
   "execution_count": 25,
   "id": "20a22f98",
   "metadata": {},
   "outputs": [
    {
     "data": {
      "text/html": [
       "<div>\n",
       "<style scoped>\n",
       "    .dataframe tbody tr th:only-of-type {\n",
       "        vertical-align: middle;\n",
       "    }\n",
       "\n",
       "    .dataframe tbody tr th {\n",
       "        vertical-align: top;\n",
       "    }\n",
       "\n",
       "    .dataframe thead th {\n",
       "        text-align: right;\n",
       "    }\n",
       "</style>\n",
       "<table border=\"1\" class=\"dataframe\">\n",
       "  <thead>\n",
       "    <tr style=\"text-align: right;\">\n",
       "      <th></th>\n",
       "      <th>datetime</th>\n",
       "      <th>Vancouver</th>\n",
       "      <th>Portland</th>\n",
       "      <th>San Francisco</th>\n",
       "      <th>Seattle</th>\n",
       "      <th>Los Angeles</th>\n",
       "      <th>San Diego</th>\n",
       "      <th>Las Vegas</th>\n",
       "      <th>Phoenix</th>\n",
       "      <th>Albuquerque</th>\n",
       "      <th>...</th>\n",
       "      <th>Philadelphia</th>\n",
       "      <th>New York</th>\n",
       "      <th>Montreal</th>\n",
       "      <th>Boston</th>\n",
       "      <th>Beersheba</th>\n",
       "      <th>Tel Aviv District</th>\n",
       "      <th>Eilat</th>\n",
       "      <th>Haifa</th>\n",
       "      <th>Nahariyya</th>\n",
       "      <th>Jerusalem</th>\n",
       "    </tr>\n",
       "  </thead>\n",
       "  <tbody>\n",
       "    <tr>\n",
       "      <th>10186</th>\n",
       "      <td>2013-11-29 22:00:00</td>\n",
       "      <td>281.060</td>\n",
       "      <td>279.270</td>\n",
       "      <td>290.440</td>\n",
       "      <td>280.960</td>\n",
       "      <td>287.870</td>\n",
       "      <td>289.5100</td>\n",
       "      <td>288.170</td>\n",
       "      <td>295.9200</td>\n",
       "      <td>282.2400</td>\n",
       "      <td>...</td>\n",
       "      <td>274.670</td>\n",
       "      <td>274.280</td>\n",
       "      <td>266.110</td>\n",
       "      <td>271.210</td>\n",
       "      <td>282.247000</td>\n",
       "      <td>289.150</td>\n",
       "      <td>284.0175</td>\n",
       "      <td>290.588000</td>\n",
       "      <td>293.213000</td>\n",
       "      <td>283.318</td>\n",
       "    </tr>\n",
       "    <tr>\n",
       "      <th>1856</th>\n",
       "      <td>2012-12-17 20:00:00</td>\n",
       "      <td>277.410</td>\n",
       "      <td>278.740</td>\n",
       "      <td>284.210</td>\n",
       "      <td>276.440</td>\n",
       "      <td>285.420</td>\n",
       "      <td>288.1200</td>\n",
       "      <td>281.550</td>\n",
       "      <td>286.0500</td>\n",
       "      <td>274.3400</td>\n",
       "      <td>...</td>\n",
       "      <td>282.710</td>\n",
       "      <td>279.870</td>\n",
       "      <td>265.830</td>\n",
       "      <td>272.970</td>\n",
       "      <td>286.480000</td>\n",
       "      <td>286.150</td>\n",
       "      <td>287.6500</td>\n",
       "      <td>287.590000</td>\n",
       "      <td>287.590000</td>\n",
       "      <td>283.020</td>\n",
       "    </tr>\n",
       "    <tr>\n",
       "      <th>9944</th>\n",
       "      <td>2013-11-19 20:00:00</td>\n",
       "      <td>279.010</td>\n",
       "      <td>283.150</td>\n",
       "      <td>286.710</td>\n",
       "      <td>279.970</td>\n",
       "      <td>290.470</td>\n",
       "      <td>289.5145</td>\n",
       "      <td>291.150</td>\n",
       "      <td>297.7600</td>\n",
       "      <td>285.6500</td>\n",
       "      <td>...</td>\n",
       "      <td>281.460</td>\n",
       "      <td>281.090</td>\n",
       "      <td>274.150</td>\n",
       "      <td>279.440</td>\n",
       "      <td>282.247000</td>\n",
       "      <td>290.150</td>\n",
       "      <td>289.0800</td>\n",
       "      <td>290.588000</td>\n",
       "      <td>293.213000</td>\n",
       "      <td>283.318</td>\n",
       "    </tr>\n",
       "    <tr>\n",
       "      <th>23409</th>\n",
       "      <td>2015-06-03 21:00:00</td>\n",
       "      <td>286.438</td>\n",
       "      <td>288.293</td>\n",
       "      <td>289.743</td>\n",
       "      <td>288.218</td>\n",
       "      <td>294.068</td>\n",
       "      <td>293.7180</td>\n",
       "      <td>301.793</td>\n",
       "      <td>305.7685</td>\n",
       "      <td>300.9185</td>\n",
       "      <td>...</td>\n",
       "      <td>290.968</td>\n",
       "      <td>291.688</td>\n",
       "      <td>291.337</td>\n",
       "      <td>284.818</td>\n",
       "      <td>286.788000</td>\n",
       "      <td>287.988</td>\n",
       "      <td>293.5380</td>\n",
       "      <td>294.738000</td>\n",
       "      <td>294.738000</td>\n",
       "      <td>291.468</td>\n",
       "    </tr>\n",
       "    <tr>\n",
       "      <th>12253</th>\n",
       "      <td>2014-02-24 01:00:00</td>\n",
       "      <td>273.430</td>\n",
       "      <td>282.010</td>\n",
       "      <td>290.790</td>\n",
       "      <td>277.660</td>\n",
       "      <td>293.180</td>\n",
       "      <td>291.2200</td>\n",
       "      <td>295.050</td>\n",
       "      <td>296.4300</td>\n",
       "      <td>284.8400</td>\n",
       "      <td>...</td>\n",
       "      <td>278.780</td>\n",
       "      <td>279.980</td>\n",
       "      <td>272.150</td>\n",
       "      <td>277.510</td>\n",
       "      <td>283.269667</td>\n",
       "      <td>286.150</td>\n",
       "      <td>282.9280</td>\n",
       "      <td>290.461333</td>\n",
       "      <td>290.461333</td>\n",
       "      <td>286.150</td>\n",
       "    </tr>\n",
       "  </tbody>\n",
       "</table>\n",
       "<p>5 rows × 37 columns</p>\n",
       "</div>"
      ],
      "text/plain": [
       "                 datetime  Vancouver  Portland  San Francisco  Seattle  \\\n",
       "10186 2013-11-29 22:00:00    281.060   279.270        290.440  280.960   \n",
       "1856  2012-12-17 20:00:00    277.410   278.740        284.210  276.440   \n",
       "9944  2013-11-19 20:00:00    279.010   283.150        286.710  279.970   \n",
       "23409 2015-06-03 21:00:00    286.438   288.293        289.743  288.218   \n",
       "12253 2014-02-24 01:00:00    273.430   282.010        290.790  277.660   \n",
       "\n",
       "       Los Angeles  San Diego  Las Vegas   Phoenix  Albuquerque  ...  \\\n",
       "10186      287.870   289.5100    288.170  295.9200     282.2400  ...   \n",
       "1856       285.420   288.1200    281.550  286.0500     274.3400  ...   \n",
       "9944       290.470   289.5145    291.150  297.7600     285.6500  ...   \n",
       "23409      294.068   293.7180    301.793  305.7685     300.9185  ...   \n",
       "12253      293.180   291.2200    295.050  296.4300     284.8400  ...   \n",
       "\n",
       "       Philadelphia  New York  Montreal   Boston   Beersheba  \\\n",
       "10186       274.670   274.280   266.110  271.210  282.247000   \n",
       "1856        282.710   279.870   265.830  272.970  286.480000   \n",
       "9944        281.460   281.090   274.150  279.440  282.247000   \n",
       "23409       290.968   291.688   291.337  284.818  286.788000   \n",
       "12253       278.780   279.980   272.150  277.510  283.269667   \n",
       "\n",
       "       Tel Aviv District     Eilat       Haifa   Nahariyya  Jerusalem  \n",
       "10186            289.150  284.0175  290.588000  293.213000    283.318  \n",
       "1856             286.150  287.6500  287.590000  287.590000    283.020  \n",
       "9944             290.150  289.0800  290.588000  293.213000    283.318  \n",
       "23409            287.988  293.5380  294.738000  294.738000    291.468  \n",
       "12253            286.150  282.9280  290.461333  290.461333    286.150  \n",
       "\n",
       "[5 rows x 37 columns]"
      ]
     },
     "execution_count": 25,
     "metadata": {},
     "output_type": "execute_result"
    }
   ],
   "source": [
    "# TODO\n",
    "import numpy as np\n",
    "import seaborn as sns\n",
    "import matplotlib as mpl\n",
    "import matplotlib.pyplot as plt\n",
    "\n",
    "mpl.style.use('seaborn')\n",
    "\n",
    "\n",
    "cities_temperature = pd.read_csv(\"temperature.csv\", parse_dates=['datetime'])\n",
    "cities_temperature.sample(5)"
   ]
  },
  {
   "cell_type": "markdown",
   "id": "02a0096a",
   "metadata": {},
   "source": [
    "#### Remove the redundunt features"
   ]
  },
  {
   "cell_type": "code",
   "execution_count": 26,
   "id": "646f1d8c",
   "metadata": {},
   "outputs": [
    {
     "name": "stdout",
     "output_type": "stream",
     "text": [
      "datetime       datetime64[ns]\n",
      "temperature           float64\n",
      "dtype: object\n",
      "count    45253.000000\n",
      "mean         7.192744\n",
      "std         11.953399\n",
      "min        -29.850000\n",
      "25%         -1.180000\n",
      "50%          7.959000\n",
      "75%         17.218333\n",
      "max         34.730000\n",
      "Name: temperature, dtype: float64\n"
     ]
    },
    {
     "name": "stderr",
     "output_type": "stream",
     "text": [
      "/home/arsen/.local/lib/python3.10/site-packages/seaborn/distributions.py:2619: FutureWarning: `distplot` is a deprecated function and will be removed in a future version. Please adapt your code to use either `displot` (a figure-level function with similar flexibility) or `histplot` (an axes-level function for histograms).\n",
      "  warnings.warn(msg, FutureWarning)\n"
     ]
    },
    {
     "data": {
      "image/png": "[encoded data removed]",
      "text/plain": [
       "<Figure size 576x396 with 1 Axes>"
      ]
     },
     "metadata": {},
     "output_type": "display_data"
    }
   ],
   "source": [
    "# TODO\n",
    "\n",
    "data = cities_temperature[['datetime', 'Montreal']]\n",
    "data = data.rename(columns={'Montreal': 'temperature'})\n",
    "data['temperature'] = data['temperature'] - 273.15\n",
    "print(data.dtypes)\n",
    "\n",
    "data = data.fillna(method = 'bfill', axis=0).dropna()\n",
    "\n",
    "print(data.temperature.describe())\n",
    "ax = sns.distplot(data.temperature)\n"
   ]
  },
  {
   "cell_type": "markdown",
   "id": "d501619a",
   "metadata": {},
   "source": [
    "#### Choose the Radiation column as target variable"
   ]
  },
  {
   "cell_type": "code",
   "execution_count": 27,
   "id": "66d174ed",
   "metadata": {},
   "outputs": [
    {
     "ename": "KeyError",
     "evalue": "'Radiation'",
     "output_type": "error",
     "traceback": [
      "\u001b[0;31m---------------------------------------------------------------------------\u001b[0m",
      "\u001b[0;31mKeyError\u001b[0m                                  Traceback (most recent call last)",
      "\u001b[0;32m~/.local/lib/python3.10/site-packages/pandas/core/indexes/base.py\u001b[0m in \u001b[0;36mget_loc\u001b[0;34m(self, key, method, tolerance)\u001b[0m\n\u001b[1;32m   3620\u001b[0m             \u001b[0;32mtry\u001b[0m\u001b[0;34m:\u001b[0m\u001b[0;34m\u001b[0m\u001b[0;34m\u001b[0m\u001b[0m\n\u001b[0;32m-> 3621\u001b[0;31m                 \u001b[0;32mreturn\u001b[0m \u001b[0mself\u001b[0m\u001b[0;34m.\u001b[0m\u001b[0m_engine\u001b[0m\u001b[0;34m.\u001b[0m\u001b[0mget_loc\u001b[0m\u001b[0;34m(\u001b[0m\u001b[0mcasted_key\u001b[0m\u001b[0;34m)\u001b[0m\u001b[0;34m\u001b[0m\u001b[0;34m\u001b[0m\u001b[0m\n\u001b[0m\u001b[1;32m   3622\u001b[0m             \u001b[0;32mexcept\u001b[0m \u001b[0mKeyError\u001b[0m \u001b[0;32mas\u001b[0m \u001b[0merr\u001b[0m\u001b[0;34m:\u001b[0m\u001b[0;34m\u001b[0m\u001b[0;34m\u001b[0m\u001b[0m\n",
      "\u001b[0;32m~/.local/lib/python3.10/site-packages/pandas/_libs/index.pyx\u001b[0m in \u001b[0;36mpandas._libs.index.IndexEngine.get_loc\u001b[0;34m()\u001b[0m\n",
      "\u001b[0;32m~/.local/lib/python3.10/site-packages/pandas/_libs/index.pyx\u001b[0m in \u001b[0;36mpandas._libs.index.IndexEngine.get_loc\u001b[0;34m()\u001b[0m\n",
      "\u001b[0;32mpandas/_libs/hashtable_class_helper.pxi\u001b[0m in \u001b[0;36mpandas._libs.hashtable.PyObjectHashTable.get_item\u001b[0;34m()\u001b[0m\n",
      "\u001b[0;32mpandas/_libs/hashtable_class_helper.pxi\u001b[0m in \u001b[0;36mpandas._libs.hashtable.PyObjectHashTable.get_item\u001b[0;34m()\u001b[0m\n",
      "\u001b[0;31mKeyError\u001b[0m: 'Radiation'",
      "\nThe above exception was the direct cause of the following exception:\n",
      "\u001b[0;31mKeyError\u001b[0m                                  Traceback (most recent call last)",
      "\u001b[0;32m/tmp/ipykernel_5613/1220274808.py\u001b[0m in \u001b[0;36m<module>\u001b[0;34m\u001b[0m\n\u001b[1;32m      1\u001b[0m \u001b[0;31m# TODO\u001b[0m\u001b[0;34m\u001b[0m\u001b[0;34m\u001b[0m\u001b[0m\n\u001b[0;32m----> 2\u001b[0;31m \u001b[0my\u001b[0m \u001b[0;34m=\u001b[0m \u001b[0mdata\u001b[0m\u001b[0;34m[\u001b[0m\u001b[0;34m'Radiation'\u001b[0m\u001b[0;34m]\u001b[0m\u001b[0;34m\u001b[0m\u001b[0;34m\u001b[0m\u001b[0m\n\u001b[0m",
      "\u001b[0;32m~/.local/lib/python3.10/site-packages/pandas/core/frame.py\u001b[0m in \u001b[0;36m__getitem__\u001b[0;34m(self, key)\u001b[0m\n\u001b[1;32m   3504\u001b[0m             \u001b[0;32mif\u001b[0m \u001b[0mself\u001b[0m\u001b[0;34m.\u001b[0m\u001b[0mcolumns\u001b[0m\u001b[0;34m.\u001b[0m\u001b[0mnlevels\u001b[0m \u001b[0;34m>\u001b[0m \u001b[0;36m1\u001b[0m\u001b[0;34m:\u001b[0m\u001b[0;34m\u001b[0m\u001b[0;34m\u001b[0m\u001b[0m\n\u001b[1;32m   3505\u001b[0m                 \u001b[0;32mreturn\u001b[0m \u001b[0mself\u001b[0m\u001b[0;34m.\u001b[0m\u001b[0m_getitem_multilevel\u001b[0m\u001b[0;34m(\u001b[0m\u001b[0mkey\u001b[0m\u001b[0;34m)\u001b[0m\u001b[0;34m\u001b[0m\u001b[0;34m\u001b[0m\u001b[0m\n\u001b[0;32m-> 3506\u001b[0;31m             \u001b[0mindexer\u001b[0m \u001b[0;34m=\u001b[0m \u001b[0mself\u001b[0m\u001b[0;34m.\u001b[0m\u001b[0mcolumns\u001b[0m\u001b[0;34m.\u001b[0m\u001b[0mget_loc\u001b[0m\u001b[0;34m(\u001b[0m\u001b[0mkey\u001b[0m\u001b[0;34m)\u001b[0m\u001b[0;34m\u001b[0m\u001b[0;34m\u001b[0m\u001b[0m\n\u001b[0m\u001b[1;32m   3507\u001b[0m             \u001b[0;32mif\u001b[0m \u001b[0mis_integer\u001b[0m\u001b[0;34m(\u001b[0m\u001b[0mindexer\u001b[0m\u001b[0;34m)\u001b[0m\u001b[0;34m:\u001b[0m\u001b[0;34m\u001b[0m\u001b[0;34m\u001b[0m\u001b[0m\n\u001b[1;32m   3508\u001b[0m                 \u001b[0mindexer\u001b[0m \u001b[0;34m=\u001b[0m \u001b[0;34m[\u001b[0m\u001b[0mindexer\u001b[0m\u001b[0;34m]\u001b[0m\u001b[0;34m\u001b[0m\u001b[0;34m\u001b[0m\u001b[0m\n",
      "\u001b[0;32m~/.local/lib/python3.10/site-packages/pandas/core/indexes/base.py\u001b[0m in \u001b[0;36mget_loc\u001b[0;34m(self, key, method, tolerance)\u001b[0m\n\u001b[1;32m   3621\u001b[0m                 \u001b[0;32mreturn\u001b[0m \u001b[0mself\u001b[0m\u001b[0;34m.\u001b[0m\u001b[0m_engine\u001b[0m\u001b[0;34m.\u001b[0m\u001b[0mget_loc\u001b[0m\u001b[0;34m(\u001b[0m\u001b[0mcasted_key\u001b[0m\u001b[0;34m)\u001b[0m\u001b[0;34m\u001b[0m\u001b[0;34m\u001b[0m\u001b[0m\n\u001b[1;32m   3622\u001b[0m             \u001b[0;32mexcept\u001b[0m \u001b[0mKeyError\u001b[0m \u001b[0;32mas\u001b[0m \u001b[0merr\u001b[0m\u001b[0;34m:\u001b[0m\u001b[0;34m\u001b[0m\u001b[0;34m\u001b[0m\u001b[0m\n\u001b[0;32m-> 3623\u001b[0;31m                 \u001b[0;32mraise\u001b[0m \u001b[0mKeyError\u001b[0m\u001b[0;34m(\u001b[0m\u001b[0mkey\u001b[0m\u001b[0;34m)\u001b[0m \u001b[0;32mfrom\u001b[0m \u001b[0merr\u001b[0m\u001b[0;34m\u001b[0m\u001b[0;34m\u001b[0m\u001b[0m\n\u001b[0m\u001b[1;32m   3624\u001b[0m             \u001b[0;32mexcept\u001b[0m \u001b[0mTypeError\u001b[0m\u001b[0;34m:\u001b[0m\u001b[0;34m\u001b[0m\u001b[0;34m\u001b[0m\u001b[0m\n\u001b[1;32m   3625\u001b[0m                 \u001b[0;31m# If we have a listlike key, _check_indexing_error will raise\u001b[0m\u001b[0;34m\u001b[0m\u001b[0;34m\u001b[0m\u001b[0m\n",
      "\u001b[0;31mKeyError\u001b[0m: 'Radiation'"
     ]
    }
   ],
   "source": [
    "# TODO\n",
    "y = data['Radiation']"
   ]
  },
  {
   "cell_type": "markdown",
   "id": "b5e33724",
   "metadata": {},
   "source": [
    "#### Scale the dataframe with an appropriate scaler"
   ]
  },
  {
   "cell_type": "code",
   "execution_count": 28,
   "id": "84f76647",
   "metadata": {},
   "outputs": [],
   "source": [
    "# TODO\n"
   ]
  },
  {
   "cell_type": "markdown",
   "id": "aacf7cd6",
   "metadata": {},
   "source": [
    "#### Divide the dataset into training and testing sets: 50/50\n",
    "#### Specify a random state"
   ]
  },
  {
   "cell_type": "code",
   "execution_count": 29,
   "id": "fcdbf955",
   "metadata": {},
   "outputs": [
    {
     "ename": "NameError",
     "evalue": "name 'train_test_split' is not defined",
     "output_type": "error",
     "traceback": [
      "\u001b[0;31m---------------------------------------------------------------------------\u001b[0m",
      "\u001b[0;31mNameError\u001b[0m                                 Traceback (most recent call last)",
      "\u001b[0;32m/tmp/ipykernel_5613/431508120.py\u001b[0m in \u001b[0;36m<module>\u001b[0;34m\u001b[0m\n\u001b[1;32m      1\u001b[0m \u001b[0;31m# TODO\u001b[0m\u001b[0;34m\u001b[0m\u001b[0;34m\u001b[0m\u001b[0m\n\u001b[0;32m----> 2\u001b[0;31m \u001b[0mX_train\u001b[0m\u001b[0;34m,\u001b[0m \u001b[0mX_test\u001b[0m\u001b[0;34m,\u001b[0m \u001b[0my_train\u001b[0m\u001b[0;34m,\u001b[0m \u001b[0my_test\u001b[0m \u001b[0;34m=\u001b[0m \u001b[0mtrain_test_split\u001b[0m\u001b[0;34m(\u001b[0m\u001b[0mX\u001b[0m\u001b[0;34m,\u001b[0m \u001b[0my\u001b[0m\u001b[0;34m,\u001b[0m \u001b[0mtest_size\u001b[0m\u001b[0;34m=\u001b[0m\u001b[0;36m0.33\u001b[0m\u001b[0;34m,\u001b[0m \u001b[0mrandom_state\u001b[0m\u001b[0;34m=\u001b[0m\u001b[0;36m42\u001b[0m\u001b[0;34m)\u001b[0m\u001b[0;34m\u001b[0m\u001b[0;34m\u001b[0m\u001b[0m\n\u001b[0m",
      "\u001b[0;31mNameError\u001b[0m: name 'train_test_split' is not defined"
     ]
    }
   ],
   "source": [
    "# TODO\n",
    "X_train, X_test, y_train, y_test = train_test_split(X, y, test_size=0.33, random_state=42)"
   ]
  },
  {
   "cell_type": "markdown",
   "id": "55ce48cb",
   "metadata": {},
   "source": [
    "#### Fit a GaussianProcessRegression on Training set\n",
    "#### Specify a random state"
   ]
  },
  {
   "cell_type": "code",
   "execution_count": 94,
   "id": "e457a666",
   "metadata": {},
   "outputs": [],
   "source": [
    "class SquaredExponentialKernel:\n",
    "    def __init__(self, length=1, sigma_f=1):\n",
    "        self.length = length\n",
    "        self.sigma_f = sigma_f\n",
    "        \n",
    "    def __call__(self, argument_1, argument_2):\n",
    "        return float(self.sigma_f*np.exp(-np.linalg.norm(argument_1-argument_2)**2/(2*self.length**2)))"
   ]
  },
  {
   "cell_type": "code",
   "execution_count": 95,
   "id": "6fcf3199",
   "metadata": {},
   "outputs": [
    {
     "data": {
      "application/vnd.jupyter.widget-view+json": {
       "model_id": "44b407c4320849269ffb6dad89eb54d2",
       "version_major": 2,
       "version_minor": 0
      },
      "text/plain": [
       "interactive(children=(FloatSlider(value=1.0, description='length', max=3.0, min=0.1), FloatSlider(value=0.0, d…"
      ]
     },
     "metadata": {},
     "output_type": "display_data"
    },
    {
     "data": {
      "application/vnd.jupyter.widget-view+json": {
       "model_id": "a2f3e91994be46ecbb247e482c8b954f",
       "version_major": 2,
       "version_minor": 0
      },
      "text/plain": [
       "FigureWidget({\n",
       "    'data': [{'line': {'color': 'blue', 'width': 2},\n",
       "              'name': 'Predicted function'…"
      ]
     },
     "metadata": {},
     "output_type": "display_data"
    }
   ],
   "source": [
    "x_lines = np.arange(-10, 10, 0.1)\n",
    "kernel = SquaredExponentialKernel(length=1, sigma_f=0.1)\n",
    "\n",
    "fig0 = go.FigureWidget(data = [\n",
    "    line_scatter(\n",
    "        x_lines = x_lines,\n",
    "        y_lines=np.array([kernel(x, 0) for x in x_lines]),\n",
    "    )\n",
    "])\n",
    "\n",
    "fig0 = update_layout_of_graph(fig0, title='Squared exponential kernel')\n",
    "\n",
    "@interact(length=(0.1, 3, 0.1), argument_2 = (-10, 10, 0.1))\n",
    "def update(length=1, argument_2=0):\n",
    "    with fig0.batch_update():\n",
    "        kernel = SquaredExponentialKernel(length = length)\n",
    "        fig0.data[0].y = np.array([kernel(x, argument_2) for x in x_lines])\n",
    "        \n",
    "fig0"
   ]
  },
  {
   "cell_type": "code",
   "execution_count": 96,
   "id": "87ca98e6",
   "metadata": {},
   "outputs": [],
   "source": [
    "def covariance_matrix(x1, x2, covariance_function):\n",
    "    return np.array([[covariance_function(a, b) for a in x1] for b in x2])"
   ]
  },
  {
   "cell_type": "code",
   "execution_count": 97,
   "id": "d2667433",
   "metadata": {},
   "outputs": [],
   "source": [
    "# TODO\n",
    "class GPR:\n",
    "    def __init__(self, data_x, data_y, covariance_function=SquaredExponentialKernel(), noise=0):\n",
    "        self.data_x = data_x\n",
    "        self.data_y = data_y\n",
    "        self.covariance_function = covariance_function\n",
    "        self.noise = noise\n",
    "        self._memory = None\n",
    "        self.inv_cov_matrix_of_input_data =  covariance_matrix(data_x, data_x, covariance_function) + (noise + 3e-7)*np.identity(len(data_x))\n",
    "        \n",
    "    def predict(self, at_values):\n",
    "        k_lower_star = covariance_matrix(self.data_x, at_values, self.covariance_function)\n",
    "        k_lower_star2 = covariance_matrix(at_values, at_values, self.covariance_function)\n",
    "        mean_at_values = np.dot(\n",
    "            k_lower_star,\n",
    "            np.dot(self.data_y,\n",
    "                  self.inv_cov_matrix_of_input_data.T).T).flatten()\n",
    "        covar_matrix = k_lower_star2 - np.dot(k_lower_star, np.dot(self.inv_cov_matrix_of_input_data, k_lower_star.T))\n",
    "        variance = np.diag(covar_matrix)\n",
    "        self.memory = {\n",
    "            'mean' : mean_at_values,\n",
    "            'covariance_matrix' : covar_matrix,\n",
    "            'variance' : variance\n",
    "        }\n",
    "        \n",
    "        return mean_at_values"
   ]
  },
  {
   "cell_type": "code",
   "execution_count": 98,
   "id": "3938e5a5",
   "metadata": {},
   "outputs": [],
   "source": [
    "x_values = np.array([0, 0.3, 1, 3.1, 4.7])\n",
    "y_values = np.array([1, 0, 1.4, 0, -0.9])"
   ]
  },
  {
   "cell_type": "code",
   "execution_count": 99,
   "id": "c5e3a8ad",
   "metadata": {},
   "outputs": [],
   "source": [
    "x = np.arange(-1, 7, 0.1)"
   ]
  },
  {
   "cell_type": "code",
   "execution_count": 100,
   "id": "cf6a6f1b",
   "metadata": {},
   "outputs": [],
   "source": [
    "import plotly.graph_objects as go\n",
    "from ipywidgets import interact, widgets\n",
    "\n",
    "def update_layout_of_graph(fig: go.Figure, title: str = 'Plot') -> go.Figure:\n",
    "    fig.update_layout(\n",
    "        width = 800,\n",
    "        height = 600,\n",
    "        autosize = False,\n",
    "        plot_bgcolor = 'rgba(0,0,0,0)',\n",
    "        title = title,\n",
    "    )\n",
    "    \n",
    "    fig.update_layout(plot_bgcolor = 'rgba(0,0,0,0)',\n",
    "                     xaxis_title = 'input values',\n",
    "                     yaxis_title = 'output values',\n",
    "                     legend = dict(yanchor = \"top\",\n",
    "                                   y = 0.9,\n",
    "                                   xanchor = \"right\",\n",
    "                                   x = 0.95),\n",
    "                     title = {\n",
    "                         'x': 0.5,\n",
    "                         'xanchor': 'center'\n",
    "                     })\n",
    "    fig.update_xaxes(showline = True, linewidth = 1, linecolor = 'black')\n",
    "    fig.update_yaxes(showline = True, linewidth = 1, linecolor = 'black')\n",
    "    return fig\n",
    "\n",
    "def line_scatter(\n",
    "    visible: bool = True,\n",
    "    x_lines: np.array = np.array([]),\n",
    "    y_lines: np.array = np.array([]),\n",
    "    name_line: str = 'Predicted function',\n",
    "    showlegend: bool = True,\n",
    ") -> go.Scatter:\n",
    "    return go.Scatter(\n",
    "        visible = visible,\n",
    "        line = dict(color = \"blue\", width = 2),\n",
    "        x = x_lines,\n",
    "        y = y_lines,\n",
    "        name = name_line,\n",
    "        showlegend = showlegend,\n",
    "    )\n",
    "\n",
    "def dot_scatter(\n",
    "    visible: bool = True,\n",
    "    x_dots: np.array = np.array([]),\n",
    "    y_dots: np.array = np.array([]),\n",
    "    name_dots: str = 'Observed points',\n",
    "    showlegend: bool = True,\n",
    ") -> go.Scatter:\n",
    "    return go.Scatter(\n",
    "        x = x_dots,\n",
    "        visible = visible,\n",
    "        y = y_dots,\n",
    "        mode = \"markers\",\n",
    "        name = name_dots,\n",
    "        marker = dict(color = 'red', size = 8),\n",
    "        showlegend = showlegend\n",
    "    )\n",
    "\n",
    "def uncertainty_area_scatter(\n",
    "    visible:bool = True,\n",
    "    x_lines: np.array = np.array([]),\n",
    "    y_upper: np.array = np.array([]),\n",
    "    y_lower: np.array = np.array([]),\n",
    "    name: str = \"mean plus/minus standard deviation\",\n",
    ") -> go.Scatter:\n",
    "    return go.Scatter(\n",
    "        visible = visible,\n",
    "        x = np.concatenate((x_lines, x_lines[::-1])),\n",
    "        y = np.concatenate((y_upper, y_lower[::-1])),\n",
    "        fill = 'toself',\n",
    "        fillcolor = 'rgba(189,195,199,0.5)',\n",
    "        line = dict(color = 'rgba(200,200,200,0)'),\n",
    "        hoverinfo = \"skip\",\n",
    "        showlegend = True,\n",
    "        name = name,\n",
    "    )"
   ]
  },
  {
   "cell_type": "code",
   "execution_count": 101,
   "id": "29175941",
   "metadata": {},
   "outputs": [],
   "source": [
    "def plot_GPR(data_x, data_y, model, x, visible = True) -> list:\n",
    "    mean = model.predict(x)\n",
    "    \n",
    "    std = np.sqrt(model.memory['variance'])\n",
    "    data = []\n",
    "    \n",
    "    for i in range(1, 4):\n",
    "        data.append(\n",
    "            uncertainty_area_scatter(\n",
    "                x_lines = x,\n",
    "                y_lower = mean - 1 * std,\n",
    "                y_upper = mean + 1 * std,\n",
    "                name = f\"mean plus/minus {i}*standard deviation\",\n",
    "                visible = visible))\n",
    "        \n",
    "    data.append(line_scatter(x_lines = x, y_lines = mean, visible = visible))\n",
    "    data.append(dot_scatter(x_dots = data_x, y_dots = data_y, visible = visible))\n",
    "    \n",
    "    return data"
   ]
  },
  {
   "cell_type": "code",
   "execution_count": 102,
   "id": "dcc09d6a",
   "metadata": {},
   "outputs": [
    {
     "name": "stderr",
     "output_type": "stream",
     "text": [
      "/tmp/ipykernel_5613/901601762.py:4: RuntimeWarning:\n",
      "\n",
      "invalid value encountered in sqrt\n",
      "\n"
     ]
    },
    {
     "data": {
      "application/vnd.plotly.v1+json": {
       "config": {
        "plotlyServerURL": "https://plot.ly"
       },
       "data": [
        {
         "fill": "toself",
         "fillcolor": "rgba(189,195,199,0.5)",
         "hoverinfo": "skip",
         "line": {
          "color": "rgba(200,200,200,0)"
         },
         "name": "mean plus/minus 1*standard deviation",
         "showlegend": true,
         "type": "scatter",
         "visible": true,
         "x": [
          -1,
          -0.9,
          -0.8,
          -0.7000000000000001,
          -0.6000000000000001,
          -0.5000000000000001,
          -0.40000000000000013,
          -0.30000000000000016,
          -0.20000000000000018,
          -0.1000000000000002,
          -2.220446049250313e-16,
          0.09999999999999964,
          0.19999999999999973,
          0.2999999999999998,
          0.3999999999999997,
          0.49999999999999956,
          0.5999999999999996,
          0.6999999999999997,
          0.7999999999999996,
          0.8999999999999995,
          0.9999999999999996,
          1.0999999999999996,
          1.1999999999999993,
          1.2999999999999994,
          1.3999999999999995,
          1.4999999999999996,
          1.5999999999999996,
          1.6999999999999993,
          1.7999999999999994,
          1.8999999999999995,
          1.9999999999999991,
          2.099999999999999,
          2.1999999999999993,
          2.2999999999999994,
          2.3999999999999995,
          2.499999999999999,
          2.599999999999999,
          2.6999999999999993,
          2.799999999999999,
          2.899999999999999,
          2.999999999999999,
          3.0999999999999988,
          3.1999999999999993,
          3.299999999999999,
          3.3999999999999986,
          3.499999999999999,
          3.5999999999999988,
          3.6999999999999993,
          3.799999999999999,
          3.8999999999999986,
          3.999999999999999,
          4.099999999999999,
          4.199999999999999,
          4.299999999999999,
          4.399999999999999,
          4.499999999999999,
          4.599999999999999,
          4.699999999999998,
          4.799999999999999,
          4.899999999999999,
          4.999999999999998,
          5.099999999999999,
          5.199999999999998,
          5.299999999999999,
          5.399999999999999,
          5.499999999999998,
          5.599999999999999,
          5.699999999999998,
          5.799999999999999,
          5.899999999999999,
          5.999999999999998,
          6.099999999999999,
          6.199999999999998,
          6.299999999999998,
          6.399999999999999,
          6.499999999999998,
          6.599999999999998,
          6.699999999999998,
          6.799999999999998,
          6.899999999999999,
          6.899999999999999,
          6.799999999999998,
          6.699999999999998,
          6.599999999999998,
          6.499999999999998,
          6.399999999999999,
          6.299999999999998,
          6.199999999999998,
          6.099999999999999,
          5.999999999999998,
          5.899999999999999,
          5.799999999999999,
          5.699999999999998,
          5.599999999999999,
          5.499999999999998,
          5.399999999999999,
          5.299999999999999,
          5.199999999999998,
          5.099999999999999,
          4.999999999999998,
          4.899999999999999,
          4.799999999999999,
          4.699999999999998,
          4.599999999999999,
          4.499999999999999,
          4.399999999999999,
          4.299999999999999,
          4.199999999999999,
          4.099999999999999,
          3.999999999999999,
          3.8999999999999986,
          3.799999999999999,
          3.6999999999999993,
          3.5999999999999988,
          3.499999999999999,
          3.3999999999999986,
          3.299999999999999,
          3.1999999999999993,
          3.0999999999999988,
          2.999999999999999,
          2.899999999999999,
          2.799999999999999,
          2.6999999999999993,
          2.599999999999999,
          2.499999999999999,
          2.3999999999999995,
          2.2999999999999994,
          2.1999999999999993,
          2.099999999999999,
          1.9999999999999991,
          1.8999999999999995,
          1.7999999999999994,
          1.6999999999999993,
          1.5999999999999996,
          1.4999999999999996,
          1.3999999999999995,
          1.2999999999999994,
          1.1999999999999993,
          1.0999999999999996,
          0.9999999999999996,
          0.8999999999999995,
          0.7999999999999996,
          0.6999999999999997,
          0.5999999999999996,
          0.49999999999999956,
          0.3999999999999997,
          0.2999999999999998,
          0.19999999999999973,
          0.09999999999999964,
          -2.220446049250313e-16,
          -0.1000000000000002,
          -0.20000000000000018,
          -0.30000000000000016,
          -0.40000000000000013,
          -0.5000000000000001,
          -0.6000000000000001,
          -0.7000000000000001,
          -0.8,
          -0.9,
          -1
         ],
         "y": [
          null,
          null,
          null,
          null,
          null,
          null,
          null,
          null,
          null,
          null,
          null,
          null,
          null,
          null,
          null,
          null,
          null,
          null,
          null,
          null,
          null,
          null,
          null,
          null,
          null,
          null,
          null,
          null,
          null,
          null,
          null,
          null,
          null,
          1.2944197505971688,
          1.1055974526991832,
          0.8288040405223691,
          null,
          null,
          null,
          null,
          null,
          null,
          null,
          null,
          null,
          null,
          null,
          null,
          null,
          null,
          null,
          null,
          null,
          null,
          null,
          null,
          null,
          null,
          null,
          null,
          null,
          -0.5957323517381067,
          -0.40865548206913155,
          -0.2549769892614473,
          -0.11653894669959375,
          0.011218142516108531,
          0.12967054305219172,
          0.2391524869203595,
          0.33966475016774006,
          0.43116337093658375,
          0.5136851244770988,
          0.5873965178274394,
          0.6526025543260243,
          0.7097334322761035,
          0.7593197694460193,
          0.8019631775205454,
          0.8383067268760205,
          0.8690082003658867,
          0.8947177496053116,
          0.9160605663405689,
          -1.0759798173451647,
          -1.0930230847075848,
          -1.1124726334966164,
          -1.1342482575885002,
          -1.1581252394163108,
          -1.1837078580012594,
          -1.2104077835558207,
          -1.2374295843371694,
          -1.2637649135931361,
          -1.2881957899499288,
          -1.3093056089227395,
          -1.3254938074629479,
          -1.3349855986290065,
          -1.3358196023774376,
          -1.3257768701395718,
          -1.302162910073117,
          -1.2611830662908374,
          -1.1958941616943903,
          -1.0858856442131688,
          null,
          null,
          null,
          null,
          null,
          null,
          null,
          null,
          null,
          null,
          null,
          null,
          null,
          null,
          null,
          null,
          null,
          null,
          null,
          null,
          null,
          null,
          null,
          null,
          null,
          0.6945126304936264,
          0.7949659964124067,
          1.0183042318944833,
          null,
          null,
          null,
          null,
          null,
          null,
          null,
          null,
          null,
          null,
          null,
          null,
          null,
          null,
          null,
          null,
          null,
          null,
          null,
          null,
          null,
          null,
          null,
          null,
          null,
          null,
          null,
          null,
          null,
          null,
          null,
          null,
          null
         ]
        },
        {
         "fill": "toself",
         "fillcolor": "rgba(189,195,199,0.5)",
         "hoverinfo": "skip",
         "line": {
          "color": "rgba(200,200,200,0)"
         },
         "name": "mean plus/minus 2*standard deviation",
         "showlegend": true,
         "type": "scatter",
         "visible": true,
         "x": [
          -1,
          -0.9,
          -0.8,
          -0.7000000000000001,
          -0.6000000000000001,
          -0.5000000000000001,
          -0.40000000000000013,
          -0.30000000000000016,
          -0.20000000000000018,
          -0.1000000000000002,
          -2.220446049250313e-16,
          0.09999999999999964,
          0.19999999999999973,
          0.2999999999999998,
          0.3999999999999997,
          0.49999999999999956,
          0.5999999999999996,
          0.6999999999999997,
          0.7999999999999996,
          0.8999999999999995,
          0.9999999999999996,
          1.0999999999999996,
          1.1999999999999993,
          1.2999999999999994,
          1.3999999999999995,
          1.4999999999999996,
          1.5999999999999996,
          1.6999999999999993,
          1.7999999999999994,
          1.8999999999999995,
          1.9999999999999991,
          2.099999999999999,
          2.1999999999999993,
          2.2999999999999994,
          2.3999999999999995,
          2.499999999999999,
          2.599999999999999,
          2.6999999999999993,
          2.799999999999999,
          2.899999999999999,
          2.999999999999999,
          3.0999999999999988,
          3.1999999999999993,
          3.299999999999999,
          3.3999999999999986,
          3.499999999999999,
          3.5999999999999988,
          3.6999999999999993,
          3.799999999999999,
          3.8999999999999986,
          3.999999999999999,
          4.099999999999999,
          4.199999999999999,
          4.299999999999999,
          4.399999999999999,
          4.499999999999999,
          4.599999999999999,
          4.699999999999998,
          4.799999999999999,
          4.899999999999999,
          4.999999999999998,
          5.099999999999999,
          5.199999999999998,
          5.299999999999999,
          5.399999999999999,
          5.499999999999998,
          5.599999999999999,
          5.699999999999998,
          5.799999999999999,
          5.899999999999999,
          5.999999999999998,
          6.099999999999999,
          6.199999999999998,
          6.299999999999998,
          6.399999999999999,
          6.499999999999998,
          6.599999999999998,
          6.699999999999998,
          6.799999999999998,
          6.899999999999999,
          6.899999999999999,
          6.799999999999998,
          6.699999999999998,
          6.599999999999998,
          6.499999999999998,
          6.399999999999999,
          6.299999999999998,
          6.199999999999998,
          6.099999999999999,
          5.999999999999998,
          5.899999999999999,
          5.799999999999999,
          5.699999999999998,
          5.599999999999999,
          5.499999999999998,
          5.399999999999999,
          5.299999999999999,
          5.199999999999998,
          5.099999999999999,
          4.999999999999998,
          4.899999999999999,
          4.799999999999999,
          4.699999999999998,
          4.599999999999999,
          4.499999999999999,
          4.399999999999999,
          4.299999999999999,
          4.199999999999999,
          4.099999999999999,
          3.999999999999999,
          3.8999999999999986,
          3.799999999999999,
          3.6999999999999993,
          3.5999999999999988,
          3.499999999999999,
          3.3999999999999986,
          3.299999999999999,
          3.1999999999999993,
          3.0999999999999988,
          2.999999999999999,
          2.899999999999999,
          2.799999999999999,
          2.6999999999999993,
          2.599999999999999,
          2.499999999999999,
          2.3999999999999995,
          2.2999999999999994,
          2.1999999999999993,
          2.099999999999999,
          1.9999999999999991,
          1.8999999999999995,
          1.7999999999999994,
          1.6999999999999993,
          1.5999999999999996,
          1.4999999999999996,
          1.3999999999999995,
          1.2999999999999994,
          1.1999999999999993,
          1.0999999999999996,
          0.9999999999999996,
          0.8999999999999995,
          0.7999999999999996,
          0.6999999999999997,
          0.5999999999999996,
          0.49999999999999956,
          0.3999999999999997,
          0.2999999999999998,
          0.19999999999999973,
          0.09999999999999964,
          -2.220446049250313e-16,
          -0.1000000000000002,
          -0.20000000000000018,
          -0.30000000000000016,
          -0.40000000000000013,
          -0.5000000000000001,
          -0.6000000000000001,
          -0.7000000000000001,
          -0.8,
          -0.9,
          -1
         ],
         "y": [
          null,
          null,
          null,
          null,
          null,
          null,
          null,
          null,
          null,
          null,
          null,
          null,
          null,
          null,
          null,
          null,
          null,
          null,
          null,
          null,
          null,
          null,
          null,
          null,
          null,
          null,
          null,
          null,
          null,
          null,
          null,
          null,
          null,
          1.2944197505971688,
          1.1055974526991832,
          0.8288040405223691,
          null,
          null,
          null,
          null,
          null,
          null,
          null,
          null,
          null,
          null,
          null,
          null,
          null,
          null,
          null,
          null,
          null,
          null,
          null,
          null,
          null,
          null,
          null,
          null,
          null,
          -0.5957323517381067,
          -0.40865548206913155,
          -0.2549769892614473,
          -0.11653894669959375,
          0.011218142516108531,
          0.12967054305219172,
          0.2391524869203595,
          0.33966475016774006,
          0.43116337093658375,
          0.5136851244770988,
          0.5873965178274394,
          0.6526025543260243,
          0.7097334322761035,
          0.7593197694460193,
          0.8019631775205454,
          0.8383067268760205,
          0.8690082003658867,
          0.8947177496053116,
          0.9160605663405689,
          -1.0759798173451647,
          -1.0930230847075848,
          -1.1124726334966164,
          -1.1342482575885002,
          -1.1581252394163108,
          -1.1837078580012594,
          -1.2104077835558207,
          -1.2374295843371694,
          -1.2637649135931361,
          -1.2881957899499288,
          -1.3093056089227395,
          -1.3254938074629479,
          -1.3349855986290065,
          -1.3358196023774376,
          -1.3257768701395718,
          -1.302162910073117,
          -1.2611830662908374,
          -1.1958941616943903,
          -1.0858856442131688,
          null,
          null,
          null,
          null,
          null,
          null,
          null,
          null,
          null,
          null,
          null,
          null,
          null,
          null,
          null,
          null,
          null,
          null,
          null,
          null,
          null,
          null,
          null,
          null,
          null,
          0.6945126304936264,
          0.7949659964124067,
          1.0183042318944833,
          null,
          null,
          null,
          null,
          null,
          null,
          null,
          null,
          null,
          null,
          null,
          null,
          null,
          null,
          null,
          null,
          null,
          null,
          null,
          null,
          null,
          null,
          null,
          null,
          null,
          null,
          null,
          null,
          null,
          null,
          null,
          null,
          null
         ]
        },
        {
         "fill": "toself",
         "fillcolor": "rgba(189,195,199,0.5)",
         "hoverinfo": "skip",
         "line": {
          "color": "rgba(200,200,200,0)"
         },
         "name": "mean plus/minus 3*standard deviation",
         "showlegend": true,
         "type": "scatter",
         "visible": true,
         "x": [
          -1,
          -0.9,
          -0.8,
          -0.7000000000000001,
          -0.6000000000000001,
          -0.5000000000000001,
          -0.40000000000000013,
          -0.30000000000000016,
          -0.20000000000000018,
          -0.1000000000000002,
          -2.220446049250313e-16,
          0.09999999999999964,
          0.19999999999999973,
          0.2999999999999998,
          0.3999999999999997,
          0.49999999999999956,
          0.5999999999999996,
          0.6999999999999997,
          0.7999999999999996,
          0.8999999999999995,
          0.9999999999999996,
          1.0999999999999996,
          1.1999999999999993,
          1.2999999999999994,
          1.3999999999999995,
          1.4999999999999996,
          1.5999999999999996,
          1.6999999999999993,
          1.7999999999999994,
          1.8999999999999995,
          1.9999999999999991,
          2.099999999999999,
          2.1999999999999993,
          2.2999999999999994,
          2.3999999999999995,
          2.499999999999999,
          2.599999999999999,
          2.6999999999999993,
          2.799999999999999,
          2.899999999999999,
          2.999999999999999,
          3.0999999999999988,
          3.1999999999999993,
          3.299999999999999,
          3.3999999999999986,
          3.499999999999999,
          3.5999999999999988,
          3.6999999999999993,
          3.799999999999999,
          3.8999999999999986,
          3.999999999999999,
          4.099999999999999,
          4.199999999999999,
          4.299999999999999,
          4.399999999999999,
          4.499999999999999,
          4.599999999999999,
          4.699999999999998,
          4.799999999999999,
          4.899999999999999,
          4.999999999999998,
          5.099999999999999,
          5.199999999999998,
          5.299999999999999,
          5.399999999999999,
          5.499999999999998,
          5.599999999999999,
          5.699999999999998,
          5.799999999999999,
          5.899999999999999,
          5.999999999999998,
          6.099999999999999,
          6.199999999999998,
          6.299999999999998,
          6.399999999999999,
          6.499999999999998,
          6.599999999999998,
          6.699999999999998,
          6.799999999999998,
          6.899999999999999,
          6.899999999999999,
          6.799999999999998,
          6.699999999999998,
          6.599999999999998,
          6.499999999999998,
          6.399999999999999,
          6.299999999999998,
          6.199999999999998,
          6.099999999999999,
          5.999999999999998,
          5.899999999999999,
          5.799999999999999,
          5.699999999999998,
          5.599999999999999,
          5.499999999999998,
          5.399999999999999,
          5.299999999999999,
          5.199999999999998,
          5.099999999999999,
          4.999999999999998,
          4.899999999999999,
          4.799999999999999,
          4.699999999999998,
          4.599999999999999,
          4.499999999999999,
          4.399999999999999,
          4.299999999999999,
          4.199999999999999,
          4.099999999999999,
          3.999999999999999,
          3.8999999999999986,
          3.799999999999999,
          3.6999999999999993,
          3.5999999999999988,
          3.499999999999999,
          3.3999999999999986,
          3.299999999999999,
          3.1999999999999993,
          3.0999999999999988,
          2.999999999999999,
          2.899999999999999,
          2.799999999999999,
          2.6999999999999993,
          2.599999999999999,
          2.499999999999999,
          2.3999999999999995,
          2.2999999999999994,
          2.1999999999999993,
          2.099999999999999,
          1.9999999999999991,
          1.8999999999999995,
          1.7999999999999994,
          1.6999999999999993,
          1.5999999999999996,
          1.4999999999999996,
          1.3999999999999995,
          1.2999999999999994,
          1.1999999999999993,
          1.0999999999999996,
          0.9999999999999996,
          0.8999999999999995,
          0.7999999999999996,
          0.6999999999999997,
          0.5999999999999996,
          0.49999999999999956,
          0.3999999999999997,
          0.2999999999999998,
          0.19999999999999973,
          0.09999999999999964,
          -2.220446049250313e-16,
          -0.1000000000000002,
          -0.20000000000000018,
          -0.30000000000000016,
          -0.40000000000000013,
          -0.5000000000000001,
          -0.6000000000000001,
          -0.7000000000000001,
          -0.8,
          -0.9,
          -1
         ],
         "y": [
          null,
          null,
          null,
          null,
          null,
          null,
          null,
          null,
          null,
          null,
          null,
          null,
          null,
          null,
          null,
          null,
          null,
          null,
          null,
          null,
          null,
          null,
          null,
          null,
          null,
          null,
          null,
          null,
          null,
          null,
          null,
          null,
          null,
          1.2944197505971688,
          1.1055974526991832,
          0.8288040405223691,
          null,
          null,
          null,
          null,
          null,
          null,
          null,
          null,
          null,
          null,
          null,
          null,
          null,
          null,
          null,
          null,
          null,
          null,
          null,
          null,
          null,
          null,
          null,
          null,
          null,
          -0.5957323517381067,
          -0.40865548206913155,
          -0.2549769892614473,
          -0.11653894669959375,
          0.011218142516108531,
          0.12967054305219172,
          0.2391524869203595,
          0.33966475016774006,
          0.43116337093658375,
          0.5136851244770988,
          0.5873965178274394,
          0.6526025543260243,
          0.7097334322761035,
          0.7593197694460193,
          0.8019631775205454,
          0.8383067268760205,
          0.8690082003658867,
          0.8947177496053116,
          0.9160605663405689,
          -1.0759798173451647,
          -1.0930230847075848,
          -1.1124726334966164,
          -1.1342482575885002,
          -1.1581252394163108,
          -1.1837078580012594,
          -1.2104077835558207,
          -1.2374295843371694,
          -1.2637649135931361,
          -1.2881957899499288,
          -1.3093056089227395,
          -1.3254938074629479,
          -1.3349855986290065,
          -1.3358196023774376,
          -1.3257768701395718,
          -1.302162910073117,
          -1.2611830662908374,
          -1.1958941616943903,
          -1.0858856442131688,
          null,
          null,
          null,
          null,
          null,
          null,
          null,
          null,
          null,
          null,
          null,
          null,
          null,
          null,
          null,
          null,
          null,
          null,
          null,
          null,
          null,
          null,
          null,
          null,
          null,
          0.6945126304936264,
          0.7949659964124067,
          1.0183042318944833,
          null,
          null,
          null,
          null,
          null,
          null,
          null,
          null,
          null,
          null,
          null,
          null,
          null,
          null,
          null,
          null,
          null,
          null,
          null,
          null,
          null,
          null,
          null,
          null,
          null,
          null,
          null,
          null,
          null,
          null,
          null,
          null,
          null
         ]
        },
        {
         "line": {
          "color": "blue",
          "width": 2
         },
         "name": "Predicted function",
         "showlegend": true,
         "type": "scatter",
         "visible": true,
         "x": [
          -1,
          -0.9,
          -0.8,
          -0.7000000000000001,
          -0.6000000000000001,
          -0.5000000000000001,
          -0.40000000000000013,
          -0.30000000000000016,
          -0.20000000000000018,
          -0.1000000000000002,
          -2.220446049250313e-16,
          0.09999999999999964,
          0.19999999999999973,
          0.2999999999999998,
          0.3999999999999997,
          0.49999999999999956,
          0.5999999999999996,
          0.6999999999999997,
          0.7999999999999996,
          0.8999999999999995,
          0.9999999999999996,
          1.0999999999999996,
          1.1999999999999993,
          1.2999999999999994,
          1.3999999999999995,
          1.4999999999999996,
          1.5999999999999996,
          1.6999999999999993,
          1.7999999999999994,
          1.8999999999999995,
          1.9999999999999991,
          2.099999999999999,
          2.1999999999999993,
          2.2999999999999994,
          2.3999999999999995,
          2.499999999999999,
          2.599999999999999,
          2.6999999999999993,
          2.799999999999999,
          2.899999999999999,
          2.999999999999999,
          3.0999999999999988,
          3.1999999999999993,
          3.299999999999999,
          3.3999999999999986,
          3.499999999999999,
          3.5999999999999988,
          3.6999999999999993,
          3.799999999999999,
          3.8999999999999986,
          3.999999999999999,
          4.099999999999999,
          4.199999999999999,
          4.299999999999999,
          4.399999999999999,
          4.499999999999999,
          4.599999999999999,
          4.699999999999998,
          4.799999999999999,
          4.899999999999999,
          4.999999999999998,
          5.099999999999999,
          5.199999999999998,
          5.299999999999999,
          5.399999999999999,
          5.499999999999998,
          5.599999999999999,
          5.699999999999998,
          5.799999999999999,
          5.899999999999999,
          5.999999999999998,
          6.099999999999999,
          6.199999999999998,
          6.299999999999998,
          6.399999999999999,
          6.499999999999998,
          6.599999999999998,
          6.699999999999998,
          6.799999999999998,
          6.899999999999999
         ],
         "y": [
          2.2742930776944945,
          2.5618450243718796,
          2.8599954263762233,
          3.164498543010731,
          3.4705069135371396,
          3.7726889232550516,
          4.065377425169417,
          4.34274378416751,
          4.598989808755847,
          4.828548567072691,
          5.026284180396679,
          5.187680433591611,
          5.309008467543226,
          5.387464895333677,
          5.42127332873076,
          5.409744386038254,
          5.3532916157996,
          5.253403236467488,
          5.112571983645189,
          4.934187513427274,
          4.72239760064278,
          4.481945699349469,
          4.2179932459414085,
          3.9359353702832154,
          3.6412184628014965,
          3.339167382514681,
          3.0348290633605988,
          2.7328379797757085,
          2.4373074697486907,
          2.151749385732924,
          1.8790230441606823,
          1.621313052938748,
          1.3801343762733926,
          1.156361991245826,
          0.950281724555795,
          0.7616583355079978,
          0.5898166206173041,
          0.4337312309713438,
          0.2921209818801482,
          0.1635436578670979,
          0.04648763844593575,
          -0.06054293947142233,
          -0.1589523308149728,
          -0.2499890231568693,
          -0.33469515222290475,
          -0.41387084774373656,
          -0.48805430196719835,
          -0.5575177509046829,
          -0.6222789203302149,
          -0.6821268275941683,
          -0.7366601709202221,
          -0.7853359156753567,
          -0.8275251462884667,
          -0.8625728409470427,
          -0.8898579893955828,
          -0.9088504484116309,
          -0.9191611357924668,
          -0.9205826028329495,
          -0.9131176758001682,
          -0.8969946754121849,
          -0.8726686479445928,
          -0.8408089979756377,
          -0.8022748218817609,
          -0.7580800277761424,
          -0.7093509283863554,
          -0.6572793638117316,
          -0.603074529662623,
          -0.5479165558543235,
          -0.49291452864760393,
          -0.4390711189930778,
          -0.387255332736415,
          -0.33818419788284837,
          -0.29241351500557256,
          -0.2503371756398586,
          -0.21219404427762012,
          -0.1780810309478828,
          -0.14797076535623985,
          -0.12173221656536491,
          -0.09915266755113664,
          -0.07995962550229789
         ]
        },
        {
         "marker": {
          "color": "red",
          "size": 8
         },
         "mode": "markers",
         "name": "Observed points",
         "showlegend": true,
         "type": "scatter",
         "visible": true,
         "x": [
          0,
          0.3,
          1,
          3.1,
          4.7
         ],
         "y": [
          1,
          0,
          1.4,
          0,
          -0.9
         ]
        }
       ],
       "layout": {
        "autosize": false,
        "height": 600,
        "legend": {
         "x": 0.95,
         "xanchor": "right",
         "y": 0.9,
         "yanchor": "top"
        },
        "plot_bgcolor": "rgba(0,0,0,0)",
        "template": {
         "data": {
          "bar": [
           {
            "error_x": {
             "color": "#2a3f5f"
            },
            "error_y": {
             "color": "#2a3f5f"
            },
            "marker": {
             "line": {
              "color": "#E5ECF6",
              "width": 0.5
             },
             "pattern": {
              "fillmode": "overlay",
              "size": 10,
              "solidity": 0.2
             }
            },
            "type": "bar"
           }
          ],
          "barpolar": [
           {
            "marker": {
             "line": {
              "color": "#E5ECF6",
              "width": 0.5
             },
             "pattern": {
              "fillmode": "overlay",
              "size": 10,
              "solidity": 0.2
             }
            },
            "type": "barpolar"
           }
          ],
          "carpet": [
           {
            "aaxis": {
             "endlinecolor": "#2a3f5f",
             "gridcolor": "white",
             "linecolor": "white",
             "minorgridcolor": "white",
             "startlinecolor": "#2a3f5f"
            },
            "baxis": {
             "endlinecolor": "#2a3f5f",
             "gridcolor": "white",
             "linecolor": "white",
             "minorgridcolor": "white",
             "startlinecolor": "#2a3f5f"
            },
            "type": "carpet"
           }
          ],
          "choropleth": [
           {
            "colorbar": {
             "outlinewidth": 0,
             "ticks": ""
            },
            "type": "choropleth"
           }
          ],
          "contour": [
           {
            "colorbar": {
             "outlinewidth": 0,
             "ticks": ""
            },
            "colorscale": [
             [
              0,
              "#0d0887"
             ],
             [
              0.1111111111111111,
              "#46039f"
             ],
             [
              0.2222222222222222,
              "#7201a8"
             ],
             [
              0.3333333333333333,
              "#9c179e"
             ],
             [
              0.4444444444444444,
              "#bd3786"
             ],
             [
              0.5555555555555556,
              "#d8576b"
             ],
             [
              0.6666666666666666,
              "#ed7953"
             ],
             [
              0.7777777777777778,
              "#fb9f3a"
             ],
             [
              0.8888888888888888,
              "#fdca26"
             ],
             [
              1,
              "#f0f921"
             ]
            ],
            "type": "contour"
           }
          ],
          "contourcarpet": [
           {
            "colorbar": {
             "outlinewidth": 0,
             "ticks": ""
            },
            "type": "contourcarpet"
           }
          ],
          "heatmap": [
           {
            "colorbar": {
             "outlinewidth": 0,
             "ticks": ""
            },
            "colorscale": [
             [
              0,
              "#0d0887"
             ],
             [
              0.1111111111111111,
              "#46039f"
             ],
             [
              0.2222222222222222,
              "#7201a8"
             ],
             [
              0.3333333333333333,
              "#9c179e"
             ],
             [
              0.4444444444444444,
              "#bd3786"
             ],
             [
              0.5555555555555556,
              "#d8576b"
             ],
             [
              0.6666666666666666,
              "#ed7953"
             ],
             [
              0.7777777777777778,
              "#fb9f3a"
             ],
             [
              0.8888888888888888,
              "#fdca26"
             ],
             [
              1,
              "#f0f921"
             ]
            ],
            "type": "heatmap"
           }
          ],
          "heatmapgl": [
           {
            "colorbar": {
             "outlinewidth": 0,
             "ticks": ""
            },
            "colorscale": [
             [
              0,
              "#0d0887"
             ],
             [
              0.1111111111111111,
              "#46039f"
             ],
             [
              0.2222222222222222,
              "#7201a8"
             ],
             [
              0.3333333333333333,
              "#9c179e"
             ],
             [
              0.4444444444444444,
              "#bd3786"
             ],
             [
              0.5555555555555556,
              "#d8576b"
             ],
             [
              0.6666666666666666,
              "#ed7953"
             ],
             [
              0.7777777777777778,
              "#fb9f3a"
             ],
             [
              0.8888888888888888,
              "#fdca26"
             ],
             [
              1,
              "#f0f921"
             ]
            ],
            "type": "heatmapgl"
           }
          ],
          "histogram": [
           {
            "marker": {
             "pattern": {
              "fillmode": "overlay",
              "size": 10,
              "solidity": 0.2
             }
            },
            "type": "histogram"
           }
          ],
          "histogram2d": [
           {
            "colorbar": {
             "outlinewidth": 0,
             "ticks": ""
            },
            "colorscale": [
             [
              0,
              "#0d0887"
             ],
             [
              0.1111111111111111,
              "#46039f"
             ],
             [
              0.2222222222222222,
              "#7201a8"
             ],
             [
              0.3333333333333333,
              "#9c179e"
             ],
             [
              0.4444444444444444,
              "#bd3786"
             ],
             [
              0.5555555555555556,
              "#d8576b"
             ],
             [
              0.6666666666666666,
              "#ed7953"
             ],
             [
              0.7777777777777778,
              "#fb9f3a"
             ],
             [
              0.8888888888888888,
              "#fdca26"
             ],
             [
              1,
              "#f0f921"
             ]
            ],
            "type": "histogram2d"
           }
          ],
          "histogram2dcontour": [
           {
            "colorbar": {
             "outlinewidth": 0,
             "ticks": ""
            },
            "colorscale": [
             [
              0,
              "#0d0887"
             ],
             [
              0.1111111111111111,
              "#46039f"
             ],
             [
              0.2222222222222222,
              "#7201a8"
             ],
             [
              0.3333333333333333,
              "#9c179e"
             ],
             [
              0.4444444444444444,
              "#bd3786"
             ],
             [
              0.5555555555555556,
              "#d8576b"
             ],
             [
              0.6666666666666666,
              "#ed7953"
             ],
             [
              0.7777777777777778,
              "#fb9f3a"
             ],
             [
              0.8888888888888888,
              "#fdca26"
             ],
             [
              1,
              "#f0f921"
             ]
            ],
            "type": "histogram2dcontour"
           }
          ],
          "mesh3d": [
           {
            "colorbar": {
             "outlinewidth": 0,
             "ticks": ""
            },
            "type": "mesh3d"
           }
          ],
          "parcoords": [
           {
            "line": {
             "colorbar": {
              "outlinewidth": 0,
              "ticks": ""
             }
            },
            "type": "parcoords"
           }
          ],
          "pie": [
           {
            "automargin": true,
            "type": "pie"
           }
          ],
          "scatter": [
           {
            "marker": {
             "colorbar": {
              "outlinewidth": 0,
              "ticks": ""
             }
            },
            "type": "scatter"
           }
          ],
          "scatter3d": [
           {
            "line": {
             "colorbar": {
              "outlinewidth": 0,
              "ticks": ""
             }
            },
            "marker": {
             "colorbar": {
              "outlinewidth": 0,
              "ticks": ""
             }
            },
            "type": "scatter3d"
           }
          ],
          "scattercarpet": [
           {
            "marker": {
             "colorbar": {
              "outlinewidth": 0,
              "ticks": ""
             }
            },
            "type": "scattercarpet"
           }
          ],
          "scattergeo": [
           {
            "marker": {
             "colorbar": {
              "outlinewidth": 0,
              "ticks": ""
             }
            },
            "type": "scattergeo"
           }
          ],
          "scattergl": [
           {
            "marker": {
             "colorbar": {
              "outlinewidth": 0,
              "ticks": ""
             }
            },
            "type": "scattergl"
           }
          ],
          "scattermapbox": [
           {
            "marker": {
             "colorbar": {
              "outlinewidth": 0,
              "ticks": ""
             }
            },
            "type": "scattermapbox"
           }
          ],
          "scatterpolar": [
           {
            "marker": {
             "colorbar": {
              "outlinewidth": 0,
              "ticks": ""
             }
            },
            "type": "scatterpolar"
           }
          ],
          "scatterpolargl": [
           {
            "marker": {
             "colorbar": {
              "outlinewidth": 0,
              "ticks": ""
             }
            },
            "type": "scatterpolargl"
           }
          ],
          "scatterternary": [
           {
            "marker": {
             "colorbar": {
              "outlinewidth": 0,
              "ticks": ""
             }
            },
            "type": "scatterternary"
           }
          ],
          "surface": [
           {
            "colorbar": {
             "outlinewidth": 0,
             "ticks": ""
            },
            "colorscale": [
             [
              0,
              "#0d0887"
             ],
             [
              0.1111111111111111,
              "#46039f"
             ],
             [
              0.2222222222222222,
              "#7201a8"
             ],
             [
              0.3333333333333333,
              "#9c179e"
             ],
             [
              0.4444444444444444,
              "#bd3786"
             ],
             [
              0.5555555555555556,
              "#d8576b"
             ],
             [
              0.6666666666666666,
              "#ed7953"
             ],
             [
              0.7777777777777778,
              "#fb9f3a"
             ],
             [
              0.8888888888888888,
              "#fdca26"
             ],
             [
              1,
              "#f0f921"
             ]
            ],
            "type": "surface"
           }
          ],
          "table": [
           {
            "cells": {
             "fill": {
              "color": "#EBF0F8"
             },
             "line": {
              "color": "white"
             }
            },
            "header": {
             "fill": {
              "color": "#C8D4E3"
             },
             "line": {
              "color": "white"
             }
            },
            "type": "table"
           }
          ]
         },
         "layout": {
          "annotationdefaults": {
           "arrowcolor": "#2a3f5f",
           "arrowhead": 0,
           "arrowwidth": 1
          },
          "autotypenumbers": "strict",
          "coloraxis": {
           "colorbar": {
            "outlinewidth": 0,
            "ticks": ""
           }
          },
          "colorscale": {
           "diverging": [
            [
             0,
             "#8e0152"
            ],
            [
             0.1,
             "#c51b7d"
            ],
            [
             0.2,
             "#de77ae"
            ],
            [
             0.3,
             "#f1b6da"
            ],
            [
             0.4,
             "#fde0ef"
            ],
            [
             0.5,
             "#f7f7f7"
            ],
            [
             0.6,
             "#e6f5d0"
            ],
            [
             0.7,
             "#b8e186"
            ],
            [
             0.8,
             "#7fbc41"
            ],
            [
             0.9,
             "#4d9221"
            ],
            [
             1,
             "#276419"
            ]
           ],
           "sequential": [
            [
             0,
             "#0d0887"
            ],
            [
             0.1111111111111111,
             "#46039f"
            ],
            [
             0.2222222222222222,
             "#7201a8"
            ],
            [
             0.3333333333333333,
             "#9c179e"
            ],
            [
             0.4444444444444444,
             "#bd3786"
            ],
            [
             0.5555555555555556,
             "#d8576b"
            ],
            [
             0.6666666666666666,
             "#ed7953"
            ],
            [
             0.7777777777777778,
             "#fb9f3a"
            ],
            [
             0.8888888888888888,
             "#fdca26"
            ],
            [
             1,
             "#f0f921"
            ]
           ],
           "sequentialminus": [
            [
             0,
             "#0d0887"
            ],
            [
             0.1111111111111111,
             "#46039f"
            ],
            [
             0.2222222222222222,
             "#7201a8"
            ],
            [
             0.3333333333333333,
             "#9c179e"
            ],
            [
             0.4444444444444444,
             "#bd3786"
            ],
            [
             0.5555555555555556,
             "#d8576b"
            ],
            [
             0.6666666666666666,
             "#ed7953"
            ],
            [
             0.7777777777777778,
             "#fb9f3a"
            ],
            [
             0.8888888888888888,
             "#fdca26"
            ],
            [
             1,
             "#f0f921"
            ]
           ]
          },
          "colorway": [
           "#636efa",
           "#EF553B",
           "#00cc96",
           "#ab63fa",
           "#FFA15A",
           "#19d3f3",
           "#FF6692",
           "#B6E880",
           "#FF97FF",
           "#FECB52"
          ],
          "font": {
           "color": "#2a3f5f"
          },
          "geo": {
           "bgcolor": "white",
           "lakecolor": "white",
           "landcolor": "#E5ECF6",
           "showlakes": true,
           "showland": true,
           "subunitcolor": "white"
          },
          "hoverlabel": {
           "align": "left"
          },
          "hovermode": "closest",
          "mapbox": {
           "style": "light"
          },
          "paper_bgcolor": "white",
          "plot_bgcolor": "#E5ECF6",
          "polar": {
           "angularaxis": {
            "gridcolor": "white",
            "linecolor": "white",
            "ticks": ""
           },
           "bgcolor": "#E5ECF6",
           "radialaxis": {
            "gridcolor": "white",
            "linecolor": "white",
            "ticks": ""
           }
          },
          "scene": {
           "xaxis": {
            "backgroundcolor": "#E5ECF6",
            "gridcolor": "white",
            "gridwidth": 2,
            "linecolor": "white",
            "showbackground": true,
            "ticks": "",
            "zerolinecolor": "white"
           },
           "yaxis": {
            "backgroundcolor": "#E5ECF6",
            "gridcolor": "white",
            "gridwidth": 2,
            "linecolor": "white",
            "showbackground": true,
            "ticks": "",
            "zerolinecolor": "white"
           },
           "zaxis": {
            "backgroundcolor": "#E5ECF6",
            "gridcolor": "white",
            "gridwidth": 2,
            "linecolor": "white",
            "showbackground": true,
            "ticks": "",
            "zerolinecolor": "white"
           }
          },
          "shapedefaults": {
           "line": {
            "color": "#2a3f5f"
           }
          },
          "ternary": {
           "aaxis": {
            "gridcolor": "white",
            "linecolor": "white",
            "ticks": ""
           },
           "baxis": {
            "gridcolor": "white",
            "linecolor": "white",
            "ticks": ""
           },
           "bgcolor": "#E5ECF6",
           "caxis": {
            "gridcolor": "white",
            "linecolor": "white",
            "ticks": ""
           }
          },
          "title": {
           "x": 0.05
          },
          "xaxis": {
           "automargin": true,
           "gridcolor": "white",
           "linecolor": "white",
           "ticks": "",
           "title": {
            "standoff": 15
           },
           "zerolinecolor": "white",
           "zerolinewidth": 2
          },
          "yaxis": {
           "automargin": true,
           "gridcolor": "white",
           "linecolor": "white",
           "ticks": "",
           "title": {
            "standoff": 15
           },
           "zerolinecolor": "white",
           "zerolinewidth": 2
          }
         }
        },
        "title": {
         "text": "GPR with length 1, sigma 0 and noise 0",
         "x": 0.5,
         "xanchor": "center"
        },
        "width": 800,
        "xaxis": {
         "linecolor": "black",
         "linewidth": 1,
         "showline": true,
         "title": {
          "text": "input values"
         }
        },
        "yaxis": {
         "linecolor": "black",
         "linewidth": 1,
         "showline": true,
         "title": {
          "text": "output values"
         }
        }
       }
      },
      "text/html": [
       "<div>                            <div id=\"229e5d74-d0e9-4f1e-a036-270ca2c2ced6\" class=\"plotly-graph-div\" style=\"height:600px; width:800px;\"></div>            <script type=\"text/javascript\">                require([\"plotly\"], function(Plotly) {                    window.PLOTLYENV=window.PLOTLYENV || {};                                    if (document.getElementById(\"229e5d74-d0e9-4f1e-a036-270ca2c2ced6\")) {                    Plotly.newPlot(                        \"229e5d74-d0e9-4f1e-a036-270ca2c2ced6\",                        [{\"fill\":\"toself\",\"fillcolor\":\"rgba(189,195,199,0.5)\",\"hoverinfo\":\"skip\",\"line\":{\"color\":\"rgba(200,200,200,0)\"},\"name\":\"mean plus/minus 1*standard deviation\",\"showlegend\":true,\"visible\":true,\"x\":[-1.0,-0.9,-0.8,-0.7000000000000001,-0.6000000000000001,-0.5000000000000001,-0.40000000000000013,-0.30000000000000016,-0.20000000000000018,-0.1000000000000002,-2.220446049250313e-16,0.09999999999999964,0.19999999999999973,0.2999999999999998,0.3999999999999997,0.49999999999999956,0.5999999999999996,0.6999999999999997,0.7999999999999996,0.8999999999999995,0.9999999999999996,1.0999999999999996,1.1999999999999993,1.2999999999999994,1.3999999999999995,1.4999999999999996,1.5999999999999996,1.6999999999999993,1.7999999999999994,1.8999999999999995,1.9999999999999991,2.099999999999999,2.1999999999999993,2.2999999999999994,2.3999999999999995,2.499999999999999,2.599999999999999,2.6999999999999993,2.799999999999999,2.899999999999999,2.999999999999999,3.0999999999999988,3.1999999999999993,3.299999999999999,3.3999999999999986,3.499999999999999,3.5999999999999988,3.6999999999999993,3.799999999999999,3.8999999999999986,3.999999999999999,4.099999999999999,4.199999999999999,4.299999999999999,4.399999999999999,4.499999999999999,4.599999999999999,4.699999999999998,4.799999999999999,4.899999999999999,4.999999999999998,5.099999999999999,5.199999999999998,5.299999999999999,5.399999999999999,5.499999999999998,5.599999999999999,5.699999999999998,5.799999999999999,5.899999999999999,5.999999999999998,6.099999999999999,6.199999999999998,6.299999999999998,6.399999999999999,6.499999999999998,6.599999999999998,6.699999999999998,6.799999999999998,6.899999999999999,6.899999999999999,6.799999999999998,6.699999999999998,6.599999999999998,6.499999999999998,6.399999999999999,6.299999999999998,6.199999999999998,6.099999999999999,5.999999999999998,5.899999999999999,5.799999999999999,5.699999999999998,5.599999999999999,5.499999999999998,5.399999999999999,5.299999999999999,5.199999999999998,5.099999999999999,4.999999999999998,4.899999999999999,4.799999999999999,4.699999999999998,4.599999999999999,4.499999999999999,4.399999999999999,4.299999999999999,4.199999999999999,4.099999999999999,3.999999999999999,3.8999999999999986,3.799999999999999,3.6999999999999993,3.5999999999999988,3.499999999999999,3.3999999999999986,3.299999999999999,3.1999999999999993,3.0999999999999988,2.999999999999999,2.899999999999999,2.799999999999999,2.6999999999999993,2.599999999999999,2.499999999999999,2.3999999999999995,2.2999999999999994,2.1999999999999993,2.099999999999999,1.9999999999999991,1.8999999999999995,1.7999999999999994,1.6999999999999993,1.5999999999999996,1.4999999999999996,1.3999999999999995,1.2999999999999994,1.1999999999999993,1.0999999999999996,0.9999999999999996,0.8999999999999995,0.7999999999999996,0.6999999999999997,0.5999999999999996,0.49999999999999956,0.3999999999999997,0.2999999999999998,0.19999999999999973,0.09999999999999964,-2.220446049250313e-16,-0.1000000000000002,-0.20000000000000018,-0.30000000000000016,-0.40000000000000013,-0.5000000000000001,-0.6000000000000001,-0.7000000000000001,-0.8,-0.9,-1.0],\"y\":[null,null,null,null,null,null,null,null,null,null,null,null,null,null,null,null,null,null,null,null,null,null,null,null,null,null,null,null,null,null,null,null,null,1.2944197505971688,1.1055974526991832,0.8288040405223691,null,null,null,null,null,null,null,null,null,null,null,null,null,null,null,null,null,null,null,null,null,null,null,null,null,-0.5957323517381067,-0.40865548206913155,-0.2549769892614473,-0.11653894669959375,0.011218142516108531,0.12967054305219172,0.2391524869203595,0.33966475016774006,0.43116337093658375,0.5136851244770988,0.5873965178274394,0.6526025543260243,0.7097334322761035,0.7593197694460193,0.8019631775205454,0.8383067268760205,0.8690082003658867,0.8947177496053116,0.9160605663405689,-1.0759798173451647,-1.0930230847075848,-1.1124726334966164,-1.1342482575885002,-1.1581252394163108,-1.1837078580012594,-1.2104077835558207,-1.2374295843371694,-1.2637649135931361,-1.2881957899499288,-1.3093056089227395,-1.3254938074629479,-1.3349855986290065,-1.3358196023774376,-1.3257768701395718,-1.302162910073117,-1.2611830662908374,-1.1958941616943903,-1.0858856442131688,null,null,null,null,null,null,null,null,null,null,null,null,null,null,null,null,null,null,null,null,null,null,null,null,null,0.6945126304936264,0.7949659964124067,1.0183042318944833,null,null,null,null,null,null,null,null,null,null,null,null,null,null,null,null,null,null,null,null,null,null,null,null,null,null,null,null,null,null,null,null,null],\"type\":\"scatter\"},{\"fill\":\"toself\",\"fillcolor\":\"rgba(189,195,199,0.5)\",\"hoverinfo\":\"skip\",\"line\":{\"color\":\"rgba(200,200,200,0)\"},\"name\":\"mean plus/minus 2*standard deviation\",\"showlegend\":true,\"visible\":true,\"x\":[-1.0,-0.9,-0.8,-0.7000000000000001,-0.6000000000000001,-0.5000000000000001,-0.40000000000000013,-0.30000000000000016,-0.20000000000000018,-0.1000000000000002,-2.220446049250313e-16,0.09999999999999964,0.19999999999999973,0.2999999999999998,0.3999999999999997,0.49999999999999956,0.5999999999999996,0.6999999999999997,0.7999999999999996,0.8999999999999995,0.9999999999999996,1.0999999999999996,1.1999999999999993,1.2999999999999994,1.3999999999999995,1.4999999999999996,1.5999999999999996,1.6999999999999993,1.7999999999999994,1.8999999999999995,1.9999999999999991,2.099999999999999,2.1999999999999993,2.2999999999999994,2.3999999999999995,2.499999999999999,2.599999999999999,2.6999999999999993,2.799999999999999,2.899999999999999,2.999999999999999,3.0999999999999988,3.1999999999999993,3.299999999999999,3.3999999999999986,3.499999999999999,3.5999999999999988,3.6999999999999993,3.799999999999999,3.8999999999999986,3.999999999999999,4.099999999999999,4.199999999999999,4.299999999999999,4.399999999999999,4.499999999999999,4.599999999999999,4.699999999999998,4.799999999999999,4.899999999999999,4.999999999999998,5.099999999999999,5.199999999999998,5.299999999999999,5.399999999999999,5.499999999999998,5.599999999999999,5.699999999999998,5.799999999999999,5.899999999999999,5.999999999999998,6.099999999999999,6.199999999999998,6.299999999999998,6.399999999999999,6.499999999999998,6.599999999999998,6.699999999999998,6.799999999999998,6.899999999999999,6.899999999999999,6.799999999999998,6.699999999999998,6.599999999999998,6.499999999999998,6.399999999999999,6.299999999999998,6.199999999999998,6.099999999999999,5.999999999999998,5.899999999999999,5.799999999999999,5.699999999999998,5.599999999999999,5.499999999999998,5.399999999999999,5.299999999999999,5.199999999999998,5.099999999999999,4.999999999999998,4.899999999999999,4.799999999999999,4.699999999999998,4.599999999999999,4.499999999999999,4.399999999999999,4.299999999999999,4.199999999999999,4.099999999999999,3.999999999999999,3.8999999999999986,3.799999999999999,3.6999999999999993,3.5999999999999988,3.499999999999999,3.3999999999999986,3.299999999999999,3.1999999999999993,3.0999999999999988,2.999999999999999,2.899999999999999,2.799999999999999,2.6999999999999993,2.599999999999999,2.499999999999999,2.3999999999999995,2.2999999999999994,2.1999999999999993,2.099999999999999,1.9999999999999991,1.8999999999999995,1.7999999999999994,1.6999999999999993,1.5999999999999996,1.4999999999999996,1.3999999999999995,1.2999999999999994,1.1999999999999993,1.0999999999999996,0.9999999999999996,0.8999999999999995,0.7999999999999996,0.6999999999999997,0.5999999999999996,0.49999999999999956,0.3999999999999997,0.2999999999999998,0.19999999999999973,0.09999999999999964,-2.220446049250313e-16,-0.1000000000000002,-0.20000000000000018,-0.30000000000000016,-0.40000000000000013,-0.5000000000000001,-0.6000000000000001,-0.7000000000000001,-0.8,-0.9,-1.0],\"y\":[null,null,null,null,null,null,null,null,null,null,null,null,null,null,null,null,null,null,null,null,null,null,null,null,null,null,null,null,null,null,null,null,null,1.2944197505971688,1.1055974526991832,0.8288040405223691,null,null,null,null,null,null,null,null,null,null,null,null,null,null,null,null,null,null,null,null,null,null,null,null,null,-0.5957323517381067,-0.40865548206913155,-0.2549769892614473,-0.11653894669959375,0.011218142516108531,0.12967054305219172,0.2391524869203595,0.33966475016774006,0.43116337093658375,0.5136851244770988,0.5873965178274394,0.6526025543260243,0.7097334322761035,0.7593197694460193,0.8019631775205454,0.8383067268760205,0.8690082003658867,0.8947177496053116,0.9160605663405689,-1.0759798173451647,-1.0930230847075848,-1.1124726334966164,-1.1342482575885002,-1.1581252394163108,-1.1837078580012594,-1.2104077835558207,-1.2374295843371694,-1.2637649135931361,-1.2881957899499288,-1.3093056089227395,-1.3254938074629479,-1.3349855986290065,-1.3358196023774376,-1.3257768701395718,-1.302162910073117,-1.2611830662908374,-1.1958941616943903,-1.0858856442131688,null,null,null,null,null,null,null,null,null,null,null,null,null,null,null,null,null,null,null,null,null,null,null,null,null,0.6945126304936264,0.7949659964124067,1.0183042318944833,null,null,null,null,null,null,null,null,null,null,null,null,null,null,null,null,null,null,null,null,null,null,null,null,null,null,null,null,null,null,null,null,null],\"type\":\"scatter\"},{\"fill\":\"toself\",\"fillcolor\":\"rgba(189,195,199,0.5)\",\"hoverinfo\":\"skip\",\"line\":{\"color\":\"rgba(200,200,200,0)\"},\"name\":\"mean plus/minus 3*standard deviation\",\"showlegend\":true,\"visible\":true,\"x\":[-1.0,-0.9,-0.8,-0.7000000000000001,-0.6000000000000001,-0.5000000000000001,-0.40000000000000013,-0.30000000000000016,-0.20000000000000018,-0.1000000000000002,-2.220446049250313e-16,0.09999999999999964,0.19999999999999973,0.2999999999999998,0.3999999999999997,0.49999999999999956,0.5999999999999996,0.6999999999999997,0.7999999999999996,0.8999999999999995,0.9999999999999996,1.0999999999999996,1.1999999999999993,1.2999999999999994,1.3999999999999995,1.4999999999999996,1.5999999999999996,1.6999999999999993,1.7999999999999994,1.8999999999999995,1.9999999999999991,2.099999999999999,2.1999999999999993,2.2999999999999994,2.3999999999999995,2.499999999999999,2.599999999999999,2.6999999999999993,2.799999999999999,2.899999999999999,2.999999999999999,3.0999999999999988,3.1999999999999993,3.299999999999999,3.3999999999999986,3.499999999999999,3.5999999999999988,3.6999999999999993,3.799999999999999,3.8999999999999986,3.999999999999999,4.099999999999999,4.199999999999999,4.299999999999999,4.399999999999999,4.499999999999999,4.599999999999999,4.699999999999998,4.799999999999999,4.899999999999999,4.999999999999998,5.099999999999999,5.199999999999998,5.299999999999999,5.399999999999999,5.499999999999998,5.599999999999999,5.699999999999998,5.799999999999999,5.899999999999999,5.999999999999998,6.099999999999999,6.199999999999998,6.299999999999998,6.399999999999999,6.499999999999998,6.599999999999998,6.699999999999998,6.799999999999998,6.899999999999999,6.899999999999999,6.799999999999998,6.699999999999998,6.599999999999998,6.499999999999998,6.399999999999999,6.299999999999998,6.199999999999998,6.099999999999999,5.999999999999998,5.899999999999999,5.799999999999999,5.699999999999998,5.599999999999999,5.499999999999998,5.399999999999999,5.299999999999999,5.199999999999998,5.099999999999999,4.999999999999998,4.899999999999999,4.799999999999999,4.699999999999998,4.599999999999999,4.499999999999999,4.399999999999999,4.299999999999999,4.199999999999999,4.099999999999999,3.999999999999999,3.8999999999999986,3.799999999999999,3.6999999999999993,3.5999999999999988,3.499999999999999,3.3999999999999986,3.299999999999999,3.1999999999999993,3.0999999999999988,2.999999999999999,2.899999999999999,2.799999999999999,2.6999999999999993,2.599999999999999,2.499999999999999,2.3999999999999995,2.2999999999999994,2.1999999999999993,2.099999999999999,1.9999999999999991,1.8999999999999995,1.7999999999999994,1.6999999999999993,1.5999999999999996,1.4999999999999996,1.3999999999999995,1.2999999999999994,1.1999999999999993,1.0999999999999996,0.9999999999999996,0.8999999999999995,0.7999999999999996,0.6999999999999997,0.5999999999999996,0.49999999999999956,0.3999999999999997,0.2999999999999998,0.19999999999999973,0.09999999999999964,-2.220446049250313e-16,-0.1000000000000002,-0.20000000000000018,-0.30000000000000016,-0.40000000000000013,-0.5000000000000001,-0.6000000000000001,-0.7000000000000001,-0.8,-0.9,-1.0],\"y\":[null,null,null,null,null,null,null,null,null,null,null,null,null,null,null,null,null,null,null,null,null,null,null,null,null,null,null,null,null,null,null,null,null,1.2944197505971688,1.1055974526991832,0.8288040405223691,null,null,null,null,null,null,null,null,null,null,null,null,null,null,null,null,null,null,null,null,null,null,null,null,null,-0.5957323517381067,-0.40865548206913155,-0.2549769892614473,-0.11653894669959375,0.011218142516108531,0.12967054305219172,0.2391524869203595,0.33966475016774006,0.43116337093658375,0.5136851244770988,0.5873965178274394,0.6526025543260243,0.7097334322761035,0.7593197694460193,0.8019631775205454,0.8383067268760205,0.8690082003658867,0.8947177496053116,0.9160605663405689,-1.0759798173451647,-1.0930230847075848,-1.1124726334966164,-1.1342482575885002,-1.1581252394163108,-1.1837078580012594,-1.2104077835558207,-1.2374295843371694,-1.2637649135931361,-1.2881957899499288,-1.3093056089227395,-1.3254938074629479,-1.3349855986290065,-1.3358196023774376,-1.3257768701395718,-1.302162910073117,-1.2611830662908374,-1.1958941616943903,-1.0858856442131688,null,null,null,null,null,null,null,null,null,null,null,null,null,null,null,null,null,null,null,null,null,null,null,null,null,0.6945126304936264,0.7949659964124067,1.0183042318944833,null,null,null,null,null,null,null,null,null,null,null,null,null,null,null,null,null,null,null,null,null,null,null,null,null,null,null,null,null,null,null,null,null],\"type\":\"scatter\"},{\"line\":{\"color\":\"blue\",\"width\":2},\"name\":\"Predicted function\",\"showlegend\":true,\"visible\":true,\"x\":[-1.0,-0.9,-0.8,-0.7000000000000001,-0.6000000000000001,-0.5000000000000001,-0.40000000000000013,-0.30000000000000016,-0.20000000000000018,-0.1000000000000002,-2.220446049250313e-16,0.09999999999999964,0.19999999999999973,0.2999999999999998,0.3999999999999997,0.49999999999999956,0.5999999999999996,0.6999999999999997,0.7999999999999996,0.8999999999999995,0.9999999999999996,1.0999999999999996,1.1999999999999993,1.2999999999999994,1.3999999999999995,1.4999999999999996,1.5999999999999996,1.6999999999999993,1.7999999999999994,1.8999999999999995,1.9999999999999991,2.099999999999999,2.1999999999999993,2.2999999999999994,2.3999999999999995,2.499999999999999,2.599999999999999,2.6999999999999993,2.799999999999999,2.899999999999999,2.999999999999999,3.0999999999999988,3.1999999999999993,3.299999999999999,3.3999999999999986,3.499999999999999,3.5999999999999988,3.6999999999999993,3.799999999999999,3.8999999999999986,3.999999999999999,4.099999999999999,4.199999999999999,4.299999999999999,4.399999999999999,4.499999999999999,4.599999999999999,4.699999999999998,4.799999999999999,4.899999999999999,4.999999999999998,5.099999999999999,5.199999999999998,5.299999999999999,5.399999999999999,5.499999999999998,5.599999999999999,5.699999999999998,5.799999999999999,5.899999999999999,5.999999999999998,6.099999999999999,6.199999999999998,6.299999999999998,6.399999999999999,6.499999999999998,6.599999999999998,6.699999999999998,6.799999999999998,6.899999999999999],\"y\":[2.2742930776944945,2.5618450243718796,2.8599954263762233,3.164498543010731,3.4705069135371396,3.7726889232550516,4.065377425169417,4.34274378416751,4.598989808755847,4.828548567072691,5.026284180396679,5.187680433591611,5.309008467543226,5.387464895333677,5.42127332873076,5.409744386038254,5.3532916157996,5.253403236467488,5.112571983645189,4.934187513427274,4.72239760064278,4.481945699349469,4.2179932459414085,3.9359353702832154,3.6412184628014965,3.339167382514681,3.0348290633605988,2.7328379797757085,2.4373074697486907,2.151749385732924,1.8790230441606823,1.621313052938748,1.3801343762733926,1.156361991245826,0.950281724555795,0.7616583355079978,0.5898166206173041,0.4337312309713438,0.2921209818801482,0.1635436578670979,0.04648763844593575,-0.06054293947142233,-0.1589523308149728,-0.2499890231568693,-0.33469515222290475,-0.41387084774373656,-0.48805430196719835,-0.5575177509046829,-0.6222789203302149,-0.6821268275941683,-0.7366601709202221,-0.7853359156753567,-0.8275251462884667,-0.8625728409470427,-0.8898579893955828,-0.9088504484116309,-0.9191611357924668,-0.9205826028329495,-0.9131176758001682,-0.8969946754121849,-0.8726686479445928,-0.8408089979756377,-0.8022748218817609,-0.7580800277761424,-0.7093509283863554,-0.6572793638117316,-0.603074529662623,-0.5479165558543235,-0.49291452864760393,-0.4390711189930778,-0.387255332736415,-0.33818419788284837,-0.29241351500557256,-0.2503371756398586,-0.21219404427762012,-0.1780810309478828,-0.14797076535623985,-0.12173221656536491,-0.09915266755113664,-0.07995962550229789],\"type\":\"scatter\"},{\"marker\":{\"color\":\"red\",\"size\":8},\"mode\":\"markers\",\"name\":\"Observed points\",\"showlegend\":true,\"visible\":true,\"x\":[0.0,0.3,1.0,3.1,4.7],\"y\":[1.0,0.0,1.4,0.0,-0.9],\"type\":\"scatter\"}],                        {\"template\":{\"data\":{\"bar\":[{\"error_x\":{\"color\":\"#2a3f5f\"},\"error_y\":{\"color\":\"#2a3f5f\"},\"marker\":{\"line\":{\"color\":\"#E5ECF6\",\"width\":0.5},\"pattern\":{\"fillmode\":\"overlay\",\"size\":10,\"solidity\":0.2}},\"type\":\"bar\"}],\"barpolar\":[{\"marker\":{\"line\":{\"color\":\"#E5ECF6\",\"width\":0.5},\"pattern\":{\"fillmode\":\"overlay\",\"size\":10,\"solidity\":0.2}},\"type\":\"barpolar\"}],\"carpet\":[{\"aaxis\":{\"endlinecolor\":\"#2a3f5f\",\"gridcolor\":\"white\",\"linecolor\":\"white\",\"minorgridcolor\":\"white\",\"startlinecolor\":\"#2a3f5f\"},\"baxis\":{\"endlinecolor\":\"#2a3f5f\",\"gridcolor\":\"white\",\"linecolor\":\"white\",\"minorgridcolor\":\"white\",\"startlinecolor\":\"#2a3f5f\"},\"type\":\"carpet\"}],\"choropleth\":[{\"colorbar\":{\"outlinewidth\":0,\"ticks\":\"\"},\"type\":\"choropleth\"}],\"contour\":[{\"colorbar\":{\"outlinewidth\":0,\"ticks\":\"\"},\"colorscale\":[[0.0,\"#0d0887\"],[0.1111111111111111,\"#46039f\"],[0.2222222222222222,\"#7201a8\"],[0.3333333333333333,\"#9c179e\"],[0.4444444444444444,\"#bd3786\"],[0.5555555555555556,\"#d8576b\"],[0.6666666666666666,\"#ed7953\"],[0.7777777777777778,\"#fb9f3a\"],[0.8888888888888888,\"#fdca26\"],[1.0,\"#f0f921\"]],\"type\":\"contour\"}],\"contourcarpet\":[{\"colorbar\":{\"outlinewidth\":0,\"ticks\":\"\"},\"type\":\"contourcarpet\"}],\"heatmap\":[{\"colorbar\":{\"outlinewidth\":0,\"ticks\":\"\"},\"colorscale\":[[0.0,\"#0d0887\"],[0.1111111111111111,\"#46039f\"],[0.2222222222222222,\"#7201a8\"],[0.3333333333333333,\"#9c179e\"],[0.4444444444444444,\"#bd3786\"],[0.5555555555555556,\"#d8576b\"],[0.6666666666666666,\"#ed7953\"],[0.7777777777777778,\"#fb9f3a\"],[0.8888888888888888,\"#fdca26\"],[1.0,\"#f0f921\"]],\"type\":\"heatmap\"}],\"heatmapgl\":[{\"colorbar\":{\"outlinewidth\":0,\"ticks\":\"\"},\"colorscale\":[[0.0,\"#0d0887\"],[0.1111111111111111,\"#46039f\"],[0.2222222222222222,\"#7201a8\"],[0.3333333333333333,\"#9c179e\"],[0.4444444444444444,\"#bd3786\"],[0.5555555555555556,\"#d8576b\"],[0.6666666666666666,\"#ed7953\"],[0.7777777777777778,\"#fb9f3a\"],[0.8888888888888888,\"#fdca26\"],[1.0,\"#f0f921\"]],\"type\":\"heatmapgl\"}],\"histogram\":[{\"marker\":{\"pattern\":{\"fillmode\":\"overlay\",\"size\":10,\"solidity\":0.2}},\"type\":\"histogram\"}],\"histogram2d\":[{\"colorbar\":{\"outlinewidth\":0,\"ticks\":\"\"},\"colorscale\":[[0.0,\"#0d0887\"],[0.1111111111111111,\"#46039f\"],[0.2222222222222222,\"#7201a8\"],[0.3333333333333333,\"#9c179e\"],[0.4444444444444444,\"#bd3786\"],[0.5555555555555556,\"#d8576b\"],[0.6666666666666666,\"#ed7953\"],[0.7777777777777778,\"#fb9f3a\"],[0.8888888888888888,\"#fdca26\"],[1.0,\"#f0f921\"]],\"type\":\"histogram2d\"}],\"histogram2dcontour\":[{\"colorbar\":{\"outlinewidth\":0,\"ticks\":\"\"},\"colorscale\":[[0.0,\"#0d0887\"],[0.1111111111111111,\"#46039f\"],[0.2222222222222222,\"#7201a8\"],[0.3333333333333333,\"#9c179e\"],[0.4444444444444444,\"#bd3786\"],[0.5555555555555556,\"#d8576b\"],[0.6666666666666666,\"#ed7953\"],[0.7777777777777778,\"#fb9f3a\"],[0.8888888888888888,\"#fdca26\"],[1.0,\"#f0f921\"]],\"type\":\"histogram2dcontour\"}],\"mesh3d\":[{\"colorbar\":{\"outlinewidth\":0,\"ticks\":\"\"},\"type\":\"mesh3d\"}],\"parcoords\":[{\"line\":{\"colorbar\":{\"outlinewidth\":0,\"ticks\":\"\"}},\"type\":\"parcoords\"}],\"pie\":[{\"automargin\":true,\"type\":\"pie\"}],\"scatter\":[{\"marker\":{\"colorbar\":{\"outlinewidth\":0,\"ticks\":\"\"}},\"type\":\"scatter\"}],\"scatter3d\":[{\"line\":{\"colorbar\":{\"outlinewidth\":0,\"ticks\":\"\"}},\"marker\":{\"colorbar\":{\"outlinewidth\":0,\"ticks\":\"\"}},\"type\":\"scatter3d\"}],\"scattercarpet\":[{\"marker\":{\"colorbar\":{\"outlinewidth\":0,\"ticks\":\"\"}},\"type\":\"scattercarpet\"}],\"scattergeo\":[{\"marker\":{\"colorbar\":{\"outlinewidth\":0,\"ticks\":\"\"}},\"type\":\"scattergeo\"}],\"scattergl\":[{\"marker\":{\"colorbar\":{\"outlinewidth\":0,\"ticks\":\"\"}},\"type\":\"scattergl\"}],\"scattermapbox\":[{\"marker\":{\"colorbar\":{\"outlinewidth\":0,\"ticks\":\"\"}},\"type\":\"scattermapbox\"}],\"scatterpolar\":[{\"marker\":{\"colorbar\":{\"outlinewidth\":0,\"ticks\":\"\"}},\"type\":\"scatterpolar\"}],\"scatterpolargl\":[{\"marker\":{\"colorbar\":{\"outlinewidth\":0,\"ticks\":\"\"}},\"type\":\"scatterpolargl\"}],\"scatterternary\":[{\"marker\":{\"colorbar\":{\"outlinewidth\":0,\"ticks\":\"\"}},\"type\":\"scatterternary\"}],\"surface\":[{\"colorbar\":{\"outlinewidth\":0,\"ticks\":\"\"},\"colorscale\":[[0.0,\"#0d0887\"],[0.1111111111111111,\"#46039f\"],[0.2222222222222222,\"#7201a8\"],[0.3333333333333333,\"#9c179e\"],[0.4444444444444444,\"#bd3786\"],[0.5555555555555556,\"#d8576b\"],[0.6666666666666666,\"#ed7953\"],[0.7777777777777778,\"#fb9f3a\"],[0.8888888888888888,\"#fdca26\"],[1.0,\"#f0f921\"]],\"type\":\"surface\"}],\"table\":[{\"cells\":{\"fill\":{\"color\":\"#EBF0F8\"},\"line\":{\"color\":\"white\"}},\"header\":{\"fill\":{\"color\":\"#C8D4E3\"},\"line\":{\"color\":\"white\"}},\"type\":\"table\"}]},\"layout\":{\"annotationdefaults\":{\"arrowcolor\":\"#2a3f5f\",\"arrowhead\":0,\"arrowwidth\":1},\"autotypenumbers\":\"strict\",\"coloraxis\":{\"colorbar\":{\"outlinewidth\":0,\"ticks\":\"\"}},\"colorscale\":{\"diverging\":[[0,\"#8e0152\"],[0.1,\"#c51b7d\"],[0.2,\"#de77ae\"],[0.3,\"#f1b6da\"],[0.4,\"#fde0ef\"],[0.5,\"#f7f7f7\"],[0.6,\"#e6f5d0\"],[0.7,\"#b8e186\"],[0.8,\"#7fbc41\"],[0.9,\"#4d9221\"],[1,\"#276419\"]],\"sequential\":[[0.0,\"#0d0887\"],[0.1111111111111111,\"#46039f\"],[0.2222222222222222,\"#7201a8\"],[0.3333333333333333,\"#9c179e\"],[0.4444444444444444,\"#bd3786\"],[0.5555555555555556,\"#d8576b\"],[0.6666666666666666,\"#ed7953\"],[0.7777777777777778,\"#fb9f3a\"],[0.8888888888888888,\"#fdca26\"],[1.0,\"#f0f921\"]],\"sequentialminus\":[[0.0,\"#0d0887\"],[0.1111111111111111,\"#46039f\"],[0.2222222222222222,\"#7201a8\"],[0.3333333333333333,\"#9c179e\"],[0.4444444444444444,\"#bd3786\"],[0.5555555555555556,\"#d8576b\"],[0.6666666666666666,\"#ed7953\"],[0.7777777777777778,\"#fb9f3a\"],[0.8888888888888888,\"#fdca26\"],[1.0,\"#f0f921\"]]},\"colorway\":[\"#636efa\",\"#EF553B\",\"#00cc96\",\"#ab63fa\",\"#FFA15A\",\"#19d3f3\",\"#FF6692\",\"#B6E880\",\"#FF97FF\",\"#FECB52\"],\"font\":{\"color\":\"#2a3f5f\"},\"geo\":{\"bgcolor\":\"white\",\"lakecolor\":\"white\",\"landcolor\":\"#E5ECF6\",\"showlakes\":true,\"showland\":true,\"subunitcolor\":\"white\"},\"hoverlabel\":{\"align\":\"left\"},\"hovermode\":\"closest\",\"mapbox\":{\"style\":\"light\"},\"paper_bgcolor\":\"white\",\"plot_bgcolor\":\"#E5ECF6\",\"polar\":{\"angularaxis\":{\"gridcolor\":\"white\",\"linecolor\":\"white\",\"ticks\":\"\"},\"bgcolor\":\"#E5ECF6\",\"radialaxis\":{\"gridcolor\":\"white\",\"linecolor\":\"white\",\"ticks\":\"\"}},\"scene\":{\"xaxis\":{\"backgroundcolor\":\"#E5ECF6\",\"gridcolor\":\"white\",\"gridwidth\":2,\"linecolor\":\"white\",\"showbackground\":true,\"ticks\":\"\",\"zerolinecolor\":\"white\"},\"yaxis\":{\"backgroundcolor\":\"#E5ECF6\",\"gridcolor\":\"white\",\"gridwidth\":2,\"linecolor\":\"white\",\"showbackground\":true,\"ticks\":\"\",\"zerolinecolor\":\"white\"},\"zaxis\":{\"backgroundcolor\":\"#E5ECF6\",\"gridcolor\":\"white\",\"gridwidth\":2,\"linecolor\":\"white\",\"showbackground\":true,\"ticks\":\"\",\"zerolinecolor\":\"white\"}},\"shapedefaults\":{\"line\":{\"color\":\"#2a3f5f\"}},\"ternary\":{\"aaxis\":{\"gridcolor\":\"white\",\"linecolor\":\"white\",\"ticks\":\"\"},\"baxis\":{\"gridcolor\":\"white\",\"linecolor\":\"white\",\"ticks\":\"\"},\"bgcolor\":\"#E5ECF6\",\"caxis\":{\"gridcolor\":\"white\",\"linecolor\":\"white\",\"ticks\":\"\"}},\"title\":{\"x\":0.05},\"xaxis\":{\"automargin\":true,\"gridcolor\":\"white\",\"linecolor\":\"white\",\"ticks\":\"\",\"title\":{\"standoff\":15},\"zerolinecolor\":\"white\",\"zerolinewidth\":2},\"yaxis\":{\"automargin\":true,\"gridcolor\":\"white\",\"linecolor\":\"white\",\"ticks\":\"\",\"title\":{\"standoff\":15},\"zerolinecolor\":\"white\",\"zerolinewidth\":2}}},\"width\":800,\"height\":600,\"autosize\":false,\"plot_bgcolor\":\"rgba(0,0,0,0)\",\"title\":{\"text\":\"GPR with length 1, sigma 0 and noise 0\",\"x\":0.5,\"xanchor\":\"center\"},\"legend\":{\"yanchor\":\"top\",\"y\":0.9,\"xanchor\":\"right\",\"x\":0.95},\"xaxis\":{\"title\":{\"text\":\"input values\"},\"showline\":true,\"linewidth\":1,\"linecolor\":\"black\"},\"yaxis\":{\"title\":{\"text\":\"output values\"},\"showline\":true,\"linewidth\":1,\"linecolor\":\"black\"}},                        {\"responsive\": true}                    ).then(function(){\n",
       "                            \n",
       "var gd = document.getElementById('229e5d74-d0e9-4f1e-a036-270ca2c2ced6');\n",
       "var x = new MutationObserver(function (mutations, observer) {{\n",
       "        var display = window.getComputedStyle(gd).display;\n",
       "        if (!display || display === 'none') {{\n",
       "            console.log([gd, 'removed!']);\n",
       "            Plotly.purge(gd);\n",
       "            observer.disconnect();\n",
       "        }}\n",
       "}});\n",
       "\n",
       "// Listen for the removal of the full notebook cells\n",
       "var notebookContainer = gd.closest('#notebook-container');\n",
       "if (notebookContainer) {{\n",
       "    x.observe(notebookContainer, {childList: true});\n",
       "}}\n",
       "\n",
       "// Listen for the clearing of the current output cell\n",
       "var outputEl = gd.closest('.output');\n",
       "if (outputEl) {{\n",
       "    x.observe(outputEl, {childList: true});\n",
       "}}\n",
       "\n",
       "                        })                };                });            </script>        </div>"
      ]
     },
     "metadata": {},
     "output_type": "display_data"
    }
   ],
   "source": [
    "model = GPR(x_values, y_values)\n",
    "data = plot_GPR(data_x=x_values, data_y=y_values, x=x, model=model)\n",
    "fig4 = go.Figure(data=data)\n",
    "fig4 = update_layout_of_graph(fig=fig4,\n",
    "                             title='GPR with length 1, sigma 0 and noise 0')\n",
    "\n",
    "fig4.show()"
   ]
  },
  {
   "cell_type": "code",
   "execution_count": 103,
   "id": "8c96445b",
   "metadata": {},
   "outputs": [
    {
     "data": {
      "application/vnd.jupyter.widget-view+json": {
       "model_id": "c5dbb6412ccc4274a03b322f8deaf042",
       "version_major": 2,
       "version_minor": 0
      },
      "text/plain": [
       "VBox(children=(FigureWidget({\n",
       "    'data': [{'marker': {'color': 'red', 'size': 8},\n",
       "              'mode': 'mark…"
      ]
     },
     "metadata": {},
     "output_type": "display_data"
    },
    {
     "name": "stderr",
     "output_type": "stream",
     "text": [
      "/tmp/ipykernel_5613/2755252793.py:18: RuntimeWarning:\n",
      "\n",
      "covariance is not positive-semidefinite.\n",
      "\n",
      "/tmp/ipykernel_5613/2755252793.py:18: RuntimeWarning:\n",
      "\n",
      "covariance is not positive-semidefinite.\n",
      "\n",
      "/tmp/ipykernel_5613/2755252793.py:18: RuntimeWarning:\n",
      "\n",
      "covariance is not positive-semidefinite.\n",
      "\n"
     ]
    }
   ],
   "source": [
    "model = GPR(x_values, y_values)\n",
    "\n",
    "mean = model.predict(x)\n",
    "\n",
    "covariance_matrix = model.memory[\"covariance_matrix\"]\n",
    "\n",
    "fig1 = go.FigureWidget(data=[dot_scatter(x_dots=x_values, y_dots=y_values)])\n",
    "fig1 = update_layout_of_graph(\n",
    "    fig1,\n",
    "    title='Random drawings (i.e. random functions) of the Gaussian process')\n",
    "\n",
    "button = widgets.Button(description = 'Add random drawing')\n",
    "\n",
    "def update(_):\n",
    "    with fig1.batch_update():\n",
    "        fig1.add_trace(\n",
    "            line_scatter(x_lines=x,\n",
    "                         y_lines=np.random.multivariate_normal(\n",
    "                             mean, covariance_matrix),\n",
    "                         name_line='random function',\n",
    "                         showlegend=False))\n",
    "        fig1.add_trace(\n",
    "            dot_scatter(x_dots=x_values, y_dots=y_values, showlegend=False))\n",
    "        \n",
    "button.on_click(update)\n",
    "widgets.VBox([fig1, button])"
   ]
  },
  {
   "cell_type": "markdown",
   "id": "d99d300d",
   "metadata": {},
   "source": [
    "#### Evaluate the model with mse and R_squared on Test set"
   ]
  },
  {
   "cell_type": "code",
   "execution_count": null,
   "id": "93122428",
   "metadata": {},
   "outputs": [],
   "source": [
    "# TODO\n"
   ]
  },
  {
   "cell_type": "markdown",
   "id": "eb9aec31",
   "metadata": {},
   "source": [
    "#### Fit a LinearRegression on Training set\n",
    "#### Specify a random state"
   ]
  },
  {
   "cell_type": "code",
   "execution_count": null,
   "id": "5e6d63a8",
   "metadata": {},
   "outputs": [],
   "source": [
    "# TODO\n"
   ]
  },
  {
   "cell_type": "markdown",
   "id": "2e43387c",
   "metadata": {},
   "source": [
    "#### Evaluate the model with mse and R_squared on Test set and compare the results with the results of GaussionProcessRegressor"
   ]
  },
  {
   "cell_type": "code",
   "execution_count": null,
   "id": "98c93956",
   "metadata": {},
   "outputs": [],
   "source": [
    "# TODO\n"
   ]
  },
  {
   "cell_type": "markdown",
   "id": "1710d827",
   "metadata": {},
   "source": [
    "#### Divide the dataset into training and testing sets: 1/99\n",
    "#### Fit the above models with the same random state on training set, evaluate the models with same metrics and see the comparison."
   ]
  }
 ],
 "metadata": {
  "kernelspec": {
   "display_name": "Python 3 (ipykernel)",
   "language": "python",
   "name": "python3"
  },
  "language_info": {
   "codemirror_mode": {
    "name": "ipython",
    "version": 3
   },
   "file_extension": ".py",
   "mimetype": "text/x-python",
   "name": "python",
   "nbconvert_exporter": "python",
   "pygments_lexer": "ipython3",
   "version": "3.10.1"
  }
 },
 "nbformat": 4,
 "nbformat_minor": 5
}
