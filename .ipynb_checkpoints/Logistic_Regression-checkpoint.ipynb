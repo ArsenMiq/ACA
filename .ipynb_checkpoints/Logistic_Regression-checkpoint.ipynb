{
 "cells": [
  {
   "cell_type": "markdown",
   "metadata": {},
   "source": [
    "# Logistic Regression"
   ]
  },
  {
   "cell_type": "code",
   "execution_count": 1,
   "metadata": {},
   "outputs": [],
   "source": [
    "from sklearn.datasets import load_iris\n",
    "from sklearn.linear_model import LogisticRegression\n",
    "X, y = load_iris(return_X_y=True)"
   ]
  },
  {
   "cell_type": "code",
   "execution_count": 2,
   "metadata": {},
   "outputs": [
    {
     "data": {
      "text/plain": [
       "(array([[5.1, 3.5, 1.4, 0.2],\n",
       "        [4.9, 3. , 1.4, 0.2],\n",
       "        [4.7, 3.2, 1.3, 0.2],\n",
       "        [4.6, 3.1, 1.5, 0.2],\n",
       "        [5. , 3.6, 1.4, 0.2],\n",
       "        [5.4, 3.9, 1.7, 0.4],\n",
       "        [4.6, 3.4, 1.4, 0.3],\n",
       "        [5. , 3.4, 1.5, 0.2],\n",
       "        [4.4, 2.9, 1.4, 0.2],\n",
       "        [4.9, 3.1, 1.5, 0.1],\n",
       "        [5.4, 3.7, 1.5, 0.2],\n",
       "        [4.8, 3.4, 1.6, 0.2],\n",
       "        [4.8, 3. , 1.4, 0.1],\n",
       "        [4.3, 3. , 1.1, 0.1],\n",
       "        [5.8, 4. , 1.2, 0.2],\n",
       "        [5.7, 4.4, 1.5, 0.4],\n",
       "        [5.4, 3.9, 1.3, 0.4],\n",
       "        [5.1, 3.5, 1.4, 0.3],\n",
       "        [5.7, 3.8, 1.7, 0.3],\n",
       "        [5.1, 3.8, 1.5, 0.3],\n",
       "        [5.4, 3.4, 1.7, 0.2],\n",
       "        [5.1, 3.7, 1.5, 0.4],\n",
       "        [4.6, 3.6, 1. , 0.2],\n",
       "        [5.1, 3.3, 1.7, 0.5],\n",
       "        [4.8, 3.4, 1.9, 0.2],\n",
       "        [5. , 3. , 1.6, 0.2],\n",
       "        [5. , 3.4, 1.6, 0.4],\n",
       "        [5.2, 3.5, 1.5, 0.2],\n",
       "        [5.2, 3.4, 1.4, 0.2],\n",
       "        [4.7, 3.2, 1.6, 0.2],\n",
       "        [4.8, 3.1, 1.6, 0.2],\n",
       "        [5.4, 3.4, 1.5, 0.4],\n",
       "        [5.2, 4.1, 1.5, 0.1],\n",
       "        [5.5, 4.2, 1.4, 0.2],\n",
       "        [4.9, 3.1, 1.5, 0.2],\n",
       "        [5. , 3.2, 1.2, 0.2],\n",
       "        [5.5, 3.5, 1.3, 0.2],\n",
       "        [4.9, 3.6, 1.4, 0.1],\n",
       "        [4.4, 3. , 1.3, 0.2],\n",
       "        [5.1, 3.4, 1.5, 0.2],\n",
       "        [5. , 3.5, 1.3, 0.3],\n",
       "        [4.5, 2.3, 1.3, 0.3],\n",
       "        [4.4, 3.2, 1.3, 0.2],\n",
       "        [5. , 3.5, 1.6, 0.6],\n",
       "        [5.1, 3.8, 1.9, 0.4],\n",
       "        [4.8, 3. , 1.4, 0.3],\n",
       "        [5.1, 3.8, 1.6, 0.2],\n",
       "        [4.6, 3.2, 1.4, 0.2],\n",
       "        [5.3, 3.7, 1.5, 0.2],\n",
       "        [5. , 3.3, 1.4, 0.2],\n",
       "        [7. , 3.2, 4.7, 1.4],\n",
       "        [6.4, 3.2, 4.5, 1.5],\n",
       "        [6.9, 3.1, 4.9, 1.5],\n",
       "        [5.5, 2.3, 4. , 1.3],\n",
       "        [6.5, 2.8, 4.6, 1.5],\n",
       "        [5.7, 2.8, 4.5, 1.3],\n",
       "        [6.3, 3.3, 4.7, 1.6],\n",
       "        [4.9, 2.4, 3.3, 1. ],\n",
       "        [6.6, 2.9, 4.6, 1.3],\n",
       "        [5.2, 2.7, 3.9, 1.4],\n",
       "        [5. , 2. , 3.5, 1. ],\n",
       "        [5.9, 3. , 4.2, 1.5],\n",
       "        [6. , 2.2, 4. , 1. ],\n",
       "        [6.1, 2.9, 4.7, 1.4],\n",
       "        [5.6, 2.9, 3.6, 1.3],\n",
       "        [6.7, 3.1, 4.4, 1.4],\n",
       "        [5.6, 3. , 4.5, 1.5],\n",
       "        [5.8, 2.7, 4.1, 1. ],\n",
       "        [6.2, 2.2, 4.5, 1.5],\n",
       "        [5.6, 2.5, 3.9, 1.1],\n",
       "        [5.9, 3.2, 4.8, 1.8],\n",
       "        [6.1, 2.8, 4. , 1.3],\n",
       "        [6.3, 2.5, 4.9, 1.5],\n",
       "        [6.1, 2.8, 4.7, 1.2],\n",
       "        [6.4, 2.9, 4.3, 1.3],\n",
       "        [6.6, 3. , 4.4, 1.4],\n",
       "        [6.8, 2.8, 4.8, 1.4],\n",
       "        [6.7, 3. , 5. , 1.7],\n",
       "        [6. , 2.9, 4.5, 1.5],\n",
       "        [5.7, 2.6, 3.5, 1. ],\n",
       "        [5.5, 2.4, 3.8, 1.1],\n",
       "        [5.5, 2.4, 3.7, 1. ],\n",
       "        [5.8, 2.7, 3.9, 1.2],\n",
       "        [6. , 2.7, 5.1, 1.6],\n",
       "        [5.4, 3. , 4.5, 1.5],\n",
       "        [6. , 3.4, 4.5, 1.6],\n",
       "        [6.7, 3.1, 4.7, 1.5],\n",
       "        [6.3, 2.3, 4.4, 1.3],\n",
       "        [5.6, 3. , 4.1, 1.3],\n",
       "        [5.5, 2.5, 4. , 1.3],\n",
       "        [5.5, 2.6, 4.4, 1.2],\n",
       "        [6.1, 3. , 4.6, 1.4],\n",
       "        [5.8, 2.6, 4. , 1.2],\n",
       "        [5. , 2.3, 3.3, 1. ],\n",
       "        [5.6, 2.7, 4.2, 1.3],\n",
       "        [5.7, 3. , 4.2, 1.2],\n",
       "        [5.7, 2.9, 4.2, 1.3],\n",
       "        [6.2, 2.9, 4.3, 1.3],\n",
       "        [5.1, 2.5, 3. , 1.1],\n",
       "        [5.7, 2.8, 4.1, 1.3],\n",
       "        [6.3, 3.3, 6. , 2.5],\n",
       "        [5.8, 2.7, 5.1, 1.9],\n",
       "        [7.1, 3. , 5.9, 2.1],\n",
       "        [6.3, 2.9, 5.6, 1.8],\n",
       "        [6.5, 3. , 5.8, 2.2],\n",
       "        [7.6, 3. , 6.6, 2.1],\n",
       "        [4.9, 2.5, 4.5, 1.7],\n",
       "        [7.3, 2.9, 6.3, 1.8],\n",
       "        [6.7, 2.5, 5.8, 1.8],\n",
       "        [7.2, 3.6, 6.1, 2.5],\n",
       "        [6.5, 3.2, 5.1, 2. ],\n",
       "        [6.4, 2.7, 5.3, 1.9],\n",
       "        [6.8, 3. , 5.5, 2.1],\n",
       "        [5.7, 2.5, 5. , 2. ],\n",
       "        [5.8, 2.8, 5.1, 2.4],\n",
       "        [6.4, 3.2, 5.3, 2.3],\n",
       "        [6.5, 3. , 5.5, 1.8],\n",
       "        [7.7, 3.8, 6.7, 2.2],\n",
       "        [7.7, 2.6, 6.9, 2.3],\n",
       "        [6. , 2.2, 5. , 1.5],\n",
       "        [6.9, 3.2, 5.7, 2.3],\n",
       "        [5.6, 2.8, 4.9, 2. ],\n",
       "        [7.7, 2.8, 6.7, 2. ],\n",
       "        [6.3, 2.7, 4.9, 1.8],\n",
       "        [6.7, 3.3, 5.7, 2.1],\n",
       "        [7.2, 3.2, 6. , 1.8],\n",
       "        [6.2, 2.8, 4.8, 1.8],\n",
       "        [6.1, 3. , 4.9, 1.8],\n",
       "        [6.4, 2.8, 5.6, 2.1],\n",
       "        [7.2, 3. , 5.8, 1.6],\n",
       "        [7.4, 2.8, 6.1, 1.9],\n",
       "        [7.9, 3.8, 6.4, 2. ],\n",
       "        [6.4, 2.8, 5.6, 2.2],\n",
       "        [6.3, 2.8, 5.1, 1.5],\n",
       "        [6.1, 2.6, 5.6, 1.4],\n",
       "        [7.7, 3. , 6.1, 2.3],\n",
       "        [6.3, 3.4, 5.6, 2.4],\n",
       "        [6.4, 3.1, 5.5, 1.8],\n",
       "        [6. , 3. , 4.8, 1.8],\n",
       "        [6.9, 3.1, 5.4, 2.1],\n",
       "        [6.7, 3.1, 5.6, 2.4],\n",
       "        [6.9, 3.1, 5.1, 2.3],\n",
       "        [5.8, 2.7, 5.1, 1.9],\n",
       "        [6.8, 3.2, 5.9, 2.3],\n",
       "        [6.7, 3.3, 5.7, 2.5],\n",
       "        [6.7, 3. , 5.2, 2.3],\n",
       "        [6.3, 2.5, 5. , 1.9],\n",
       "        [6.5, 3. , 5.2, 2. ],\n",
       "        [6.2, 3.4, 5.4, 2.3],\n",
       "        [5.9, 3. , 5.1, 1.8]]),\n",
       " array([0, 0, 0, 0, 0, 0, 0, 0, 0, 0, 0, 0, 0, 0, 0, 0, 0, 0, 0, 0, 0, 0,\n",
       "        0, 0, 0, 0, 0, 0, 0, 0, 0, 0, 0, 0, 0, 0, 0, 0, 0, 0, 0, 0, 0, 0,\n",
       "        0, 0, 0, 0, 0, 0, 1, 1, 1, 1, 1, 1, 1, 1, 1, 1, 1, 1, 1, 1, 1, 1,\n",
       "        1, 1, 1, 1, 1, 1, 1, 1, 1, 1, 1, 1, 1, 1, 1, 1, 1, 1, 1, 1, 1, 1,\n",
       "        1, 1, 1, 1, 1, 1, 1, 1, 1, 1, 1, 1, 2, 2, 2, 2, 2, 2, 2, 2, 2, 2,\n",
       "        2, 2, 2, 2, 2, 2, 2, 2, 2, 2, 2, 2, 2, 2, 2, 2, 2, 2, 2, 2, 2, 2,\n",
       "        2, 2, 2, 2, 2, 2, 2, 2, 2, 2, 2, 2, 2, 2, 2, 2, 2, 2]))"
      ]
     },
     "execution_count": 2,
     "metadata": {},
     "output_type": "execute_result"
    }
   ],
   "source": [
    "X, y"
   ]
  },
  {
   "cell_type": "code",
   "execution_count": 3,
   "metadata": {},
   "outputs": [
    {
     "data": {
      "text/html": [
       "<div>\n",
       "<style scoped>\n",
       "    .dataframe tbody tr th:only-of-type {\n",
       "        vertical-align: middle;\n",
       "    }\n",
       "\n",
       "    .dataframe tbody tr th {\n",
       "        vertical-align: top;\n",
       "    }\n",
       "\n",
       "    .dataframe thead th {\n",
       "        text-align: right;\n",
       "    }\n",
       "</style>\n",
       "<table border=\"1\" class=\"dataframe\">\n",
       "  <thead>\n",
       "    <tr style=\"text-align: right;\">\n",
       "      <th></th>\n",
       "      <th>0</th>\n",
       "      <th>1</th>\n",
       "      <th>2</th>\n",
       "      <th>3</th>\n",
       "    </tr>\n",
       "  </thead>\n",
       "  <tbody>\n",
       "    <tr>\n",
       "      <th>count</th>\n",
       "      <td>150.000000</td>\n",
       "      <td>150.000000</td>\n",
       "      <td>150.000000</td>\n",
       "      <td>150.000000</td>\n",
       "    </tr>\n",
       "    <tr>\n",
       "      <th>mean</th>\n",
       "      <td>5.843333</td>\n",
       "      <td>3.057333</td>\n",
       "      <td>3.758000</td>\n",
       "      <td>1.199333</td>\n",
       "    </tr>\n",
       "    <tr>\n",
       "      <th>std</th>\n",
       "      <td>0.828066</td>\n",
       "      <td>0.435866</td>\n",
       "      <td>1.765298</td>\n",
       "      <td>0.762238</td>\n",
       "    </tr>\n",
       "    <tr>\n",
       "      <th>min</th>\n",
       "      <td>4.300000</td>\n",
       "      <td>2.000000</td>\n",
       "      <td>1.000000</td>\n",
       "      <td>0.100000</td>\n",
       "    </tr>\n",
       "    <tr>\n",
       "      <th>25%</th>\n",
       "      <td>5.100000</td>\n",
       "      <td>2.800000</td>\n",
       "      <td>1.600000</td>\n",
       "      <td>0.300000</td>\n",
       "    </tr>\n",
       "    <tr>\n",
       "      <th>50%</th>\n",
       "      <td>5.800000</td>\n",
       "      <td>3.000000</td>\n",
       "      <td>4.350000</td>\n",
       "      <td>1.300000</td>\n",
       "    </tr>\n",
       "    <tr>\n",
       "      <th>75%</th>\n",
       "      <td>6.400000</td>\n",
       "      <td>3.300000</td>\n",
       "      <td>5.100000</td>\n",
       "      <td>1.800000</td>\n",
       "    </tr>\n",
       "    <tr>\n",
       "      <th>max</th>\n",
       "      <td>7.900000</td>\n",
       "      <td>4.400000</td>\n",
       "      <td>6.900000</td>\n",
       "      <td>2.500000</td>\n",
       "    </tr>\n",
       "  </tbody>\n",
       "</table>\n",
       "</div>"
      ],
      "text/plain": [
       "                0           1           2           3\n",
       "count  150.000000  150.000000  150.000000  150.000000\n",
       "mean     5.843333    3.057333    3.758000    1.199333\n",
       "std      0.828066    0.435866    1.765298    0.762238\n",
       "min      4.300000    2.000000    1.000000    0.100000\n",
       "25%      5.100000    2.800000    1.600000    0.300000\n",
       "50%      5.800000    3.000000    4.350000    1.300000\n",
       "75%      6.400000    3.300000    5.100000    1.800000\n",
       "max      7.900000    4.400000    6.900000    2.500000"
      ]
     },
     "execution_count": 3,
     "metadata": {},
     "output_type": "execute_result"
    }
   ],
   "source": [
    "import pandas as pd\n",
    "pd.DataFrame(X).describe()"
   ]
  },
  {
   "cell_type": "code",
   "execution_count": 4,
   "metadata": {},
   "outputs": [],
   "source": [
    "from sklearn.model_selection import train_test_split\n",
    "X_train, X_test, y_train, y_test = train_test_split(X, y, test_size = 0.25, random_state = 0)"
   ]
  },
  {
   "cell_type": "code",
   "execution_count": 5,
   "metadata": {},
   "outputs": [
    {
     "data": {
      "text/plain": [
       "((112, 4), (38, 4))"
      ]
     },
     "execution_count": 5,
     "metadata": {},
     "output_type": "execute_result"
    }
   ],
   "source": [
    "X_train.shape, X_test.shape"
   ]
  },
  {
   "cell_type": "code",
   "execution_count": 6,
   "metadata": {},
   "outputs": [],
   "source": [
    "from sklearn.preprocessing import StandardScaler\n",
    "sc = StandardScaler()\n",
    "X_train = sc.fit_transform(X_train)\n",
    "X_test = sc.transform(X_test)"
   ]
  },
  {
   "cell_type": "code",
   "execution_count": 7,
   "metadata": {},
   "outputs": [
    {
     "data": {
      "text/plain": [
       "LogisticRegression(random_state=0)"
      ]
     },
     "execution_count": 7,
     "metadata": {},
     "output_type": "execute_result"
    }
   ],
   "source": [
    "from sklearn.linear_model import LogisticRegression\n",
    "classifier = LogisticRegression(random_state = 0, solver='lbfgs', multi_class='auto')\n",
    "classifier.fit(X_train, y_train)"
   ]
  },
  {
   "cell_type": "code",
   "execution_count": 8,
   "metadata": {},
   "outputs": [],
   "source": [
    "y_pred = classifier.predict(X_test)"
   ]
  },
  {
   "cell_type": "code",
   "execution_count": 9,
   "metadata": {},
   "outputs": [
    {
     "data": {
      "text/plain": [
       "array([2, 1, 0, 2, 0, 2, 0, 1, 1, 1, 2, 1, 1, 1, 1, 0, 1, 1, 0, 0, 2, 1,\n",
       "       0, 0, 2, 0, 0, 1, 1, 0, 2, 1, 0, 2, 2, 1, 0, 2])"
      ]
     },
     "execution_count": 9,
     "metadata": {},
     "output_type": "execute_result"
    }
   ],
   "source": [
    "y_pred"
   ]
  },
  {
   "cell_type": "code",
   "execution_count": 10,
   "metadata": {},
   "outputs": [
    {
     "data": {
      "text/plain": [
       "array([[1.44000190e-04, 3.10229631e-02, 9.68833037e-01],\n",
       "       [6.10260406e-03, 9.51779893e-01, 4.21175031e-02],\n",
       "       [9.95829257e-01, 4.17068031e-03, 6.24341984e-08],\n",
       "       [2.63165563e-05, 8.16815452e-02, 9.18292138e-01],\n",
       "       [9.76054237e-01, 2.39449962e-02, 7.66759367e-07],\n",
       "       [3.93932743e-05, 1.00234344e-02, 9.89937172e-01],\n",
       "       [9.83350859e-01, 1.66485720e-02, 5.69187774e-07],\n",
       "       [7.19021759e-03, 7.14876517e-01, 2.77933265e-01],\n",
       "       [2.40877022e-03, 7.28826817e-01, 2.68764413e-01],\n",
       "       [2.31340378e-02, 8.93934725e-01, 8.29312369e-02],\n",
       "       [1.37392624e-03, 4.41164216e-01, 5.57461858e-01],\n",
       "       [2.15122474e-02, 7.61536548e-01, 2.16951205e-01],\n",
       "       [1.38282267e-02, 8.54735970e-01, 1.31435803e-01],\n",
       "       [4.13651065e-03, 6.94763319e-01, 3.01100170e-01],\n",
       "       [1.31528824e-02, 7.49650359e-01, 2.37196759e-01],\n",
       "       [9.91333269e-01, 8.66658905e-03, 1.42195649e-07],\n",
       "       [1.58721852e-02, 7.20156999e-01, 2.63970816e-01],\n",
       "       [2.77980831e-02, 8.63019493e-01, 1.09182424e-01],\n",
       "       [9.39306190e-01, 6.06903352e-02, 3.47450835e-06],\n",
       "       [9.89322592e-01, 1.06770155e-02, 3.92098276e-07],\n",
       "       [2.13308122e-03, 1.66829921e-01, 8.31036998e-01],\n",
       "       [4.43199483e-02, 7.07811348e-01, 2.47868704e-01],\n",
       "       [9.76584788e-01, 2.34139379e-02, 1.27451820e-06],\n",
       "       [9.62969738e-01, 3.70286836e-02, 1.57864375e-06],\n",
       "       [2.07333127e-03, 3.45091698e-01, 6.52834970e-01],\n",
       "       [9.95917457e-01, 4.08248263e-03, 6.08134306e-08],\n",
       "       [9.85799986e-01, 1.41987693e-02, 1.24496501e-06],\n",
       "       [2.01679584e-02, 8.70248438e-01, 1.09583604e-01],\n",
       "       [8.69989139e-02, 8.96957424e-01, 1.60436623e-02],\n",
       "       [9.67115472e-01, 3.28818725e-02, 2.65542762e-06],\n",
       "       [1.30506595e-03, 2.13347908e-01, 7.85347026e-01],\n",
       "       [6.21404325e-02, 6.92012061e-01, 2.45847506e-01],\n",
       "       [9.75163218e-01, 2.48360540e-02, 7.27710184e-07],\n",
       "       [4.38029374e-03, 3.47137401e-01, 6.48482305e-01],\n",
       "       [4.91853719e-05, 3.74161663e-02, 9.62534648e-01],\n",
       "       [7.43160779e-02, 8.12342781e-01, 1.13341142e-01],\n",
       "       [9.69183809e-01, 3.08148485e-02, 1.34272952e-06],\n",
       "       [2.59170602e-03, 4.20196345e-01, 5.77211949e-01]])"
      ]
     },
     "execution_count": 10,
     "metadata": {},
     "output_type": "execute_result"
    }
   ],
   "source": [
    "probs_y=classifier.predict_proba(X_test)\n",
    "probs_y"
   ]
  },
  {
   "cell_type": "code",
   "execution_count": 11,
   "metadata": {},
   "outputs": [
    {
     "data": {
      "text/plain": [
       "array([[0.  , 0.03, 0.97],\n",
       "       [0.01, 0.95, 0.04],\n",
       "       [1.  , 0.  , 0.  ],\n",
       "       [0.  , 0.08, 0.92],\n",
       "       [0.98, 0.02, 0.  ],\n",
       "       [0.  , 0.01, 0.99],\n",
       "       [0.98, 0.02, 0.  ],\n",
       "       [0.01, 0.71, 0.28],\n",
       "       [0.  , 0.73, 0.27],\n",
       "       [0.02, 0.89, 0.08],\n",
       "       [0.  , 0.44, 0.56],\n",
       "       [0.02, 0.76, 0.22],\n",
       "       [0.01, 0.85, 0.13],\n",
       "       [0.  , 0.69, 0.3 ],\n",
       "       [0.01, 0.75, 0.24],\n",
       "       [0.99, 0.01, 0.  ],\n",
       "       [0.02, 0.72, 0.26],\n",
       "       [0.03, 0.86, 0.11],\n",
       "       [0.94, 0.06, 0.  ],\n",
       "       [0.99, 0.01, 0.  ],\n",
       "       [0.  , 0.17, 0.83],\n",
       "       [0.04, 0.71, 0.25],\n",
       "       [0.98, 0.02, 0.  ],\n",
       "       [0.96, 0.04, 0.  ],\n",
       "       [0.  , 0.35, 0.65],\n",
       "       [1.  , 0.  , 0.  ],\n",
       "       [0.99, 0.01, 0.  ],\n",
       "       [0.02, 0.87, 0.11],\n",
       "       [0.09, 0.9 , 0.02],\n",
       "       [0.97, 0.03, 0.  ],\n",
       "       [0.  , 0.21, 0.79],\n",
       "       [0.06, 0.69, 0.25],\n",
       "       [0.98, 0.02, 0.  ],\n",
       "       [0.  , 0.35, 0.65],\n",
       "       [0.  , 0.04, 0.96],\n",
       "       [0.07, 0.81, 0.11],\n",
       "       [0.97, 0.03, 0.  ],\n",
       "       [0.  , 0.42, 0.58]])"
      ]
     },
     "execution_count": 11,
     "metadata": {},
     "output_type": "execute_result"
    }
   ],
   "source": [
    "import numpy as np\n",
    "probs_y = np.round(probs_y, 2)\n",
    "probs_y"
   ]
  },
  {
   "cell_type": "code",
   "execution_count": 12,
   "metadata": {},
   "outputs": [
    {
     "name": "stdout",
     "output_type": "stream",
     "text": [
      "y_test     | y_pred     | Setosa(%)  | versicolor(%) | virginica(%)\n",
      "-----------------------------------------------------------------\n",
      "2          | 2          | 0.0        | 0.03          | 0.97      \n",
      "1          | 1          | 0.01       | 0.95          | 0.04      \n",
      "0          | 0          | 1.0        | 0.0           | 0.0       \n",
      "2          | 2          | 0.0        | 0.08          | 0.92      \n",
      "0          | 0          | 0.98       | 0.02          | 0.0       \n",
      "2          | 2          | 0.0        | 0.01          | 0.99      \n",
      "0          | 0          | 0.98       | 0.02          | 0.0       \n",
      "1          | 1          | 0.01       | 0.71          | 0.28      \n",
      "1          | 1          | 0.0        | 0.73          | 0.27      \n",
      "1          | 1          | 0.02       | 0.89          | 0.08      \n",
      "2          | 2          | 0.0        | 0.44          | 0.56      \n",
      "1          | 1          | 0.02       | 0.76          | 0.22      \n",
      "1          | 1          | 0.01       | 0.85          | 0.13      \n",
      "1          | 1          | 0.0        | 0.69          | 0.3       \n",
      "1          | 1          | 0.01       | 0.75          | 0.24      \n",
      "0          | 0          | 0.99       | 0.01          | 0.0       \n",
      "1          | 1          | 0.02       | 0.72          | 0.26      \n",
      "1          | 1          | 0.03       | 0.86          | 0.11      \n",
      "0          | 0          | 0.94       | 0.06          | 0.0       \n",
      "0          | 0          | 0.99       | 0.01          | 0.0       \n",
      "2          | 2          | 0.0        | 0.17          | 0.83      \n",
      "1          | 1          | 0.04       | 0.71          | 0.25      \n",
      "0          | 0          | 0.98       | 0.02          | 0.0       \n",
      "0          | 0          | 0.96       | 0.04          | 0.0       \n",
      "2          | 2          | 0.0        | 0.35          | 0.65      \n",
      "0          | 0          | 1.0        | 0.0           | 0.0       \n",
      "0          | 0          | 0.99       | 0.01          | 0.0       \n",
      "1          | 1          | 0.02       | 0.87          | 0.11      \n",
      "1          | 1          | 0.09       | 0.9           | 0.02      \n",
      "0          | 0          | 0.97       | 0.03          | 0.0       \n",
      "2          | 2          | 0.0        | 0.21          | 0.79      \n",
      "1          | 1          | 0.06       | 0.69          | 0.25      \n",
      "0          | 0          | 0.98       | 0.02          | 0.0       \n",
      "2          | 2          | 0.0        | 0.35          | 0.65      \n",
      "2          | 2          | 0.0        | 0.04          | 0.96      \n",
      "1          | 1          | 0.07       | 0.81          | 0.11      \n",
      "0          | 0          | 0.97       | 0.03          | 0.0       \n",
      "1          | 2          | 0.0        | 0.42          | 0.58      \n",
      "-----------------------------------------------------------------\n",
      "\n"
     ]
    }
   ],
   "source": [
    "import numpy as np\n",
    "probs_y = np.round(probs_y, 2)\n",
    "res = \"{:<10} | {:<10} | {:<10} | {:<13} | {:<5}\".format(\"y_test\",\n",
    "                                                         \"y_pred\", \n",
    "                                                         \"Setosa(%)\",\n",
    "                                                         \"versicolor(%)\",\n",
    "                                                         \"virginica(%)\\n\")\n",
    "res += \"-\"*65+\"\\n\"\n",
    "res += \"\\n\".join(\"{:<10} | {:<10} | {:<10} | {:<13} | {:<10}\".format(x, y, a, b, c) \n",
    "                 for x, y, a, b, c in zip(y_test, y_pred, probs_y[:,0], probs_y[:,1], probs_y[:,2]))\n",
    "res += \"\\n\"+\"-\"*65+\"\\n\"\n",
    "print(res)"
   ]
  },
  {
   "cell_type": "code",
   "execution_count": 13,
   "metadata": {},
   "outputs": [
    {
     "data": {
      "text/plain": [
       "0.9736842105263158"
      ]
     },
     "execution_count": 13,
     "metadata": {},
     "output_type": "execute_result"
    }
   ],
   "source": [
    "classifier.score(X_test, y_test)"
   ]
  },
  {
   "cell_type": "markdown",
   "metadata": {},
   "source": [
    "# Confusion Matrix"
   ]
  },
  {
   "cell_type": "code",
   "execution_count": 14,
   "metadata": {},
   "outputs": [],
   "source": [
    "from sklearn.metrics import confusion_matrix"
   ]
  },
  {
   "cell_type": "code",
   "execution_count": 15,
   "metadata": {},
   "outputs": [
    {
     "name": "stdout",
     "output_type": "stream",
     "text": [
      "[[13  0  0]\n",
      " [ 0 15  1]\n",
      " [ 0  0  9]]\n"
     ]
    }
   ],
   "source": [
    "from sklearn.metrics import confusion_matrix\n",
    "cm = confusion_matrix(y_test, y_pred)\n",
    "print(cm)"
   ]
  },
  {
   "cell_type": "code",
   "execution_count": 16,
   "metadata": {},
   "outputs": [
    {
     "data": {
      "text/plain": [
       "array([[1.    , 0.    , 0.    ],\n",
       "       [0.    , 0.9375, 0.0625],\n",
       "       [0.    , 0.    , 1.    ]])"
      ]
     },
     "execution_count": 16,
     "metadata": {},
     "output_type": "execute_result"
    }
   ],
   "source": [
    "df_cm = confusion_matrix(y_test, y_pred, normalize=\"true\")\n",
    "df_cm"
   ]
  },
  {
   "cell_type": "code",
   "execution_count": 17,
   "metadata": {},
   "outputs": [
    {
     "data": {
      "image/png": "[encoded data removed]",
      "text/plain": [
       "<Figure size 432x288 with 2 Axes>"
      ]
     },
     "metadata": {
      "needs_background": "light"
     },
     "output_type": "display_data"
    }
   ],
   "source": [
    "# Plot confusion matrix\n",
    "import seaborn as sns\n",
    "import pandas as pd\n",
    "import matplotlib.pyplot as plt\n",
    "# confusion matrix sns heatmap \n",
    "ax = plt.axes()\n",
    "df_cm = (confusion_matrix(y_test, y_pred, normalize=\"true\")*100).astype(int)\n",
    "\n",
    "sns.heatmap(df_cm, annot=True, annot_kws={\"size\": 30}, fmt='d',cmap=\"Blues\", ax = ax )\n",
    "ax.set_title('Confusion Matrix')\n",
    "plt.show()\n"
   ]
  },
  {
   "cell_type": "markdown",
   "metadata": {},
   "source": [
    "# 1. Solve classification problem using 'classification.csv' dataset"
   ]
  },
  {
   "cell_type": "code",
   "execution_count": 18,
   "metadata": {},
   "outputs": [],
   "source": [
    "# # example of updating one weight\n",
    "# epochs = 50\n",
    "# lr = 0.1\n",
    "# for _ in range(epochs):\n",
    "#     w1 -= lr * x1 * (y_hat - y) # y_hat is predicted value"
   ]
  },
  {
   "cell_type": "code",
   "execution_count": 19,
   "metadata": {},
   "outputs": [
    {
     "data": {
      "text/html": [
       "<div>\n",
       "<style scoped>\n",
       "    .dataframe tbody tr th:only-of-type {\n",
       "        vertical-align: middle;\n",
       "    }\n",
       "\n",
       "    .dataframe tbody tr th {\n",
       "        vertical-align: top;\n",
       "    }\n",
       "\n",
       "    .dataframe thead th {\n",
       "        text-align: right;\n",
       "    }\n",
       "</style>\n",
       "<table border=\"1\" class=\"dataframe\">\n",
       "  <thead>\n",
       "    <tr style=\"text-align: right;\">\n",
       "      <th></th>\n",
       "      <th>age</th>\n",
       "      <th>ed</th>\n",
       "      <th>employ</th>\n",
       "      <th>address</th>\n",
       "      <th>income</th>\n",
       "      <th>debtinc</th>\n",
       "      <th>creddebt</th>\n",
       "      <th>othdebt</th>\n",
       "      <th>default</th>\n",
       "    </tr>\n",
       "  </thead>\n",
       "  <tbody>\n",
       "    <tr>\n",
       "      <th>0</th>\n",
       "      <td>41</td>\n",
       "      <td>college degree</td>\n",
       "      <td>17</td>\n",
       "      <td>12</td>\n",
       "      <td>176</td>\n",
       "      <td>9.3</td>\n",
       "      <td>11.359392</td>\n",
       "      <td>5.008608</td>\n",
       "      <td>1</td>\n",
       "    </tr>\n",
       "    <tr>\n",
       "      <th>1</th>\n",
       "      <td>27</td>\n",
       "      <td>no high school</td>\n",
       "      <td>10</td>\n",
       "      <td>6</td>\n",
       "      <td>31</td>\n",
       "      <td>17.3</td>\n",
       "      <td>1.362202</td>\n",
       "      <td>4.000798</td>\n",
       "      <td>0</td>\n",
       "    </tr>\n",
       "    <tr>\n",
       "      <th>2</th>\n",
       "      <td>40</td>\n",
       "      <td>no high school</td>\n",
       "      <td>15</td>\n",
       "      <td>14</td>\n",
       "      <td>55</td>\n",
       "      <td>5.5</td>\n",
       "      <td>0.856075</td>\n",
       "      <td>2.168925</td>\n",
       "      <td>0</td>\n",
       "    </tr>\n",
       "    <tr>\n",
       "      <th>3</th>\n",
       "      <td>41</td>\n",
       "      <td>no high school</td>\n",
       "      <td>15</td>\n",
       "      <td>14</td>\n",
       "      <td>120</td>\n",
       "      <td>2.9</td>\n",
       "      <td>2.658720</td>\n",
       "      <td>0.821280</td>\n",
       "      <td>0</td>\n",
       "    </tr>\n",
       "    <tr>\n",
       "      <th>4</th>\n",
       "      <td>24</td>\n",
       "      <td>high school</td>\n",
       "      <td>2</td>\n",
       "      <td>0</td>\n",
       "      <td>28</td>\n",
       "      <td>17.3</td>\n",
       "      <td>1.787436</td>\n",
       "      <td>3.056564</td>\n",
       "      <td>1</td>\n",
       "    </tr>\n",
       "  </tbody>\n",
       "</table>\n",
       "</div>"
      ],
      "text/plain": [
       "   age              ed  employ  address  income  debtinc   creddebt   othdebt  \\\n",
       "0   41  college degree      17       12     176      9.3  11.359392  5.008608   \n",
       "1   27  no high school      10        6      31     17.3   1.362202  4.000798   \n",
       "2   40  no high school      15       14      55      5.5   0.856075  2.168925   \n",
       "3   41  no high school      15       14     120      2.9   2.658720  0.821280   \n",
       "4   24     high school       2        0      28     17.3   1.787436  3.056564   \n",
       "\n",
       "   default  \n",
       "0        1  \n",
       "1        0  \n",
       "2        0  \n",
       "3        0  \n",
       "4        1  "
      ]
     },
     "execution_count": 19,
     "metadata": {},
     "output_type": "execute_result"
    }
   ],
   "source": [
    "import pandas as pd\n",
    "default = pd.read_csv('classification.csv')\n",
    "default.head(5)"
   ]
  },
  {
   "cell_type": "markdown",
   "metadata": {},
   "source": [
    "## Implement gradient descent on logistic regression"
   ]
  },
  {
   "cell_type": "code",
   "execution_count": 30,
   "metadata": {},
   "outputs": [],
   "source": [
    "import numpy as np\n",
    "\n",
    "class Logistic_regression:\n",
    "    \n",
    "    def __init__(self, X, Y):\n",
    "        self.X, self.Y, self.beta = X, Y, np.zeros((X.shape[1], 1)).flatten()\n",
    "    \n",
    "    def log_loss(self):\n",
    "        return float(-np.dot(self.Y.T, np.log(self.sigmoid(self.X)))\n",
    "                     -np.dot(1-self.Y.T, np.log(1-self.sigmoid(self.X))))\n",
    "    \n",
    "    def cost_function(self):\n",
    "        return self.log_loss() / self.X.shape[0]\n",
    "    \n",
    "    def update_weights(self):\n",
    "        return np.dot((self.sigmoid(self.X) - self.Y).T, self.X).T\n",
    "    \n",
    "    def fit(self, max_steps=5000, step_size=0.000000404, epsilon=0.00000001):\n",
    "        for i in range(max_steps):\n",
    "            self.beta = self.beta - step_size * self.update_weights() + (epsilon / (2 * self.X.shape[1])) * sum([j**2 for j in self.beta])\n",
    "        \n",
    "    def predict(self, X):\n",
    "        return np.array([1 if i > 0.5 else 0 for i in self.sigmoid(X).ravel()])\n",
    "    \n",
    "    def sigmoid(self, X):\n",
    "        return (1 / (1 + np.exp(-np.dot(X, self.beta), dtype=np.float128))).flatten()"
   ]
  },
  {
   "cell_type": "markdown",
   "metadata": {},
   "source": [
    "#### visualise the date, do some EDA, find feature importance"
   ]
  },
  {
   "cell_type": "code",
   "execution_count": 31,
   "metadata": {},
   "outputs": [
    {
     "data": {
      "image/png": "[encoded data removed]",
      "text/plain": [
       "<Figure size 432x288 with 1 Axes>"
      ]
     },
     "metadata": {
      "needs_background": "light"
     },
     "output_type": "display_data"
    },
    {
     "data": {
      "image/png": "[encoded data removed]",
      "text/plain": [
       "<Figure size 432x288 with 1 Axes>"
      ]
     },
     "metadata": {
      "needs_background": "light"
     },
     "output_type": "display_data"
    },
    {
     "data": {
      "image/png": "[encoded data removed]",
      "text/plain": [
       "<Figure size 432x288 with 1 Axes>"
      ]
     },
     "metadata": {
      "needs_background": "light"
     },
     "output_type": "display_data"
    },
    {
     "data": {
      "image/png": "[encoded data removed]",
      "text/plain": [
       "<Figure size 432x288 with 1 Axes>"
      ]
     },
     "metadata": {
      "needs_background": "light"
     },
     "output_type": "display_data"
    },
    {
     "data": {
      "image/png": "[encoded data removed]",
      "text/plain": [
       "<Figure size 432x288 with 1 Axes>"
      ]
     },
     "metadata": {
      "needs_background": "light"
     },
     "output_type": "display_data"
    },
    {
     "data": {
      "image/png": "[encoded data removed]",
      "text/plain": [
       "<Figure size 432x288 with 1 Axes>"
      ]
     },
     "metadata": {
      "needs_background": "light"
     },
     "output_type": "display_data"
    },
    {
     "data": {
      "image/png": "[encoded data removed]",
      "text/plain": [
       "<Figure size 432x288 with 1 Axes>"
      ]
     },
     "metadata": {
      "needs_background": "light"
     },
     "output_type": "display_data"
    }
   ],
   "source": [
    "for feature in default.columns.difference(['default', 'ed']):\n",
    "    plt.xlabel(feature)\n",
    "    plt.ylabel('default')\n",
    "    plt.scatter(default[feature], default.default)\n",
    "    plt.show()"
   ]
  },
  {
   "cell_type": "code",
   "execution_count": 32,
   "metadata": {},
   "outputs": [
    {
     "data": {
      "text/html": [
       "<div>\n",
       "<style scoped>\n",
       "    .dataframe tbody tr th:only-of-type {\n",
       "        vertical-align: middle;\n",
       "    }\n",
       "\n",
       "    .dataframe tbody tr th {\n",
       "        vertical-align: top;\n",
       "    }\n",
       "\n",
       "    .dataframe thead th {\n",
       "        text-align: right;\n",
       "    }\n",
       "</style>\n",
       "<table border=\"1\" class=\"dataframe\">\n",
       "  <thead>\n",
       "    <tr style=\"text-align: right;\">\n",
       "      <th></th>\n",
       "      <th>age</th>\n",
       "      <th>ed</th>\n",
       "      <th>employ</th>\n",
       "      <th>address</th>\n",
       "      <th>income</th>\n",
       "      <th>debtinc</th>\n",
       "      <th>creddebt</th>\n",
       "      <th>othdebt</th>\n",
       "      <th>default</th>\n",
       "    </tr>\n",
       "  </thead>\n",
       "  <tbody>\n",
       "    <tr>\n",
       "      <th>age</th>\n",
       "      <td>1.000000</td>\n",
       "      <td>-0.009947</td>\n",
       "      <td>0.536497</td>\n",
       "      <td>0.597591</td>\n",
       "      <td>0.478710</td>\n",
       "      <td>0.016398</td>\n",
       "      <td>0.295207</td>\n",
       "      <td>0.340217</td>\n",
       "      <td>-0.137657</td>\n",
       "    </tr>\n",
       "    <tr>\n",
       "      <th>ed</th>\n",
       "      <td>-0.009947</td>\n",
       "      <td>1.000000</td>\n",
       "      <td>-0.009401</td>\n",
       "      <td>-0.037200</td>\n",
       "      <td>-0.057789</td>\n",
       "      <td>0.001912</td>\n",
       "      <td>-0.040029</td>\n",
       "      <td>-0.094006</td>\n",
       "      <td>-0.049645</td>\n",
       "    </tr>\n",
       "    <tr>\n",
       "      <th>employ</th>\n",
       "      <td>0.536497</td>\n",
       "      <td>-0.009401</td>\n",
       "      <td>1.000000</td>\n",
       "      <td>0.322334</td>\n",
       "      <td>0.619681</td>\n",
       "      <td>-0.031182</td>\n",
       "      <td>0.403694</td>\n",
       "      <td>0.406091</td>\n",
       "      <td>-0.282978</td>\n",
       "    </tr>\n",
       "    <tr>\n",
       "      <th>address</th>\n",
       "      <td>0.597591</td>\n",
       "      <td>-0.037200</td>\n",
       "      <td>0.322334</td>\n",
       "      <td>1.000000</td>\n",
       "      <td>0.316245</td>\n",
       "      <td>0.011323</td>\n",
       "      <td>0.208435</td>\n",
       "      <td>0.226514</td>\n",
       "      <td>-0.164451</td>\n",
       "    </tr>\n",
       "    <tr>\n",
       "      <th>income</th>\n",
       "      <td>0.478710</td>\n",
       "      <td>-0.057789</td>\n",
       "      <td>0.619681</td>\n",
       "      <td>0.316245</td>\n",
       "      <td>1.000000</td>\n",
       "      <td>-0.026777</td>\n",
       "      <td>0.570199</td>\n",
       "      <td>0.610659</td>\n",
       "      <td>-0.070970</td>\n",
       "    </tr>\n",
       "    <tr>\n",
       "      <th>debtinc</th>\n",
       "      <td>0.016398</td>\n",
       "      <td>0.001912</td>\n",
       "      <td>-0.031182</td>\n",
       "      <td>0.011323</td>\n",
       "      <td>-0.026777</td>\n",
       "      <td>1.000000</td>\n",
       "      <td>0.501767</td>\n",
       "      <td>0.584870</td>\n",
       "      <td>0.389575</td>\n",
       "    </tr>\n",
       "    <tr>\n",
       "      <th>creddebt</th>\n",
       "      <td>0.295207</td>\n",
       "      <td>-0.040029</td>\n",
       "      <td>0.403694</td>\n",
       "      <td>0.208435</td>\n",
       "      <td>0.570199</td>\n",
       "      <td>0.501767</td>\n",
       "      <td>1.000000</td>\n",
       "      <td>0.633104</td>\n",
       "      <td>0.244740</td>\n",
       "    </tr>\n",
       "    <tr>\n",
       "      <th>othdebt</th>\n",
       "      <td>0.340217</td>\n",
       "      <td>-0.094006</td>\n",
       "      <td>0.406091</td>\n",
       "      <td>0.226514</td>\n",
       "      <td>0.610659</td>\n",
       "      <td>0.584870</td>\n",
       "      <td>0.633104</td>\n",
       "      <td>1.000000</td>\n",
       "      <td>0.145713</td>\n",
       "    </tr>\n",
       "    <tr>\n",
       "      <th>default</th>\n",
       "      <td>-0.137657</td>\n",
       "      <td>-0.049645</td>\n",
       "      <td>-0.282978</td>\n",
       "      <td>-0.164451</td>\n",
       "      <td>-0.070970</td>\n",
       "      <td>0.389575</td>\n",
       "      <td>0.244740</td>\n",
       "      <td>0.145713</td>\n",
       "      <td>1.000000</td>\n",
       "    </tr>\n",
       "  </tbody>\n",
       "</table>\n",
       "</div>"
      ],
      "text/plain": [
       "               age        ed    employ   address    income   debtinc  \\\n",
       "age       1.000000 -0.009947  0.536497  0.597591  0.478710  0.016398   \n",
       "ed       -0.009947  1.000000 -0.009401 -0.037200 -0.057789  0.001912   \n",
       "employ    0.536497 -0.009401  1.000000  0.322334  0.619681 -0.031182   \n",
       "address   0.597591 -0.037200  0.322334  1.000000  0.316245  0.011323   \n",
       "income    0.478710 -0.057789  0.619681  0.316245  1.000000 -0.026777   \n",
       "debtinc   0.016398  0.001912 -0.031182  0.011323 -0.026777  1.000000   \n",
       "creddebt  0.295207 -0.040029  0.403694  0.208435  0.570199  0.501767   \n",
       "othdebt   0.340217 -0.094006  0.406091  0.226514  0.610659  0.584870   \n",
       "default  -0.137657 -0.049645 -0.282978 -0.164451 -0.070970  0.389575   \n",
       "\n",
       "          creddebt   othdebt   default  \n",
       "age       0.295207  0.340217 -0.137657  \n",
       "ed       -0.040029 -0.094006 -0.049645  \n",
       "employ    0.403694  0.406091 -0.282978  \n",
       "address   0.208435  0.226514 -0.164451  \n",
       "income    0.570199  0.610659 -0.070970  \n",
       "debtinc   0.501767  0.584870  0.389575  \n",
       "creddebt  1.000000  0.633104  0.244740  \n",
       "othdebt   0.633104  1.000000  0.145713  \n",
       "default   0.244740  0.145713  1.000000  "
      ]
     },
     "execution_count": 32,
     "metadata": {},
     "output_type": "execute_result"
    }
   ],
   "source": [
    "default.corr()"
   ]
  },
  {
   "cell_type": "markdown",
   "metadata": {},
   "source": [
    "##### target variable is 'default'. Apply feature selection, feature scaling, cross validation etc. (anything you think is needed)"
   ]
  },
  {
   "cell_type": "code",
   "execution_count": 33,
   "metadata": {},
   "outputs": [],
   "source": [
    "default.ed = default.ed.astype('category').cat.codes"
   ]
  },
  {
   "cell_type": "code",
   "execution_count": 34,
   "metadata": {},
   "outputs": [],
   "source": [
    "from sklearn.model_selection import train_test_split\n",
    "X, y = default[default.columns.difference(['default'])], default.default\n",
    "X_train, X_test, y_train, y_test = train_test_split(X, y, test_size=0.2,random_state=2)"
   ]
  },
  {
   "cell_type": "markdown",
   "metadata": {},
   "source": [
    "#### Implement \"confusion_matrix\" and \"f1_score\" functions"
   ]
  },
  {
   "cell_type": "code",
   "execution_count": 42,
   "metadata": {},
   "outputs": [],
   "source": [
    "def confusion_matrix(label, pred):\n",
    "    assert(len(label) == len(pred)), \"label and pred should have the same length\"\n",
    "    matrix = np.zeros(shape=(2, 2), dtype=int)\n",
    "    matrix[0, 0] = sum([1 for i in zip(label, pred) if i[0] == 0 and i[1] == 0])\n",
    "    matrix[1, 0] = sum([1 for i in zip(label, pred) if i[0] == 1 and i[1] == 0])\n",
    "    matrix[0, 1] = sum([1 for i in zip(label, pred) if i[0] == 0 and i[1] == 1])\n",
    "    matrix[1, 1] = sum([1 for i in zip(label, pred) if i[0] == 1 and i[1] == 1])\n",
    "    print(matrix)\n",
    "    return matrix"
   ]
  },
  {
   "cell_type": "code",
   "execution_count": 43,
   "metadata": {},
   "outputs": [],
   "source": [
    "def f1_score(conf_matrix: np.array) -> float:\n",
    "    assert(conf_matrix.shape == (2, 2)), 'conf_matrix shape should be (2, 2)'\n",
    "    if (2*conf_matrix[1, 1] + conf_matrix[0, 1] + conf_matrix[1, 0]) == 0:\n",
    "        return 'NA'\n",
    "    return 2*conf_matrix[1, 1] / (2*conf_matrix + conf_matrix[0, 1] + conf_matrix[1, 0])"
   ]
  },
  {
   "cell_type": "markdown",
   "metadata": {},
   "source": [
    "## Print accuracy, confusion matrix, precision, recall, sensitivity and specifity on train and test (and maybe validation) datasets."
   ]
  },
  {
   "cell_type": "markdown",
   "metadata": {},
   "source": [
    "#### Do not use any libraries for metrics, implement yourself"
   ]
  },
  {
   "cell_type": "code",
   "execution_count": 44,
   "metadata": {},
   "outputs": [],
   "source": [
    "import numpy as np\n",
    "\n",
    "def accuracy_score(conf_matrix: np.array) -> float:\n",
    "    assert(conf_matrix.shape == (2, 2)), 'conf_matrix shape should be (2, 2)'\n",
    "    if sum(sum(conf_matrix)) == 0:\n",
    "        return 'NA'\n",
    "    return sum(np.diag(conf_matrix)) / sum(sum(conf_matrix))\n",
    "\n",
    "def precision_score(conf_matrix: np.array) -> float:\n",
    "    assert(conf_matrix.shape == (2, 2)), 'conf_matrix shape should be (2, 2)'\n",
    "    if sum(conf_matrix[:,1]) == 0:\n",
    "        return 'NA'\n",
    "    return conf_matrix[1, 1] / sum(conf_matrix[:,1])\n",
    "\n",
    "def recall_score(conf_matrix: np.array) -> float:\n",
    "    assert(conf_matrix.shape == (2, 2)), 'conf_matrix shape should be (2, 2)'\n",
    "    if sum(conf_matrix[1,:]) == 0:\n",
    "        return 'NA'\n",
    "    return conf_matrix[1, 1] / sum(conf_matrix[1,:])\n",
    "\n",
    "sensitivity_score = recall_score\n",
    "\n",
    "def specificity_score(conf_matrix: np.array) -> float:\n",
    "    assert(conf_matrix.shape == (2, 2)), 'conf_matrix shape should be (2, 2)'\n",
    "    if sum(conf_matrix[0,:]) == 0:\n",
    "        return 'NA'\n",
    "    return conf_matrix[0, 0] / sum(conf_matrix[0,:])"
   ]
  },
  {
   "cell_type": "code",
   "execution_count": 45,
   "metadata": {},
   "outputs": [
    {
     "name": "stdout",
     "output_type": "stream",
     "text": [
      "[[364  52]\n",
      " [ 53  91]]\n",
      "Train Accuracy: 0.8125\n",
      "Train Precision: 0.6363636363636364\n",
      "Train Recall: 0.6319444444444444\n",
      "Train Sensitivity: 0.6319444444444444\n",
      "Train Specificity: 0.875\n",
      "Train F1 Score: [[0.21848739 0.8708134 ]\n",
      " [0.86255924 0.63414634]]\n",
      "\n",
      "[[93  8]\n",
      " [19 20]]\n",
      "Test Accuracy: 0.8071428571428572\n",
      "Test Precision: 0.7142857142857143\n",
      "Test Recall: 0.5128205128205128\n",
      "Test Sensitivity: 0.5128205128205128\n",
      "Test Specificity: 0.9207920792079208\n",
      "Test F1 Score: [[0.18779343 0.93023256]\n",
      " [0.61538462 0.59701493]]\n"
     ]
    }
   ],
   "source": [
    "log_reg = Logistic_regression(X_train, y_train)\n",
    "log_reg.fit(max_steps=10000, step_size=0.0001, epsilon=1e-14)\n",
    "train_pred = log_reg.predict(X_train)\n",
    "train_mat = confusion_matrix(np.array(y_train), train_pred)\n",
    "print(\"Train Accuracy:\", accuracy_score(train_mat))\n",
    "print(\"Train Precision:\", precision_score(conf_matrix=train_mat))\n",
    "print(\"Train Recall:\", recall_score(conf_matrix=train_mat))\n",
    "print(\"Train Sensitivity:\", sensitivity_score(conf_matrix=train_mat))\n",
    "print(\"Train Specificity:\", specificity_score(conf_matrix=train_mat))\n",
    "print(\"Train F1 Score:\", f1_score(conf_matrix=train_mat), end='\\n\\n')\n",
    "test_pred = log_reg.predict(X_test)\n",
    "test_mat = confusion_matrix(np.array(y_test), test_pred)\n",
    "\n",
    "print(\"Test Accuracy:\", accuracy_score(test_mat))\n",
    "print(\"Test Precision:\", precision_score(conf_matrix=test_mat))\n",
    "print(\"Test Recall:\", recall_score(conf_matrix=test_mat))\n",
    "print(\"Test Sensitivity:\", sensitivity_score(conf_matrix=test_mat))\n",
    "print(\"Test Specificity:\", specificity_score(conf_matrix=test_mat))\n",
    "print(\"Test F1 Score:\", f1_score(conf_matrix=test_mat))"
   ]
  }
 ],
 "metadata": {
  "kernelspec": {
   "display_name": "Python 3 (ipykernel)",
   "language": "python",
   "name": "python3"
  },
  "language_info": {
   "codemirror_mode": {
    "name": "ipython",
    "version": 3
   },
   "file_extension": ".py",
   "mimetype": "text/x-python",
   "name": "python",
   "nbconvert_exporter": "python",
   "pygments_lexer": "ipython3",
   "version": "3.9.9"
  }
 },
 "nbformat": 4,
 "nbformat_minor": 4
}
