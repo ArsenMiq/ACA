{
 "cells": [
  {
   "cell_type": "markdown",
   "metadata": {
    "id": "Q_VKROUNbGgs"
   },
   "source": [
    "# Large scale text analysis with deep learning\n",
    "\n",
    "Today we're gonna apply the newly learned tools for the task of predicting job salary.\n",
    "\n",
    "<img src=\"https://storage.googleapis.com/kaggle-competitions/kaggle/3342/media/salary%20prediction%20engine%20v2.png\" width=400px>"
   ]
  },
  {
   "cell_type": "code",
   "execution_count": 18,
   "metadata": {
    "id": "WkwF5F2JbGg5"
   },
   "outputs": [],
   "source": [
    "import numpy as np\n",
    "import pandas as pd\n",
    "import matplotlib.pyplot as plt\n",
    "%matplotlib inline"
   ]
  },
  {
   "cell_type": "markdown",
   "metadata": {
    "id": "B_o4-w9_bGg7"
   },
   "source": [
    "### About the challenge\n",
    "For starters, let's download and unpack the data from [here](https://www.dropbox.com/s/5msc5ix7ndyba10/Train_rev1.csv.tar.gz?dl=0). \n",
    "\n",
    "You can also get it from [yadisk url](https://yadi.sk/d/vVEOWPFY3NruT7) the competition [page](https://www.kaggle.com/c/job-salary-prediction/data) (pick `Train_rev1.*`)."
   ]
  },
  {
   "cell_type": "code",
   "execution_count": 19,
   "metadata": {
    "id": "1Hf9vO_CbGg8",
    "outputId": "390791c2-57c6-41fa-f954-df39a664c716"
   },
   "outputs": [
    {
     "name": "stdout",
     "output_type": "stream",
     "text": [
      "(244768, 12)\n"
     ]
    },
    {
     "data": {
      "text/html": [
       "<div>\n",
       "<style scoped>\n",
       "    .dataframe tbody tr th:only-of-type {\n",
       "        vertical-align: middle;\n",
       "    }\n",
       "\n",
       "    .dataframe tbody tr th {\n",
       "        vertical-align: top;\n",
       "    }\n",
       "\n",
       "    .dataframe thead th {\n",
       "        text-align: right;\n",
       "    }\n",
       "</style>\n",
       "<table border=\"1\" class=\"dataframe\">\n",
       "  <thead>\n",
       "    <tr style=\"text-align: right;\">\n",
       "      <th></th>\n",
       "      <th>Id</th>\n",
       "      <th>Title</th>\n",
       "      <th>FullDescription</th>\n",
       "      <th>LocationRaw</th>\n",
       "      <th>LocationNormalized</th>\n",
       "      <th>ContractType</th>\n",
       "      <th>ContractTime</th>\n",
       "      <th>Company</th>\n",
       "      <th>Category</th>\n",
       "      <th>SalaryRaw</th>\n",
       "      <th>SalaryNormalized</th>\n",
       "      <th>SourceName</th>\n",
       "    </tr>\n",
       "  </thead>\n",
       "  <tbody>\n",
       "    <tr>\n",
       "      <th>0</th>\n",
       "      <td>12612628</td>\n",
       "      <td>Engineering Systems Analyst</td>\n",
       "      <td>Engineering Systems Analyst Dorking Surrey Sal...</td>\n",
       "      <td>Dorking, Surrey, Surrey</td>\n",
       "      <td>Dorking</td>\n",
       "      <td>NaN</td>\n",
       "      <td>permanent</td>\n",
       "      <td>Gregory Martin International</td>\n",
       "      <td>Engineering Jobs</td>\n",
       "      <td>20000 - 30000/annum 20-30K</td>\n",
       "      <td>25000</td>\n",
       "      <td>cv-library.co.uk</td>\n",
       "    </tr>\n",
       "    <tr>\n",
       "      <th>1</th>\n",
       "      <td>12612830</td>\n",
       "      <td>Stress Engineer Glasgow</td>\n",
       "      <td>Stress Engineer Glasgow Salary **** to **** We...</td>\n",
       "      <td>Glasgow, Scotland, Scotland</td>\n",
       "      <td>Glasgow</td>\n",
       "      <td>NaN</td>\n",
       "      <td>permanent</td>\n",
       "      <td>Gregory Martin International</td>\n",
       "      <td>Engineering Jobs</td>\n",
       "      <td>25000 - 35000/annum 25-35K</td>\n",
       "      <td>30000</td>\n",
       "      <td>cv-library.co.uk</td>\n",
       "    </tr>\n",
       "    <tr>\n",
       "      <th>2</th>\n",
       "      <td>12612844</td>\n",
       "      <td>Modelling and simulation analyst</td>\n",
       "      <td>Mathematical Modeller / Simulation Analyst / O...</td>\n",
       "      <td>Hampshire, South East, South East</td>\n",
       "      <td>Hampshire</td>\n",
       "      <td>NaN</td>\n",
       "      <td>permanent</td>\n",
       "      <td>Gregory Martin International</td>\n",
       "      <td>Engineering Jobs</td>\n",
       "      <td>20000 - 40000/annum 20-40K</td>\n",
       "      <td>30000</td>\n",
       "      <td>cv-library.co.uk</td>\n",
       "    </tr>\n",
       "    <tr>\n",
       "      <th>3</th>\n",
       "      <td>12613049</td>\n",
       "      <td>Engineering Systems Analyst / Mathematical Mod...</td>\n",
       "      <td>Engineering Systems Analyst / Mathematical Mod...</td>\n",
       "      <td>Surrey, South East, South East</td>\n",
       "      <td>Surrey</td>\n",
       "      <td>NaN</td>\n",
       "      <td>permanent</td>\n",
       "      <td>Gregory Martin International</td>\n",
       "      <td>Engineering Jobs</td>\n",
       "      <td>25000 - 30000/annum 25K-30K negotiable</td>\n",
       "      <td>27500</td>\n",
       "      <td>cv-library.co.uk</td>\n",
       "    </tr>\n",
       "    <tr>\n",
       "      <th>4</th>\n",
       "      <td>12613647</td>\n",
       "      <td>Pioneer, Miser Engineering Systems Analyst</td>\n",
       "      <td>Pioneer, Miser  Engineering Systems Analyst Do...</td>\n",
       "      <td>Surrey, South East, South East</td>\n",
       "      <td>Surrey</td>\n",
       "      <td>NaN</td>\n",
       "      <td>permanent</td>\n",
       "      <td>Gregory Martin International</td>\n",
       "      <td>Engineering Jobs</td>\n",
       "      <td>20000 - 30000/annum 20-30K</td>\n",
       "      <td>25000</td>\n",
       "      <td>cv-library.co.uk</td>\n",
       "    </tr>\n",
       "  </tbody>\n",
       "</table>\n",
       "</div>"
      ],
      "text/plain": [
       "         Id                                              Title  \\\n",
       "0  12612628                        Engineering Systems Analyst   \n",
       "1  12612830                            Stress Engineer Glasgow   \n",
       "2  12612844                   Modelling and simulation analyst   \n",
       "3  12613049  Engineering Systems Analyst / Mathematical Mod...   \n",
       "4  12613647         Pioneer, Miser Engineering Systems Analyst   \n",
       "\n",
       "                                     FullDescription  \\\n",
       "0  Engineering Systems Analyst Dorking Surrey Sal...   \n",
       "1  Stress Engineer Glasgow Salary **** to **** We...   \n",
       "2  Mathematical Modeller / Simulation Analyst / O...   \n",
       "3  Engineering Systems Analyst / Mathematical Mod...   \n",
       "4  Pioneer, Miser  Engineering Systems Analyst Do...   \n",
       "\n",
       "                         LocationRaw LocationNormalized ContractType  \\\n",
       "0            Dorking, Surrey, Surrey            Dorking          NaN   \n",
       "1        Glasgow, Scotland, Scotland            Glasgow          NaN   \n",
       "2  Hampshire, South East, South East          Hampshire          NaN   \n",
       "3     Surrey, South East, South East             Surrey          NaN   \n",
       "4     Surrey, South East, South East             Surrey          NaN   \n",
       "\n",
       "  ContractTime                       Company          Category  \\\n",
       "0    permanent  Gregory Martin International  Engineering Jobs   \n",
       "1    permanent  Gregory Martin International  Engineering Jobs   \n",
       "2    permanent  Gregory Martin International  Engineering Jobs   \n",
       "3    permanent  Gregory Martin International  Engineering Jobs   \n",
       "4    permanent  Gregory Martin International  Engineering Jobs   \n",
       "\n",
       "                                SalaryRaw  SalaryNormalized        SourceName  \n",
       "0              20000 - 30000/annum 20-30K             25000  cv-library.co.uk  \n",
       "1              25000 - 35000/annum 25-35K             30000  cv-library.co.uk  \n",
       "2              20000 - 40000/annum 20-40K             30000  cv-library.co.uk  \n",
       "3  25000 - 30000/annum 25K-30K negotiable             27500  cv-library.co.uk  \n",
       "4              20000 - 30000/annum 20-30K             25000  cv-library.co.uk  "
      ]
     },
     "execution_count": 19,
     "metadata": {},
     "output_type": "execute_result"
    }
   ],
   "source": [
    "# !curl -L https://www.dropbox.com/s/5msc5ix7ndyba10/Train_rev1.csv.tar.gz?dl=1 -o Train_rev1.csv.tar.gz\n",
    "# !tar -xvzf ./Train_rev1.csv.tar.gz\n",
    "data = pd.read_csv(\"Train_rev1.csv\", index_col=None)\n",
    "print(data.shape)\n",
    "data.head()"
   ]
  },
  {
   "cell_type": "markdown",
   "metadata": {
    "id": "Od_TLM0LbGg9"
   },
   "source": [
    "One problem with salary prediction is that it's oddly distributed: there are many people who are paid standard salaries and a few that get tons of money. The distribution is fat-tailed on the right side, which is inconvenient for MSE minimization.\n",
    "\n",
    "There are several techniques to combat this: using a different loss function, predicting log-target instead of raw target or even replacing targets with their percentiles among all salaries in the training set. We gonna use logarithm for now.\n",
    "\n",
    "_You can read more [in the official description](https://www.kaggle.com/c/job-salary-prediction#description)._"
   ]
  },
  {
   "cell_type": "code",
   "execution_count": 20,
   "metadata": {
    "id": "9HG-7QpCbGg_"
   },
   "outputs": [],
   "source": [
    "data.drop(['Id'], axis=1, inplace=True)"
   ]
  },
  {
   "cell_type": "code",
   "execution_count": 21,
   "metadata": {
    "id": "SXi3bJ0sbGhA",
    "outputId": "cdfa8b83-2f51-422b-cdca-dd92765a4d95"
   },
   "outputs": [
    {
     "data": {
      "text/plain": [
       "(244768, 11)"
      ]
     },
     "execution_count": 21,
     "metadata": {},
     "output_type": "execute_result"
    }
   ],
   "source": [
    "data.shape"
   ]
  },
  {
   "cell_type": "markdown",
   "metadata": {
    "id": "8_iPgGxsbGhB"
   },
   "source": [
    "Our task is to predict one number, __Log1pSalary__.\n",
    "\n",
    "To do so, our model can access a number of features:\n",
    "* Free text: __`Title`__ and  __`FullDescription`__\n",
    "* Categorical: __`Category`__, __`Company`__, __`LocationNormalized`__, __`ContractType`__, and __`ContractTime`__."
   ]
  },
  {
   "cell_type": "markdown",
   "metadata": {
    "id": "gYilBj-GbGhD"
   },
   "source": [
    "### Preprocessing text data\n",
    "\n",
    "Applying NLP to a problem begins from tokenization: splitting raw text into sequences of tokens (words, punctuation, etc).\n",
    "\n",
    "__Your task__ is to lowercase and tokenize all texts under `Title` and `FullDescription` columns. Store the tokenized data as a __space-separated__ string of tokens for performance reasons.\n",
    "\n",
    "It's okay to use nltk tokenizers. Assertions were designed for WordPunctTokenizer, slight deviations are okay."
   ]
  },
  {
   "cell_type": "code",
   "execution_count": 22,
   "metadata": {
    "id": "_cdqRDEsbGhD",
    "outputId": "c685df99-a757-4df0-d906-7ab21056f6fd"
   },
   "outputs": [
    {
     "name": "stdout",
     "output_type": "stream",
     "text": [
      "Raw text:\n",
      "['Modelling and simulation analyst' 'Economics Teacher NQT'\n",
      " 'Web Designer  HTML, CSS, JavaScript, Photoshop  Macclesfield']\n"
     ]
    }
   ],
   "source": [
    "print(\"Raw text:\")\n",
    "print(data[\"Title\"][2::100000].values)"
   ]
  },
  {
   "cell_type": "code",
   "execution_count": 23,
   "metadata": {},
   "outputs": [
    {
     "name": "stdout",
     "output_type": "stream",
     "text": [
      "['Engineering Systems Analyst' 'Stress Engineer Glasgow'\n",
      " 'Modelling and simulation analyst' ...\n",
      " 'Business Development Executive up to ****' 'Audit Technitian'\n",
      " 'Marketing Executive']\n"
     ]
    },
    {
     "data": {
      "text/plain": [
       "(55000, 11)"
      ]
     },
     "execution_count": 23,
     "metadata": {},
     "output_type": "execute_result"
    }
   ],
   "source": [
    "data = data[:55000]\n",
    "print(data[\"Title\"].astype(str).values)\n",
    "data.shape"
   ]
  },
  {
   "cell_type": "code",
   "execution_count": 24,
   "metadata": {
    "id": "fuLFdSmcbGhE",
    "outputId": "19d80b41-5681-4c1d-80f3-cf5ba5acc027"
   },
   "outputs": [
    {
     "data": {
      "text/plain": [
       "'International Digital Account Manager (German)'"
      ]
     },
     "execution_count": 24,
     "metadata": {},
     "output_type": "execute_result"
    }
   ],
   "source": [
    "data.Title[54321]"
   ]
  },
  {
   "cell_type": "code",
   "execution_count": 25,
   "metadata": {
    "id": "6dAmNzcVbGhF",
    "outputId": "2b802f46-ea27-40c7-90db-e099b7ea1a2d"
   },
   "outputs": [],
   "source": [
    "import nltk\n",
    "tokenizer = nltk.tokenize.WordPunctTokenizer()\n",
    "preprocess = lambda text: ' '.join(tokenizer.tokenize(text.lower()))\n",
    "\n",
    "# see task above\n",
    "# <YOUR CODE HERE>\n",
    "data['Title'] = np.array([preprocess(comment) for comment in data[\"Title\"].astype(str).values])\n",
    "data['FullDescription'] = np.array([preprocess(comment) for comment in data[\"FullDescription\"].astype(str).values])"
   ]
  },
  {
   "cell_type": "code",
   "execution_count": 26,
   "metadata": {},
   "outputs": [
    {
     "data": {
      "text/html": [
       "<div>\n",
       "<style scoped>\n",
       "    .dataframe tbody tr th:only-of-type {\n",
       "        vertical-align: middle;\n",
       "    }\n",
       "\n",
       "    .dataframe tbody tr th {\n",
       "        vertical-align: top;\n",
       "    }\n",
       "\n",
       "    .dataframe thead th {\n",
       "        text-align: right;\n",
       "    }\n",
       "</style>\n",
       "<table border=\"1\" class=\"dataframe\">\n",
       "  <thead>\n",
       "    <tr style=\"text-align: right;\">\n",
       "      <th></th>\n",
       "      <th>Title</th>\n",
       "      <th>FullDescription</th>\n",
       "      <th>LocationRaw</th>\n",
       "      <th>LocationNormalized</th>\n",
       "      <th>ContractType</th>\n",
       "      <th>ContractTime</th>\n",
       "      <th>Company</th>\n",
       "      <th>Category</th>\n",
       "      <th>SalaryRaw</th>\n",
       "      <th>SalaryNormalized</th>\n",
       "      <th>SourceName</th>\n",
       "    </tr>\n",
       "  </thead>\n",
       "  <tbody>\n",
       "    <tr>\n",
       "      <th>2</th>\n",
       "      <td>modelling and simulation analyst</td>\n",
       "      <td>mathematical modeller / simulation analyst / o...</td>\n",
       "      <td>Hampshire, South East, South East</td>\n",
       "      <td>Hampshire</td>\n",
       "      <td>NaN</td>\n",
       "      <td>permanent</td>\n",
       "      <td>Gregory Martin International</td>\n",
       "      <td>Engineering Jobs</td>\n",
       "      <td>20000 - 40000/annum 20-40K</td>\n",
       "      <td>30000</td>\n",
       "      <td>cv-library.co.uk</td>\n",
       "    </tr>\n",
       "    <tr>\n",
       "      <th>102</th>\n",
       "      <td>revenue manager luxury resort hotel &amp; spa live...</td>\n",
       "      <td>the hotel revenue manager luxury resort hotel ...</td>\n",
       "      <td>Jersey Channel Isles</td>\n",
       "      <td>Jersey</td>\n",
       "      <td>NaN</td>\n",
       "      <td>NaN</td>\n",
       "      <td>Marshall Human Resources</td>\n",
       "      <td>Hospitality &amp; Catering Jobs</td>\n",
       "      <td>From 26,000 to 27,000 per annum live-in availa...</td>\n",
       "      <td>26500</td>\n",
       "      <td>caterer.com</td>\n",
       "    </tr>\n",
       "    <tr>\n",
       "      <th>202</th>\n",
       "      <td>nursing home staff nurse job surrey</td>\n",
       "      <td>nursing home staff nurse job surrey our client...</td>\n",
       "      <td>Surrey</td>\n",
       "      <td>Surrey</td>\n",
       "      <td>full_time</td>\n",
       "      <td>NaN</td>\n",
       "      <td>NaN</td>\n",
       "      <td>Healthcare &amp; Nursing Jobs</td>\n",
       "      <td>12.00 per hour</td>\n",
       "      <td>23040</td>\n",
       "      <td>careworx.co.uk</td>\n",
       "    </tr>\n",
       "    <tr>\n",
       "      <th>302</th>\n",
       "      <td>support worker job skipton</td>\n",
       "      <td>support worker job skipton job title : paediat...</td>\n",
       "      <td>Skipton, North Yorkshire</td>\n",
       "      <td>Skipton</td>\n",
       "      <td>part_time</td>\n",
       "      <td>NaN</td>\n",
       "      <td>NaN</td>\n",
       "      <td>Healthcare &amp; Nursing Jobs</td>\n",
       "      <td>7.17 to 9.00 per hour</td>\n",
       "      <td>15523</td>\n",
       "      <td>careworx.co.uk</td>\n",
       "    </tr>\n",
       "    <tr>\n",
       "      <th>402</th>\n",
       "      <td>pulse staffing are currently seeking nurses to...</td>\n",
       "      <td>pulse staffing are currently seeking nurses to...</td>\n",
       "      <td>Sussex, UK</td>\n",
       "      <td>West Sussex</td>\n",
       "      <td>NaN</td>\n",
       "      <td>NaN</td>\n",
       "      <td>NaN</td>\n",
       "      <td>Healthcare &amp; Nursing Jobs</td>\n",
       "      <td>17.00ph to 27.20ph per hour</td>\n",
       "      <td>42432</td>\n",
       "      <td>careworx.co.uk</td>\n",
       "    </tr>\n",
       "    <tr>\n",
       "      <th>...</th>\n",
       "      <td>...</td>\n",
       "      <td>...</td>\n",
       "      <td>...</td>\n",
       "      <td>...</td>\n",
       "      <td>...</td>\n",
       "      <td>...</td>\n",
       "      <td>...</td>\n",
       "      <td>...</td>\n",
       "      <td>...</td>\n",
       "      <td>...</td>\n",
       "      <td>...</td>\n",
       "    </tr>\n",
       "    <tr>\n",
       "      <th>54502</th>\n",
       "      <td>technical sales professional</td>\n",
       "      <td>my client is looking for an enthusiastic sales...</td>\n",
       "      <td>Kidlington Oxfordshire South East</td>\n",
       "      <td>Kidlington</td>\n",
       "      <td>NaN</td>\n",
       "      <td>permanent</td>\n",
       "      <td>Plus One Personnel</td>\n",
       "      <td>Sales Jobs</td>\n",
       "      <td>From 20,000 to 22,000 per annum</td>\n",
       "      <td>21000</td>\n",
       "      <td>totaljobs.com</td>\n",
       "    </tr>\n",
       "    <tr>\n",
       "      <th>54602</th>\n",
       "      <td>service delivery specialist / post sales speci...</td>\n",
       "      <td>our client is an information technology distri...</td>\n",
       "      <td>London South East</td>\n",
       "      <td>South East London</td>\n",
       "      <td>NaN</td>\n",
       "      <td>permanent</td>\n",
       "      <td>Tectre</td>\n",
       "      <td>IT Jobs</td>\n",
       "      <td>Upto 50,000 per annum OTE</td>\n",
       "      <td>50000</td>\n",
       "      <td>totaljobs.com</td>\n",
       "    </tr>\n",
       "    <tr>\n",
       "      <th>54702</th>\n",
       "      <td>account manager design</td>\n",
       "      <td>account manager ( branding / packaging / desig...</td>\n",
       "      <td>Bristol Avon South West</td>\n",
       "      <td>UK</td>\n",
       "      <td>NaN</td>\n",
       "      <td>permanent</td>\n",
       "      <td>Pure Recruitment</td>\n",
       "      <td>PR, Advertising &amp; Marketing Jobs</td>\n",
       "      <td>From 25,000 to 30,000 per annum</td>\n",
       "      <td>27500</td>\n",
       "      <td>totaljobs.com</td>\n",
       "    </tr>\n",
       "    <tr>\n",
       "      <th>54802</th>\n",
       "      <td>recruitment consultant</td>\n",
       "      <td>recruitment consultant central london overview...</td>\n",
       "      <td>Central London / West End London South East</td>\n",
       "      <td>London</td>\n",
       "      <td>NaN</td>\n",
       "      <td>permanent</td>\n",
       "      <td>Leverage Appointments</td>\n",
       "      <td>HR &amp; Recruitment Jobs</td>\n",
       "      <td>OTE of up to 100k+ Depending on experience</td>\n",
       "      <td>100000</td>\n",
       "      <td>totaljobs.com</td>\n",
       "    </tr>\n",
       "    <tr>\n",
       "      <th>54902</th>\n",
       "      <td>assessor / trainer sales / telesales</td>\n",
       "      <td>this role requires a proactive individual with...</td>\n",
       "      <td>Gloucester Gloucestershire South West</td>\n",
       "      <td>Gloucester</td>\n",
       "      <td>NaN</td>\n",
       "      <td>permanent</td>\n",
       "      <td>GPRS Recruitment</td>\n",
       "      <td>Sales Jobs</td>\n",
       "      <td>22700 per annum + Benefits</td>\n",
       "      <td>22700</td>\n",
       "      <td>totaljobs.com</td>\n",
       "    </tr>\n",
       "  </tbody>\n",
       "</table>\n",
       "<p>550 rows × 11 columns</p>\n",
       "</div>"
      ],
      "text/plain": [
       "                                                   Title  \\\n",
       "2                       modelling and simulation analyst   \n",
       "102    revenue manager luxury resort hotel & spa live...   \n",
       "202                  nursing home staff nurse job surrey   \n",
       "302                           support worker job skipton   \n",
       "402    pulse staffing are currently seeking nurses to...   \n",
       "...                                                  ...   \n",
       "54502                       technical sales professional   \n",
       "54602  service delivery specialist / post sales speci...   \n",
       "54702                             account manager design   \n",
       "54802                             recruitment consultant   \n",
       "54902               assessor / trainer sales / telesales   \n",
       "\n",
       "                                         FullDescription  \\\n",
       "2      mathematical modeller / simulation analyst / o...   \n",
       "102    the hotel revenue manager luxury resort hotel ...   \n",
       "202    nursing home staff nurse job surrey our client...   \n",
       "302    support worker job skipton job title : paediat...   \n",
       "402    pulse staffing are currently seeking nurses to...   \n",
       "...                                                  ...   \n",
       "54502  my client is looking for an enthusiastic sales...   \n",
       "54602  our client is an information technology distri...   \n",
       "54702  account manager ( branding / packaging / desig...   \n",
       "54802  recruitment consultant central london overview...   \n",
       "54902  this role requires a proactive individual with...   \n",
       "\n",
       "                                       LocationRaw LocationNormalized  \\\n",
       "2                Hampshire, South East, South East          Hampshire   \n",
       "102                           Jersey Channel Isles             Jersey   \n",
       "202                                         Surrey             Surrey   \n",
       "302                       Skipton, North Yorkshire            Skipton   \n",
       "402                                     Sussex, UK        West Sussex   \n",
       "...                                            ...                ...   \n",
       "54502            Kidlington Oxfordshire South East         Kidlington   \n",
       "54602                            London South East  South East London   \n",
       "54702                      Bristol Avon South West                 UK   \n",
       "54802  Central London / West End London South East             London   \n",
       "54902        Gloucester Gloucestershire South West         Gloucester   \n",
       "\n",
       "      ContractType ContractTime                       Company  \\\n",
       "2              NaN    permanent  Gregory Martin International   \n",
       "102            NaN          NaN      Marshall Human Resources   \n",
       "202      full_time          NaN                           NaN   \n",
       "302      part_time          NaN                           NaN   \n",
       "402            NaN          NaN                           NaN   \n",
       "...            ...          ...                           ...   \n",
       "54502          NaN    permanent            Plus One Personnel   \n",
       "54602          NaN    permanent                        Tectre   \n",
       "54702          NaN    permanent              Pure Recruitment   \n",
       "54802          NaN    permanent         Leverage Appointments   \n",
       "54902          NaN    permanent              GPRS Recruitment   \n",
       "\n",
       "                               Category  \\\n",
       "2                      Engineering Jobs   \n",
       "102         Hospitality & Catering Jobs   \n",
       "202           Healthcare & Nursing Jobs   \n",
       "302           Healthcare & Nursing Jobs   \n",
       "402           Healthcare & Nursing Jobs   \n",
       "...                                 ...   \n",
       "54502                        Sales Jobs   \n",
       "54602                           IT Jobs   \n",
       "54702  PR, Advertising & Marketing Jobs   \n",
       "54802             HR & Recruitment Jobs   \n",
       "54902                        Sales Jobs   \n",
       "\n",
       "                                               SalaryRaw  SalaryNormalized  \\\n",
       "2                             20000 - 40000/annum 20-40K             30000   \n",
       "102    From 26,000 to 27,000 per annum live-in availa...             26500   \n",
       "202                                       12.00 per hour             23040   \n",
       "302                                7.17 to 9.00 per hour             15523   \n",
       "402                          17.00ph to 27.20ph per hour             42432   \n",
       "...                                                  ...               ...   \n",
       "54502                    From 20,000 to 22,000 per annum             21000   \n",
       "54602                          Upto 50,000 per annum OTE             50000   \n",
       "54702                    From 25,000 to 30,000 per annum             27500   \n",
       "54802         OTE of up to 100k+ Depending on experience            100000   \n",
       "54902                         22700 per annum + Benefits             22700   \n",
       "\n",
       "             SourceName  \n",
       "2      cv-library.co.uk  \n",
       "102         caterer.com  \n",
       "202      careworx.co.uk  \n",
       "302      careworx.co.uk  \n",
       "402      careworx.co.uk  \n",
       "...                 ...  \n",
       "54502     totaljobs.com  \n",
       "54602     totaljobs.com  \n",
       "54702     totaljobs.com  \n",
       "54802     totaljobs.com  \n",
       "54902     totaljobs.com  \n",
       "\n",
       "[550 rows x 11 columns]"
      ]
     },
     "execution_count": 26,
     "metadata": {},
     "output_type": "execute_result"
    }
   ],
   "source": [
    "data[2::100]"
   ]
  },
  {
   "cell_type": "code",
   "execution_count": 27,
   "metadata": {},
   "outputs": [
    {
     "data": {
      "text/plain": [
       "'mathematical modeller / simulation analyst / opera'"
      ]
     },
     "execution_count": 27,
     "metadata": {},
     "output_type": "execute_result"
    }
   ],
   "source": [
    "data[\"FullDescription\"][2][:50]"
   ]
  },
  {
   "cell_type": "markdown",
   "metadata": {
    "id": "Xun8DVnJbGhG"
   },
   "source": [
    "Now we can assume that our text is a space-separated list of tokens:"
   ]
  },
  {
   "cell_type": "code",
   "execution_count": 28,
   "metadata": {
    "id": "_momRzFAbGhG",
    "outputId": "f4799ea4-0f64-47e9-c2ac-4b63bcde6819"
   },
   "outputs": [
    {
     "name": "stdout",
     "output_type": "stream",
     "text": [
      "Tokenized:\n",
      "2    mathematical modeller / simulation analyst / o...\n",
      "Name: FullDescription, dtype: object\n"
     ]
    }
   ],
   "source": [
    "print(\"Tokenized:\")\n",
    "print(data[\"FullDescription\"][2::100000])\n",
    "assert data[\"FullDescription\"][2][:50] == 'mathematical modeller / simulation analyst / opera'\n",
    "assert data[\"Title\"][54321] == 'international digital account manager ( german )'"
   ]
  },
  {
   "cell_type": "code",
   "execution_count": 129,
   "metadata": {
    "colab": {
     "base_uri": "https://localhost:8080/",
     "height": 315
    },
    "id": "hOL7qjX6bGhH",
    "outputId": "90225479-1a8a-4e35-b252-797166c33544"
   },
   "outputs": [
    {
     "data": {
      "text/html": [
       "<div>\n",
       "<style scoped>\n",
       "    .dataframe tbody tr th:only-of-type {\n",
       "        vertical-align: middle;\n",
       "    }\n",
       "\n",
       "    .dataframe tbody tr th {\n",
       "        vertical-align: top;\n",
       "    }\n",
       "\n",
       "    .dataframe thead th {\n",
       "        text-align: right;\n",
       "    }\n",
       "</style>\n",
       "<table border=\"1\" class=\"dataframe\">\n",
       "  <thead>\n",
       "    <tr style=\"text-align: right;\">\n",
       "      <th></th>\n",
       "      <th>Title</th>\n",
       "      <th>FullDescription</th>\n",
       "      <th>LocationRaw</th>\n",
       "      <th>LocationNormalized</th>\n",
       "      <th>ContractType</th>\n",
       "      <th>ContractTime</th>\n",
       "      <th>Company</th>\n",
       "      <th>Category</th>\n",
       "      <th>SalaryRaw</th>\n",
       "      <th>SalaryNormalized</th>\n",
       "      <th>SourceName</th>\n",
       "    </tr>\n",
       "  </thead>\n",
       "  <tbody>\n",
       "    <tr>\n",
       "      <th>40990</th>\n",
       "      <td>seo specialist</td>\n",
       "      <td>this is an excellent opportunity for an experi...</td>\n",
       "      <td>Suffolk</td>\n",
       "      <td>Suffolk</td>\n",
       "      <td>full_time</td>\n",
       "      <td>permanent</td>\n",
       "      <td>BRAND RECRUITMENT</td>\n",
       "      <td>Teaching Jobs</td>\n",
       "      <td>30000 per annum</td>\n",
       "      <td>30000</td>\n",
       "      <td>jobs.guardian.co.uk</td>\n",
       "    </tr>\n",
       "    <tr>\n",
       "      <th>48225</th>\n",
       "      <td>software developer / programmer c , sql</td>\n",
       "      <td>c software developer / programmer with . net ,...</td>\n",
       "      <td>Stockport,Manchester,Greater Manchester,Cheadl...</td>\n",
       "      <td>UK</td>\n",
       "      <td>NaN</td>\n",
       "      <td>permanent</td>\n",
       "      <td>IT Executive Recruitment</td>\n",
       "      <td>IT Jobs</td>\n",
       "      <td>22k - 37k pa</td>\n",
       "      <td>29500</td>\n",
       "      <td>jobsite.co.uk</td>\n",
       "    </tr>\n",
       "    <tr>\n",
       "      <th>25831</th>\n",
       "      <td>payroll clerk part time</td>\n",
       "      <td>an opportunity has been created in blackburn f...</td>\n",
       "      <td>Blackburn</td>\n",
       "      <td>Blackburn</td>\n",
       "      <td>full_time</td>\n",
       "      <td>NaN</td>\n",
       "      <td>NaN</td>\n",
       "      <td>Accounting &amp; Finance Jobs</td>\n",
       "      <td>16,000.00 - 17,000.00 per year</td>\n",
       "      <td>16500</td>\n",
       "      <td>Jobcentre Plus</td>\n",
       "    </tr>\n",
       "  </tbody>\n",
       "</table>\n",
       "</div>"
      ],
      "text/plain": [
       "                                         Title  \\\n",
       "40990                           seo specialist   \n",
       "48225  software developer / programmer c , sql   \n",
       "25831                  payroll clerk part time   \n",
       "\n",
       "                                         FullDescription  \\\n",
       "40990  this is an excellent opportunity for an experi...   \n",
       "48225  c software developer / programmer with . net ,...   \n",
       "25831  an opportunity has been created in blackburn f...   \n",
       "\n",
       "                                             LocationRaw LocationNormalized  \\\n",
       "40990                                            Suffolk            Suffolk   \n",
       "48225  Stockport,Manchester,Greater Manchester,Cheadl...                 UK   \n",
       "25831                                          Blackburn          Blackburn   \n",
       "\n",
       "      ContractType ContractTime                   Company  \\\n",
       "40990    full_time    permanent         BRAND RECRUITMENT   \n",
       "48225          NaN    permanent  IT Executive Recruitment   \n",
       "25831    full_time          NaN                       NaN   \n",
       "\n",
       "                        Category                       SalaryRaw  \\\n",
       "40990              Teaching Jobs                 30000 per annum   \n",
       "48225                    IT Jobs                    22k - 37k pa   \n",
       "25831  Accounting & Finance Jobs  16,000.00 - 17,000.00 per year   \n",
       "\n",
       "       SalaryNormalized           SourceName  \n",
       "40990             30000  jobs.guardian.co.uk  \n",
       "48225             29500        jobsite.co.uk  \n",
       "25831             16500       Jobcentre Plus  "
      ]
     },
     "execution_count": 129,
     "metadata": {},
     "output_type": "execute_result"
    }
   ],
   "source": [
    "# data.to_csv('data_tokenized.csv', index=False)\n",
    "data = pd.read_csv('data_tokenized.csv')\n",
    "data.sample(3)"
   ]
  },
  {
   "cell_type": "code",
   "execution_count": 130,
   "metadata": {
    "colab": {
     "base_uri": "https://localhost:8080/",
     "height": 265
    },
    "id": "F5hNn-JlbGg-",
    "outputId": "855e7c79-03b8-43ac-9a89-4190ea734a7c"
   },
   "outputs": [
    {
     "data": {
      "image/png": "[encoded data removed]",
      "text/plain": [
       "<Figure size 576x288 with 2 Axes>"
      ]
     },
     "metadata": {
      "needs_background": "light"
     },
     "output_type": "display_data"
    }
   ],
   "source": [
    "data['Log1pSalary'] = np.log1p(data['SalaryNormalized']).astype('float32')\n",
    "\n",
    "plt.figure(figsize=[8, 4])\n",
    "plt.subplot(1, 2, 1)\n",
    "plt.hist(data[\"SalaryNormalized\"], bins=20);\n",
    "\n",
    "plt.subplot(1, 2, 2)\n",
    "plt.hist(data['Log1pSalary'], bins=20);"
   ]
  },
  {
   "cell_type": "code",
   "execution_count": 131,
   "metadata": {
    "colab": {
     "base_uri": "https://localhost:8080/",
     "height": 298
    },
    "id": "wVHVmxYUbGhC",
    "outputId": "3343a317-a036-4b6d-d5e8-f6ac709f7c0e"
   },
   "outputs": [
    {
     "data": {
      "text/html": [
       "<div>\n",
       "<style scoped>\n",
       "    .dataframe tbody tr th:only-of-type {\n",
       "        vertical-align: middle;\n",
       "    }\n",
       "\n",
       "    .dataframe tbody tr th {\n",
       "        vertical-align: top;\n",
       "    }\n",
       "\n",
       "    .dataframe thead th {\n",
       "        text-align: right;\n",
       "    }\n",
       "</style>\n",
       "<table border=\"1\" class=\"dataframe\">\n",
       "  <thead>\n",
       "    <tr style=\"text-align: right;\">\n",
       "      <th></th>\n",
       "      <th>Title</th>\n",
       "      <th>FullDescription</th>\n",
       "      <th>LocationRaw</th>\n",
       "      <th>LocationNormalized</th>\n",
       "      <th>ContractType</th>\n",
       "      <th>ContractTime</th>\n",
       "      <th>Company</th>\n",
       "      <th>Category</th>\n",
       "      <th>SalaryRaw</th>\n",
       "      <th>SalaryNormalized</th>\n",
       "      <th>SourceName</th>\n",
       "      <th>Log1pSalary</th>\n",
       "    </tr>\n",
       "  </thead>\n",
       "  <tbody>\n",
       "    <tr>\n",
       "      <th>32848</th>\n",
       "      <td>assistant manager new opening rest / bar readi...</td>\n",
       "      <td>a fantastic opportunity has arisen for an assi...</td>\n",
       "      <td>Reading, Berkshire, UK, Berkshire</td>\n",
       "      <td>Reading</td>\n",
       "      <td>NaN</td>\n",
       "      <td>NaN</td>\n",
       "      <td>PTHR International Restaurants Bars</td>\n",
       "      <td>Hospitality &amp; Catering Jobs</td>\n",
       "      <td>From 22,000 to 25,000 per annum 5k Bonus poten...</td>\n",
       "      <td>23500</td>\n",
       "      <td>jobs.catererandhotelkeeper.com</td>\n",
       "      <td>10.064798</td>\n",
       "    </tr>\n",
       "    <tr>\n",
       "      <th>45510</th>\n",
       "      <td>quality auditor</td>\n",
       "      <td>this is an exciting opportunity to join a glob...</td>\n",
       "      <td>South East</td>\n",
       "      <td>South East London</td>\n",
       "      <td>NaN</td>\n",
       "      <td>permanent</td>\n",
       "      <td>Michael Page International PLC</td>\n",
       "      <td>Engineering Jobs</td>\n",
       "      <td>38000 to 40000</td>\n",
       "      <td>39000</td>\n",
       "      <td>justengineers.net</td>\n",
       "      <td>10.571342</td>\n",
       "    </tr>\n",
       "    <tr>\n",
       "      <th>42634</th>\n",
       "      <td>pipefitter / welder</td>\n",
       "      <td>**** x pipefitter / welder required to work on...</td>\n",
       "      <td>Berkhamsted</td>\n",
       "      <td>Berkhamsted</td>\n",
       "      <td>full_time</td>\n",
       "      <td>NaN</td>\n",
       "      <td>NaN</td>\n",
       "      <td>Manufacturing Jobs</td>\n",
       "      <td>15.00 - 16.00 per hour</td>\n",
       "      <td>29760</td>\n",
       "      <td>Jobcentre Plus</td>\n",
       "      <td>10.300954</td>\n",
       "    </tr>\n",
       "  </tbody>\n",
       "</table>\n",
       "</div>"
      ],
      "text/plain": [
       "                                                   Title  \\\n",
       "32848  assistant manager new opening rest / bar readi...   \n",
       "45510                                    quality auditor   \n",
       "42634                                pipefitter / welder   \n",
       "\n",
       "                                         FullDescription  \\\n",
       "32848  a fantastic opportunity has arisen for an assi...   \n",
       "45510  this is an exciting opportunity to join a glob...   \n",
       "42634  **** x pipefitter / welder required to work on...   \n",
       "\n",
       "                             LocationRaw LocationNormalized ContractType  \\\n",
       "32848  Reading, Berkshire, UK, Berkshire            Reading          NaN   \n",
       "45510                         South East  South East London          NaN   \n",
       "42634                        Berkhamsted        Berkhamsted    full_time   \n",
       "\n",
       "      ContractTime                              Company  \\\n",
       "32848          NaN  PTHR International Restaurants Bars   \n",
       "45510    permanent       Michael Page International PLC   \n",
       "42634          NaN                                  NaN   \n",
       "\n",
       "                          Category  \\\n",
       "32848  Hospitality & Catering Jobs   \n",
       "45510             Engineering Jobs   \n",
       "42634           Manufacturing Jobs   \n",
       "\n",
       "                                               SalaryRaw  SalaryNormalized  \\\n",
       "32848  From 22,000 to 25,000 per annum 5k Bonus poten...             23500   \n",
       "45510                                     38000 to 40000             39000   \n",
       "42634                             15.00 - 16.00 per hour             29760   \n",
       "\n",
       "                           SourceName  Log1pSalary  \n",
       "32848  jobs.catererandhotelkeeper.com    10.064798  \n",
       "45510               justengineers.net    10.571342  \n",
       "42634                  Jobcentre Plus    10.300954  "
      ]
     },
     "execution_count": 131,
     "metadata": {},
     "output_type": "execute_result"
    }
   ],
   "source": [
    "text_columns = [\"Title\", \"FullDescription\"]\n",
    "categorical_columns = [\"Category\", \"Company\", \"LocationNormalized\", \"ContractType\", \"ContractTime\"]\n",
    "target_column = \"Log1pSalary\"\n",
    "\n",
    "data[categorical_columns] = data[categorical_columns].fillna('NaN') # cast missing values to string \"NaN\"\n",
    "data[text_columns] = data[text_columns].fillna('NaN') # cast missing values to string \"NaN\"\n",
    "\n",
    "data.sample(3)"
   ]
  },
  {
   "cell_type": "markdown",
   "metadata": {
    "id": "iPAbn2IzbGhI"
   },
   "source": [
    "Not all words are equally useful. Some of them are typos or rare words that are only present a few times. \n",
    "\n",
    "Let's count how many times is each word present in the data so that we can build a \"white list\" of known words."
   ]
  },
  {
   "cell_type": "code",
   "execution_count": 132,
   "metadata": {
    "id": "aH9Klw_GbGhJ"
   },
   "outputs": [
    {
     "name": "stdout",
     "output_type": "stream",
     "text": [
      "<bound method NDFrame.head of 0                              engineering systems analyst\n",
      "1                                  stress engineer glasgow\n",
      "2                         modelling and simulation analyst\n",
      "3        engineering systems analyst / mathematical mod...\n",
      "4              pioneer , miser engineering systems analyst\n",
      "                               ...                        \n",
      "54995                   rent acounting manager cirencester\n",
      "54996                         c web developer / programmer\n",
      "54997            business development executive up to ****\n",
      "54998                                     audit technitian\n",
      "54999                                  marketing executive\n",
      "Name: Title, Length: 55000, dtype: object>\n",
      "<bound method NDFrame.head of 0        engineering systems analyst dorking surrey sal...\n",
      "1        stress engineer glasgow salary **** to **** we...\n",
      "2        mathematical modeller / simulation analyst / o...\n",
      "3        engineering systems analyst / mathematical mod...\n",
      "4        pioneer , miser engineering systems analyst do...\n",
      "                               ...                        \n",
      "54995    rent accounting manager cirencester this marke...\n",
      "54996    c web developer / programmer – leicester salar...\n",
      "54997    business development / marketing executive up ...\n",
      "54998    we are currently recruiting for an audit techn...\n",
      "54999    a marketing executive is required to join a va...\n",
      "Name: FullDescription, Length: 55000, dtype: object>\n"
     ]
    }
   ],
   "source": [
    "from collections import Counter\n",
    "import re\n",
    "# Count how many times does each token occur in both \"Title\" and \"FullDescription\" in total\n",
    "# build a dictionary { token -> it's count }\n",
    "\n",
    "# <YOUR CODE HERE>\n",
    "\n",
    "\n",
    "# token_counts = [Counter(re.findall(r'\\w+', txt)) for txt in data['Title'].values]\n",
    "# token_counts.append( [Counter(re.findall(r'\\w+', txt)) for txt in data['FullDescription'].values])\n",
    "\n",
    "# hint: you may or may not want to use collections.Counter\n",
    "print(data['Title'].head)\n",
    "print(data['FullDescription'].head)"
   ]
  },
  {
   "cell_type": "code",
   "execution_count": 133,
   "metadata": {},
   "outputs": [
    {
     "name": "stdout",
     "output_type": "stream",
     "text": [
      "[('cleaner', 189), ('administrator', 89), ('labourer', 52)]\n"
     ]
    }
   ],
   "source": [
    "filtered = [w for w in data['Title'] if w.isalnum()]\n",
    "token_counts = Counter(filtered)\n",
    "print(token_counts.most_common(3))\n",
    "filtered = [w for w in data['FullDescription'] if w.isalnum()]"
   ]
  },
  {
   "cell_type": "code",
   "execution_count": 145,
   "metadata": {},
   "outputs": [
    {
     "data": {
      "text/plain": [
       "[]"
      ]
     },
     "execution_count": 145,
     "metadata": {},
     "output_type": "execute_result"
    }
   ],
   "source": [
    "filtered[:50]"
   ]
  },
  {
   "cell_type": "code",
   "execution_count": 146,
   "metadata": {},
   "outputs": [
    {
     "data": {
      "text/plain": [
       "{'rgn': 20,\n",
       " 'bookkeeper': 19,\n",
       " 'buyer': 39,\n",
       " 'receptionist': 41,\n",
       " 'estimator': 24,\n",
       " 'electrician': 30,\n",
       " 'cleaner': 189,\n",
       " 'administrator': 89,\n",
       " 'technician': 13,\n",
       " 'telesales': 27,\n",
       " 'paraplanner': 16,\n",
       " 'paralegal': 15,\n",
       " 'solicitor': 19,\n",
       " 'labourer': 52,\n",
       " 'toolmaker': 11,\n",
       " 'accountant': 28,\n",
       " 'cook': 14,\n",
       " 'driver': 11,\n",
       " 'groundworker': 13,\n",
       " 'chef': 22,\n",
       " 'housekeeper': 11,\n",
       " 'carer': 11,\n",
       " 'pa': 16}"
      ]
     },
     "execution_count": 146,
     "metadata": {},
     "output_type": "execute_result"
    }
   ],
   "source": [
    "token_counts"
   ]
  },
  {
   "cell_type": "code",
   "execution_count": 135,
   "metadata": {},
   "outputs": [
    {
     "data": {
      "text/plain": [
       "Counter({'manager': 10,\n",
       "         'borer': 1,\n",
       "         'rgn': 20,\n",
       "         'pharmacist': 3,\n",
       "         'odp': 4,\n",
       "         'hygienist': 2,\n",
       "         'bookkeeper': 19,\n",
       "         'rmn': 3,\n",
       "         'NaN': 1,\n",
       "         'fitter': 3,\n",
       "         'nurses': 5,\n",
       "         'teachers': 2,\n",
       "         'developer': 8,\n",
       "         'radiographer': 3,\n",
       "         'consultant': 3,\n",
       "         'analyst': 7,\n",
       "         'sonographer': 3,\n",
       "         'draftsperson': 1,\n",
       "         'eyfs': 1,\n",
       "         'buyer': 39,\n",
       "         'telephonist': 1,\n",
       "         'receptionist': 41,\n",
       "         'audiologist': 1,\n",
       "         'estimator': 24,\n",
       "         'upholsterer': 4,\n",
       "         'draughtsperson': 6,\n",
       "         'electrician': 30,\n",
       "         'expeditor': 3,\n",
       "         'cleaner': 189,\n",
       "         'administrator': 89,\n",
       "         'pmo': 1,\n",
       "         'technician': 13,\n",
       "         'valuer': 4,\n",
       "         'adminstor': 1,\n",
       "         'fettlers': 1,\n",
       "         'trainer': 3,\n",
       "         'grinder': 3,\n",
       "         'polisher': 1,\n",
       "         'telesales': 27,\n",
       "         'paraplanner': 16,\n",
       "         'paralegal': 15,\n",
       "         'solicitor': 19,\n",
       "         'dba': 1,\n",
       "         'plasterer': 5,\n",
       "         'echocardiographer': 1,\n",
       "         'physiotherapist': 6,\n",
       "         'florist': 1,\n",
       "         'designer': 10,\n",
       "         'senior': 2,\n",
       "         'labourer': 52,\n",
       "         'fabricator': 1,\n",
       "         'toolmaker': 11,\n",
       "         'publisher': 2,\n",
       "         'accountant': 28,\n",
       "         'mammographer': 3,\n",
       "         'machinist': 3,\n",
       "         'inspector': 2,\n",
       "         'plater': 2,\n",
       "         'seniorstruc': 1,\n",
       "         'engineer': 4,\n",
       "         'joiner': 10,\n",
       "         'supplier': 1,\n",
       "         'draftsman': 3,\n",
       "         'carers': 6,\n",
       "         'cook': 14,\n",
       "         'payroll': 3,\n",
       "         'winder': 1,\n",
       "         'driver': 11,\n",
       "         'canvasser': 3,\n",
       "         'scheduler': 4,\n",
       "         'laminator': 1,\n",
       "         'facilitator': 1,\n",
       "         'mechanic': 4,\n",
       "         'foreman': 2,\n",
       "         'administratorg': 1,\n",
       "         'admin': 1,\n",
       "         'groundworker': 13,\n",
       "         'decorator': 4,\n",
       "         'handyperson': 2,\n",
       "         'plasterers': 1,\n",
       "         'handyman': 5,\n",
       "         'bricklayers': 1,\n",
       "         'carpenter': 8,\n",
       "         'labourers': 3,\n",
       "         'bricklayer': 7,\n",
       "         'banksman': 5,\n",
       "         'chainlad': 1,\n",
       "         'chef': 22,\n",
       "         'waiter': 1,\n",
       "         'concierge': 1,\n",
       "         'rigger': 1,\n",
       "         'barista': 4,\n",
       "         'resourcer': 6,\n",
       "         'storeperson': 2,\n",
       "         'landscaper': 1,\n",
       "         'housekeeper': 11,\n",
       "         'gatekeeper': 1,\n",
       "         'domestic': 7,\n",
       "         'merchandiser': 8,\n",
       "         'pastor': 1,\n",
       "         'telemarketer': 4,\n",
       "         'solderer': 2,\n",
       "         'carer': 11,\n",
       "         'midwife': 1,\n",
       "         'cleaners': 5,\n",
       "         'supervisor': 9,\n",
       "         'teleappointer': 1,\n",
       "         'lecturer': 5,\n",
       "         'archivist': 1,\n",
       "         'chefs': 1,\n",
       "         'pupillage': 2,\n",
       "         'cashier': 7,\n",
       "         'pa': 16,\n",
       "         'head': 1,\n",
       "         'headteacher': 5,\n",
       "         'auditor': 6,\n",
       "         'fundraiser': 8,\n",
       "         'storeman': 4,\n",
       "         'director': 2,\n",
       "         'welder': 8,\n",
       "         'scaffolder': 3,\n",
       "         'copywriters': 1,\n",
       "         'electricians': 1,\n",
       "         'rceptionist': 1,\n",
       "         'banksmen': 1,\n",
       "         'telehandler': 6,\n",
       "         'barber': 1,\n",
       "         'operative': 1,\n",
       "         'gardener': 2,\n",
       "         'warehouseman': 1,\n",
       "         'servitor': 1,\n",
       "         'machinists': 1,\n",
       "         'turners': 1,\n",
       "         'secretary': 7,\n",
       "         'assembler': 4,\n",
       "         'porter': 3,\n",
       "         'slaughterperson': 1,\n",
       "         'chair': 1,\n",
       "         'logistician': 1,\n",
       "         'processor': 1,\n",
       "         'dentist': 4,\n",
       "         'accounts': 1,\n",
       "         'walker': 1,\n",
       "         'bidcoordinator': 1,\n",
       "         'planner': 7,\n",
       "         'accreditor': 1,\n",
       "         'advocate': 1,\n",
       "         'navalarchitect': 1,\n",
       "         'janitor': 1,\n",
       "         'administration': 1,\n",
       "         'consultants': 1,\n",
       "         'pipefitter': 3,\n",
       "         'middlesex': 1,\n",
       "         'hospitality': 1,\n",
       "         'rnld': 3,\n",
       "         'lettings': 1,\n",
       "         'linesman': 4,\n",
       "         'jointer': 1,\n",
       "         'principal': 1,\n",
       "         'costs': 1,\n",
       "         'hairstyist': 1,\n",
       "         'hairstylist': 1,\n",
       "         'roofer': 4,\n",
       "         'joiners': 2,\n",
       "         'lifeguard': 1,\n",
       "         'electrcian': 1,\n",
       "         'conveyancer': 2,\n",
       "         'laborer': 1,\n",
       "         'caretaker': 4,\n",
       "         'packers': 3,\n",
       "         'playworker': 1,\n",
       "         'tiler': 3,\n",
       "         'surveyor': 1,\n",
       "         'sales': 3,\n",
       "         'tester': 1,\n",
       "         'groundworkers': 2,\n",
       "         'payroller': 2,\n",
       "         'partqualified': 2,\n",
       "         'typist': 1,\n",
       "         'carpenters': 1,\n",
       "         'gateman': 2,\n",
       "         'painters': 1,\n",
       "         'stonemason': 1,\n",
       "         'underwriter': 3,\n",
       "         'plumber': 6,\n",
       "         'ifa': 3,\n",
       "         'chargehand': 1,\n",
       "         'pmcbadministrator': 1,\n",
       "         'gangermanforeman': 1,\n",
       "         'fhreceptionnorfolk': 1,\n",
       "         'butcher': 2,\n",
       "         'rlo': 1,\n",
       "         'recruiter': 2,\n",
       "         'dietician': 2,\n",
       "         'craftsperson': 1,\n",
       "         'artworker': 4,\n",
       "         'copywriter': 3,\n",
       "         'firefighter': 1,\n",
       "         'musician': 1,\n",
       "         'caterer': 1,\n",
       "         'mover': 1,\n",
       "         'editorinchief': 2,\n",
       "         'moulder': 1,\n",
       "         '1ststopme': 1,\n",
       "         'ductworker': 1,\n",
       "         'reworker': 1,\n",
       "         'promotions': 1,\n",
       "         'wireperson': 1,\n",
       "         'coordinator': 1,\n",
       "         'playranger': 1,\n",
       "         'teacher': 2,\n",
       "         'tutor': 1,\n",
       "         'nanny': 1,\n",
       "         'optometrist': 3,\n",
       "         'installer': 1,\n",
       "         'flt': 1,\n",
       "         'allocator': 1,\n",
       "         'salesperson': 1,\n",
       "         'pilot': 1,\n",
       "         'architect': 1,\n",
       "         'draughtperson': 1,\n",
       "         'priest': 1,\n",
       "         'fibreglasser': 1,\n",
       "         'stylist': 1,\n",
       "         'invigilator': 1,\n",
       "         'sander': 1,\n",
       "         'packer': 2,\n",
       "         'piermaster': 1,\n",
       "         'scientist': 1,\n",
       "         'driverta': 1,\n",
       "         'lifeguards': 1,\n",
       "         'controller': 1,\n",
       "         'technicians': 1,\n",
       "         'apprenticeship': 2,\n",
       "         'drivers': 1,\n",
       "         'sommelier': 1,\n",
       "         'senco': 2,\n",
       "         'sonographers': 1,\n",
       "         'executive': 1,\n",
       "         'wireman': 1,\n",
       "         'designers': 1,\n",
       "         'lawyer': 1,\n",
       "         'test': 1,\n",
       "         'hafield': 1,\n",
       "         'labour': 1,\n",
       "         'collector': 1,\n",
       "         'programmer': 2,\n",
       "         'dispensers': 1,\n",
       "         'broker': 1,\n",
       "         'drillers': 1,\n",
       "         'reporter': 1,\n",
       "         'nurse': 1,\n",
       "         'hrbp': 1,\n",
       "         'strategist': 1,\n",
       "         'semisenior': 1,\n",
       "         'adjudicator': 1})"
      ]
     },
     "execution_count": 135,
     "metadata": {},
     "output_type": "execute_result"
    }
   ],
   "source": [
    "token_counts.update(Counter(filtered))\n",
    "token_counts"
   ]
  },
  {
   "cell_type": "code",
   "execution_count": 136,
   "metadata": {
    "colab": {
     "base_uri": "https://localhost:8080/"
    },
    "id": "roXJxLHObGhK",
    "outputId": "5583135f-6711-4f60-c86e-aa867f32b7b5"
   },
   "outputs": [
    {
     "name": "stdout",
     "output_type": "stream",
     "text": [
      "Total unique tokens : 256\n",
      "('cleaner', 189)\n",
      "('administrator', 89)\n",
      "('labourer', 52)\n",
      "('receptionist', 41)\n",
      "('buyer', 39)\n",
      "...\n",
      "('strategist', 1)\n",
      "('semisenior', 1)\n",
      "('adjudicator', 1)\n"
     ]
    },
    {
     "ename": "AssertionError",
     "evalue": "",
     "output_type": "error",
     "traceback": [
      "\u001b[0;31m---------------------------------------------------------------------------\u001b[0m",
      "\u001b[0;31mAssertionError\u001b[0m                            Traceback (most recent call last)",
      "\u001b[0;32m/tmp/ipykernel_27524/4048733621.py\u001b[0m in \u001b[0;36m<module>\u001b[0;34m\u001b[0m\n\u001b[1;32m      4\u001b[0m \u001b[0mprint\u001b[0m\u001b[0;34m(\u001b[0m\u001b[0;34m'\\n'\u001b[0m\u001b[0;34m.\u001b[0m\u001b[0mjoin\u001b[0m\u001b[0;34m(\u001b[0m\u001b[0mmap\u001b[0m\u001b[0;34m(\u001b[0m\u001b[0mstr\u001b[0m\u001b[0;34m,\u001b[0m \u001b[0mtoken_counts\u001b[0m\u001b[0;34m.\u001b[0m\u001b[0mmost_common\u001b[0m\u001b[0;34m(\u001b[0m\u001b[0;34m)\u001b[0m\u001b[0;34m[\u001b[0m\u001b[0;34m-\u001b[0m\u001b[0;36m3\u001b[0m\u001b[0;34m:\u001b[0m\u001b[0;34m]\u001b[0m\u001b[0;34m)\u001b[0m\u001b[0;34m)\u001b[0m\u001b[0;34m)\u001b[0m\u001b[0;34m\u001b[0m\u001b[0;34m\u001b[0m\u001b[0m\n\u001b[1;32m      5\u001b[0m \u001b[0;34m\u001b[0m\u001b[0m\n\u001b[0;32m----> 6\u001b[0;31m \u001b[0;32massert\u001b[0m \u001b[0mtoken_counts\u001b[0m\u001b[0;34m.\u001b[0m\u001b[0mmost_common\u001b[0m\u001b[0;34m(\u001b[0m\u001b[0;36m1\u001b[0m\u001b[0;34m)\u001b[0m\u001b[0;34m[\u001b[0m\u001b[0;36m0\u001b[0m\u001b[0;34m]\u001b[0m\u001b[0;34m[\u001b[0m\u001b[0;36m1\u001b[0m\u001b[0;34m]\u001b[0m \u001b[0;32min\u001b[0m \u001b[0mrange\u001b[0m\u001b[0;34m(\u001b[0m\u001b[0;36m540000\u001b[0m\u001b[0;34m,\u001b[0m \u001b[0;36m2700000\u001b[0m\u001b[0;34m)\u001b[0m\u001b[0;34m\u001b[0m\u001b[0;34m\u001b[0m\u001b[0m\n\u001b[0m\u001b[1;32m      7\u001b[0m \u001b[0;32massert\u001b[0m \u001b[0mlen\u001b[0m\u001b[0;34m(\u001b[0m\u001b[0mtoken_counts\u001b[0m\u001b[0;34m)\u001b[0m \u001b[0;32min\u001b[0m \u001b[0mrange\u001b[0m\u001b[0;34m(\u001b[0m\u001b[0;36m40000\u001b[0m\u001b[0;34m,\u001b[0m \u001b[0;36m210000\u001b[0m\u001b[0;34m)\u001b[0m\u001b[0;34m\u001b[0m\u001b[0;34m\u001b[0m\u001b[0m\n\u001b[1;32m      8\u001b[0m \u001b[0mprint\u001b[0m\u001b[0;34m(\u001b[0m\u001b[0;34m'Correct!'\u001b[0m\u001b[0;34m)\u001b[0m\u001b[0;34m\u001b[0m\u001b[0;34m\u001b[0m\u001b[0m\n",
      "\u001b[0;31mAssertionError\u001b[0m: "
     ]
    }
   ],
   "source": [
    "print(\"Total unique tokens :\", len(token_counts))\n",
    "print('\\n'.join(map(str, token_counts.most_common(n=5))))\n",
    "print('...')\n",
    "print('\\n'.join(map(str, token_counts.most_common()[-3:])))\n",
    "\n",
    "assert token_counts.most_common(1)[0][1] in range(540000, 2700000)\n",
    "assert len(token_counts) in range(40000, 210000)\n",
    "print('Correct!')"
   ]
  },
  {
   "cell_type": "code",
   "execution_count": null,
   "metadata": {
    "colab": {
     "base_uri": "https://localhost:8080/",
     "height": 279
    },
    "id": "EqfKpNDFbGhL",
    "outputId": "cd10a50c-8e30-4297-e34d-c28e73179216"
   },
   "outputs": [],
   "source": [
    "# Let's see how many words are there for each count\n",
    "plt.hist(list(token_counts.values()), range=[0, 10**4], bins=50, log=True)\n",
    "plt.xlabel(\"Word counts\");"
   ]
  },
  {
   "cell_type": "code",
   "execution_count": null,
   "metadata": {
    "id": "wfg_U5utbGhL"
   },
   "outputs": [],
   "source": [
    "{item: value for item, value in sorted(token_counts.items(), key = lambda item: item[1], reverse=True)}"
   ]
  },
  {
   "cell_type": "markdown",
   "metadata": {
    "id": "D-TyrFVnbGhM"
   },
   "source": [
    "Now filter tokens a list of all tokens that occur at least 10 times."
   ]
  },
  {
   "cell_type": "code",
   "execution_count": 137,
   "metadata": {
    "id": "lrJpMygFbGhN"
   },
   "outputs": [
    {
     "data": {
      "text/plain": [
       "{'rgn': 20,\n",
       " 'bookkeeper': 19,\n",
       " 'buyer': 39,\n",
       " 'receptionist': 41,\n",
       " 'estimator': 24,\n",
       " 'electrician': 30,\n",
       " 'cleaner': 189,\n",
       " 'administrator': 89,\n",
       " 'technician': 13,\n",
       " 'telesales': 27,\n",
       " 'paraplanner': 16,\n",
       " 'paralegal': 15,\n",
       " 'solicitor': 19,\n",
       " 'labourer': 52,\n",
       " 'toolmaker': 11,\n",
       " 'accountant': 28,\n",
       " 'cook': 14,\n",
       " 'driver': 11,\n",
       " 'groundworker': 13,\n",
       " 'chef': 22,\n",
       " 'housekeeper': 11,\n",
       " 'carer': 11,\n",
       " 'pa': 16}"
      ]
     },
     "execution_count": 137,
     "metadata": {},
     "output_type": "execute_result"
    }
   ],
   "source": [
    "min_count = 10\n",
    "\n",
    "# tokens from token_counts keys that had at least min_count occurrences throughout the dataset\n",
    "# <YOUR CODE HERE>\n",
    "token_counts = {key:val for key, val in token_counts.items() if val > 10}\n",
    "token_counts"
   ]
  },
  {
   "cell_type": "code",
   "execution_count": 141,
   "metadata": {},
   "outputs": [
    {
     "data": {
      "text/plain": [
       "<function ndarray.nonzero>"
      ]
     },
     "execution_count": 141,
     "metadata": {},
     "output_type": "execute_result"
    }
   ],
   "source": []
  },
  {
   "cell_type": "code",
   "execution_count": 138,
   "metadata": {
    "colab": {
     "base_uri": "https://localhost:8080/"
    },
    "id": "vBOzgh8vbGhO",
    "outputId": "14a6b72f-5a45-4cc6-8d0b-80388c321999"
   },
   "outputs": [
    {
     "name": "stdout",
     "output_type": "stream",
     "text": [
      "Vocabulary size: 2\n"
     ]
    },
    {
     "ename": "AssertionError",
     "evalue": "",
     "output_type": "error",
     "traceback": [
      "\u001b[0;31m---------------------------------------------------------------------------\u001b[0m",
      "\u001b[0;31mAssertionError\u001b[0m                            Traceback (most recent call last)",
      "\u001b[0;32m/tmp/ipykernel_27524/553894182.py\u001b[0m in \u001b[0;36m<module>\u001b[0;34m\u001b[0m\n\u001b[1;32m      4\u001b[0m \u001b[0mprint\u001b[0m\u001b[0;34m(\u001b[0m\u001b[0;34m\"Vocabulary size:\"\u001b[0m\u001b[0;34m,\u001b[0m \u001b[0mlen\u001b[0m\u001b[0;34m(\u001b[0m\u001b[0mtokens\u001b[0m\u001b[0;34m)\u001b[0m\u001b[0;34m)\u001b[0m\u001b[0;34m\u001b[0m\u001b[0;34m\u001b[0m\u001b[0m\n\u001b[1;32m      5\u001b[0m \u001b[0;34m\u001b[0m\u001b[0m\n\u001b[0;32m----> 6\u001b[0;31m \u001b[0;32massert\u001b[0m \u001b[0mtype\u001b[0m\u001b[0;34m(\u001b[0m\u001b[0mtokens\u001b[0m\u001b[0;34m)\u001b[0m \u001b[0;34m==\u001b[0m \u001b[0mlist\u001b[0m\u001b[0;34m\u001b[0m\u001b[0;34m\u001b[0m\u001b[0m\n\u001b[0m\u001b[1;32m      7\u001b[0m \u001b[0;32massert\u001b[0m \u001b[0mlen\u001b[0m\u001b[0;34m(\u001b[0m\u001b[0mtokens\u001b[0m\u001b[0;34m)\u001b[0m \u001b[0;32min\u001b[0m \u001b[0mrange\u001b[0m\u001b[0;34m(\u001b[0m\u001b[0;36m32000\u001b[0m\u001b[0;34m,\u001b[0m \u001b[0;36m35000\u001b[0m\u001b[0;34m)\u001b[0m\u001b[0;34m\u001b[0m\u001b[0;34m\u001b[0m\u001b[0m\n\u001b[1;32m      8\u001b[0m \u001b[0;32massert\u001b[0m \u001b[0;34m'me'\u001b[0m \u001b[0;32min\u001b[0m \u001b[0mtokens\u001b[0m\u001b[0;34m\u001b[0m\u001b[0;34m\u001b[0m\u001b[0m\n",
      "\u001b[0;31mAssertionError\u001b[0m: "
     ]
    }
   ],
   "source": [
    "# Add a special tokens for unknown and empty words\n",
    "UNK, PAD = \"UNK\", \"PAD\"\n",
    "# <YOUR CODE HERE>\n",
    "print(\"Vocabulary size:\", len(tokens))\n",
    "\n",
    "assert type(tokens) == list\n",
    "assert len(tokens) in range(32000, 35000)\n",
    "assert 'me' in tokens\n",
    "assert UNK in tokens\n",
    "print(\"Correct!\")"
   ]
  },
  {
   "cell_type": "markdown",
   "metadata": {
    "id": "J1CqiCJYbGhP"
   },
   "source": [
    "Build an inverse token index: a dictionary from token(string) to it's index in `tokens` (int)"
   ]
  },
  {
   "cell_type": "code",
   "execution_count": 153,
   "metadata": {
    "id": "nsKcIPmibGhP"
   },
   "outputs": [],
   "source": [
    "# token_to_id = [w for w in data['FullDescription']] # <YOUR CODE HERE>\n",
    "# i = 0\n",
    "# k = {i++:val for key, val in token_counts.items()}\n",
    "# k\n",
    "token_to_id = token_counts"
   ]
  },
  {
   "cell_type": "code",
   "execution_count": 154,
   "metadata": {
    "colab": {
     "base_uri": "https://localhost:8080/"
    },
    "id": "G7lCLTFcbGhP",
    "outputId": "c0044aac-21c0-419e-fe1b-073cce629f13"
   },
   "outputs": [
    {
     "ename": "AssertionError",
     "evalue": "",
     "output_type": "error",
     "traceback": [
      "\u001b[0;31m---------------------------------------------------------------------------\u001b[0m",
      "\u001b[0;31mAssertionError\u001b[0m                            Traceback (most recent call last)",
      "\u001b[0;32m/tmp/ipykernel_27524/2930714992.py\u001b[0m in \u001b[0;36m<module>\u001b[0;34m\u001b[0m\n\u001b[1;32m      1\u001b[0m \u001b[0;32massert\u001b[0m \u001b[0misinstance\u001b[0m\u001b[0;34m(\u001b[0m\u001b[0mtoken_to_id\u001b[0m\u001b[0;34m,\u001b[0m \u001b[0mdict\u001b[0m\u001b[0;34m)\u001b[0m\u001b[0;34m\u001b[0m\u001b[0;34m\u001b[0m\u001b[0m\n\u001b[0;32m----> 2\u001b[0;31m \u001b[0;32massert\u001b[0m \u001b[0mlen\u001b[0m\u001b[0;34m(\u001b[0m\u001b[0mtoken_to_id\u001b[0m\u001b[0;34m)\u001b[0m \u001b[0;34m==\u001b[0m \u001b[0mlen\u001b[0m\u001b[0;34m(\u001b[0m\u001b[0mtokens\u001b[0m\u001b[0;34m)\u001b[0m\u001b[0;34m\u001b[0m\u001b[0;34m\u001b[0m\u001b[0m\n\u001b[0m\u001b[1;32m      3\u001b[0m \u001b[0;32mfor\u001b[0m \u001b[0mtok\u001b[0m \u001b[0;32min\u001b[0m \u001b[0mtokens\u001b[0m\u001b[0;34m:\u001b[0m\u001b[0;34m\u001b[0m\u001b[0;34m\u001b[0m\u001b[0m\n\u001b[1;32m      4\u001b[0m     \u001b[0;32massert\u001b[0m \u001b[0mtokens\u001b[0m\u001b[0;34m[\u001b[0m\u001b[0mtoken_to_id\u001b[0m\u001b[0;34m[\u001b[0m\u001b[0mtok\u001b[0m\u001b[0;34m]\u001b[0m\u001b[0;34m]\u001b[0m \u001b[0;34m==\u001b[0m \u001b[0mtok\u001b[0m\u001b[0;34m\u001b[0m\u001b[0;34m\u001b[0m\u001b[0m\n\u001b[1;32m      5\u001b[0m \u001b[0;34m\u001b[0m\u001b[0m\n",
      "\u001b[0;31mAssertionError\u001b[0m: "
     ]
    }
   ],
   "source": [
    "assert isinstance(token_to_id, dict)\n",
    "assert len(token_to_id) == len(tokens)\n",
    "for tok in tokens:\n",
    "    assert tokens[token_to_id[tok]] == tok\n",
    "\n",
    "print(\"Correct!\")"
   ]
  },
  {
   "cell_type": "markdown",
   "metadata": {
    "id": "TuR3jQE-bGhQ"
   },
   "source": [
    "And finally, let's use the vocabulary you've built to map text lines into neural network-digestible matrices."
   ]
  },
  {
   "cell_type": "code",
   "execution_count": 23,
   "metadata": {
    "id": "MBagYmR1bGhQ"
   },
   "outputs": [],
   "source": [
    "UNK_IX, PAD_IX = map(token_to_id.get, [UNK, PAD])\n",
    "\n",
    "def as_matrix(sequences, max_len=None):\n",
    "    \"\"\" Convert a list of tokens into a matrix with padding \"\"\"\n",
    "    if isinstance(sequences[0], str):\n",
    "        sequences = list(map(str.split, sequences))\n",
    "        \n",
    "    max_len = min(max(map(len, sequences)), max_len or float('inf'))\n",
    "    \n",
    "    matrix = np.full((len(sequences), max_len), np.int32(PAD_IX))\n",
    "    for i,seq in enumerate(sequences):\n",
    "        row_ix = [token_to_id.get(word, UNK_IX) for word in seq[:max_len]]\n",
    "        matrix[i, :len(row_ix)] = row_ix\n",
    "    \n",
    "    return matrix"
   ]
  },
  {
   "cell_type": "code",
   "execution_count": 24,
   "metadata": {
    "colab": {
     "base_uri": "https://localhost:8080/"
    },
    "id": "WcY4kObkbGhR",
    "outputId": "3aabda16-086d-49ff-d555-b4d33f90f10e"
   },
   "outputs": [
    {
     "name": "stdout",
     "output_type": "stream",
     "text": [
      "Lines:\n",
      "engineering systems analyst\n",
      "hr assistant\n",
      "senior ec & i engineer\n",
      "\n",
      "Matrix:\n",
      "[[10809 30163  2168     1     1]\n",
      " [15022  2846     1     1     1]\n",
      " [27647 10203    16 15217 10806]]\n"
     ]
    }
   ],
   "source": [
    "print(\"Lines:\")\n",
    "print('\\n'.join(data[\"Title\"][::100000].values), end='\\n\\n')\n",
    "print(\"Matrix:\")\n",
    "print(as_matrix(data[\"Title\"][::100000]))"
   ]
  },
  {
   "cell_type": "markdown",
   "metadata": {
    "id": "t7ukB05gbGhR"
   },
   "source": [
    "Now let's  encode the categirical data we have.\n",
    "\n",
    "As usual, we shall use one-hot encoding for simplicity. Kudos if you implement more advanced encodings: tf-idf, pseudo-time-series, etc."
   ]
  },
  {
   "cell_type": "code",
   "execution_count": 25,
   "metadata": {
    "colab": {
     "base_uri": "https://localhost:8080/"
    },
    "id": "J7-O_uyhbGhS",
    "outputId": "e0388897-be2d-4769-f12f-758b660b5d0e"
   },
   "outputs": [
    {
     "data": {
      "text/plain": [
       "DictVectorizer(dtype=<class 'numpy.float32'>, sparse=False)"
      ]
     },
     "execution_count": 25,
     "metadata": {},
     "output_type": "execute_result"
    }
   ],
   "source": [
    "from sklearn.feature_extraction import DictVectorizer\n",
    "\n",
    "# we only consider top-1k most frequent companies to minimize memory usage\n",
    "top_companies, top_counts = zip(*Counter(data['Company']).most_common(1000))\n",
    "recognized_companies = set(top_companies)\n",
    "data[\"Company\"] = data[\"Company\"].apply(lambda comp: comp if comp in recognized_companies else \"Other\")\n",
    "\n",
    "categorical_vectorizer = DictVectorizer(dtype=np.float32, sparse=False)\n",
    "categorical_vectorizer.fit(data[categorical_columns].apply(dict, axis=1))"
   ]
  },
  {
   "cell_type": "markdown",
   "metadata": {
    "id": "YnkKD9uBbGhS"
   },
   "source": [
    "### The deep learning part\n",
    "\n",
    "Once we've learned to tokenize the data, let's design a machine learning experiment.\n",
    "\n",
    "As before, we won't focus too much on validation, opting for a simple train-test split.\n",
    "\n",
    "__To be completely rigorous,__ we've comitted a small crime here: we used the whole data for tokenization and vocabulary building. A more strict way would be to do that part on training set only. You may want to do that and measure the magnitude of changes."
   ]
  },
  {
   "cell_type": "code",
   "execution_count": 26,
   "metadata": {
    "colab": {
     "base_uri": "https://localhost:8080/"
    },
    "id": "6qNwwG8abGhS",
    "outputId": "265dbdec-ad3a-4bec-83e0-1bf87be9c08f"
   },
   "outputs": [
    {
     "data": {
      "text/plain": [
       "Index(['Title', 'FullDescription', 'LocationNormalized', 'ContractType',\n",
       "       'ContractTime', 'Company', 'Category', 'Log1pSalary'],\n",
       "      dtype='object')"
      ]
     },
     "execution_count": 26,
     "metadata": {},
     "output_type": "execute_result"
    }
   ],
   "source": [
    "data.drop(['LocationRaw', 'SalaryRaw', 'SalaryNormalized', 'SourceName'], axis=1, inplace=True)\n",
    "data.columns"
   ]
  },
  {
   "cell_type": "code",
   "execution_count": 27,
   "metadata": {
    "colab": {
     "base_uri": "https://localhost:8080/"
    },
    "id": "ExjU80G7bGhT",
    "outputId": "a44dd4db-7532-491f-ff00-9874b437fac3"
   },
   "outputs": [
    {
     "name": "stdout",
     "output_type": "stream",
     "text": [
      "Train size =  195814\n",
      "Validation size =  48954\n"
     ]
    }
   ],
   "source": [
    "from sklearn.model_selection import train_test_split\n",
    "\n",
    "data_train, data_val = train_test_split(data, test_size=0.2, random_state=42)\n",
    "data_train.index = range(len(data_train))\n",
    "data_val.index = range(len(data_val))\n",
    "\n",
    "print(\"Train size = \", len(data_train))\n",
    "print(\"Validation size = \", len(data_val))"
   ]
  },
  {
   "cell_type": "code",
   "execution_count": 30,
   "metadata": {},
   "outputs": [
    {
     "data": {
      "text/html": [
       "<div>\n",
       "<style scoped>\n",
       "    .dataframe tbody tr th:only-of-type {\n",
       "        vertical-align: middle;\n",
       "    }\n",
       "\n",
       "    .dataframe tbody tr th {\n",
       "        vertical-align: top;\n",
       "    }\n",
       "\n",
       "    .dataframe thead th {\n",
       "        text-align: right;\n",
       "    }\n",
       "</style>\n",
       "<table border=\"1\" class=\"dataframe\">\n",
       "  <thead>\n",
       "    <tr style=\"text-align: right;\">\n",
       "      <th></th>\n",
       "      <th>Title</th>\n",
       "      <th>FullDescription</th>\n",
       "      <th>LocationNormalized</th>\n",
       "      <th>ContractType</th>\n",
       "      <th>ContractTime</th>\n",
       "      <th>Company</th>\n",
       "      <th>Category</th>\n",
       "      <th>Log1pSalary</th>\n",
       "    </tr>\n",
       "  </thead>\n",
       "  <tbody>\n",
       "    <tr>\n",
       "      <th>0</th>\n",
       "      <td>senior support worker</td>\n",
       "      <td>senior support worker wanted a senior support ...</td>\n",
       "      <td>Taunton</td>\n",
       "      <td>NaN</td>\n",
       "      <td>permanent</td>\n",
       "      <td>Other</td>\n",
       "      <td>Healthcare &amp; Nursing Jobs</td>\n",
       "      <td>9.711540</td>\n",
       "    </tr>\n",
       "    <tr>\n",
       "      <th>1</th>\n",
       "      <td>statistical / mathematical modeller in pharmac...</td>\n",
       "      <td>statistical / mathematical modeller in pharmac...</td>\n",
       "      <td>North West London</td>\n",
       "      <td>NaN</td>\n",
       "      <td>permanent</td>\n",
       "      <td>Other</td>\n",
       "      <td>Scientific &amp; QA Jobs</td>\n",
       "      <td>10.463132</td>\n",
       "    </tr>\n",
       "    <tr>\n",
       "      <th>2</th>\n",
       "      <td>emc team leader ( def stan )</td>\n",
       "      <td>the opportunity my client is currently seeking...</td>\n",
       "      <td>Surrey</td>\n",
       "      <td>NaN</td>\n",
       "      <td>permanent</td>\n",
       "      <td>Other</td>\n",
       "      <td>Engineering Jobs</td>\n",
       "      <td>10.714440</td>\n",
       "    </tr>\n",
       "    <tr>\n",
       "      <th>3</th>\n",
       "      <td>core java engineer london , big data</td>\n",
       "      <td>core java engineer london , big data , mysql ,...</td>\n",
       "      <td>London</td>\n",
       "      <td>NaN</td>\n",
       "      <td>permanent</td>\n",
       "      <td>Engage PSG</td>\n",
       "      <td>IT Jobs</td>\n",
       "      <td>11.042938</td>\n",
       "    </tr>\n",
       "    <tr>\n",
       "      <th>4</th>\n",
       "      <td>driver</td>\n",
       "      <td>**** driver reqd for busy parcel round , exper...</td>\n",
       "      <td>Brentwood</td>\n",
       "      <td>full_time</td>\n",
       "      <td>NaN</td>\n",
       "      <td>Other</td>\n",
       "      <td>Logistics &amp; Warehouse Jobs</td>\n",
       "      <td>9.798182</td>\n",
       "    </tr>\n",
       "    <tr>\n",
       "      <th>...</th>\n",
       "      <td>...</td>\n",
       "      <td>...</td>\n",
       "      <td>...</td>\n",
       "      <td>...</td>\n",
       "      <td>...</td>\n",
       "      <td>...</td>\n",
       "      <td>...</td>\n",
       "      <td>...</td>\n",
       "    </tr>\n",
       "    <tr>\n",
       "      <th>195809</th>\n",
       "      <td>senior solutions architect</td>\n",
       "      <td>a senior solutions architect is required to jo...</td>\n",
       "      <td>London</td>\n",
       "      <td>NaN</td>\n",
       "      <td>permanent</td>\n",
       "      <td>NaN</td>\n",
       "      <td>IT Jobs</td>\n",
       "      <td>11.277216</td>\n",
       "    </tr>\n",
       "    <tr>\n",
       "      <th>195810</th>\n",
       "      <td>charity administrator</td>\n",
       "      <td>job title : charity administrator salary : pou...</td>\n",
       "      <td>The City</td>\n",
       "      <td>NaN</td>\n",
       "      <td>permanent</td>\n",
       "      <td>Other</td>\n",
       "      <td>Social work Jobs</td>\n",
       "      <td>9.852247</td>\n",
       "    </tr>\n",
       "    <tr>\n",
       "      <th>195811</th>\n",
       "      <td>senior consumer insight manager communications...</td>\n",
       "      <td>about the role the senior consumer insight man...</td>\n",
       "      <td>Central London</td>\n",
       "      <td>NaN</td>\n",
       "      <td>NaN</td>\n",
       "      <td>NaN</td>\n",
       "      <td>PR, Advertising &amp; Marketing Jobs</td>\n",
       "      <td>10.859018</td>\n",
       "    </tr>\n",
       "    <tr>\n",
       "      <th>195812</th>\n",
       "      <td>customer service manager , guildford , motor t...</td>\n",
       "      <td>automotive , motor trade job : customer servic...</td>\n",
       "      <td>Guildford</td>\n",
       "      <td>NaN</td>\n",
       "      <td>NaN</td>\n",
       "      <td>Perfect Placement</td>\n",
       "      <td>Trade &amp; Construction Jobs</td>\n",
       "      <td>10.308986</td>\n",
       "    </tr>\n",
       "    <tr>\n",
       "      <th>195813</th>\n",
       "      <td>administrator</td>\n",
       "      <td>a maintenance contractor near taunton that spe...</td>\n",
       "      <td>UK</td>\n",
       "      <td>NaN</td>\n",
       "      <td>contract</td>\n",
       "      <td>Girling Jones Ltd</td>\n",
       "      <td>Admin Jobs</td>\n",
       "      <td>9.468928</td>\n",
       "    </tr>\n",
       "  </tbody>\n",
       "</table>\n",
       "<p>195814 rows × 8 columns</p>\n",
       "</div>"
      ],
      "text/plain": [
       "                                                    Title  \\\n",
       "0                                   senior support worker   \n",
       "1       statistical / mathematical modeller in pharmac...   \n",
       "2                            emc team leader ( def stan )   \n",
       "3                    core java engineer london , big data   \n",
       "4                                                  driver   \n",
       "...                                                   ...   \n",
       "195809                         senior solutions architect   \n",
       "195810                              charity administrator   \n",
       "195811  senior consumer insight manager communications...   \n",
       "195812  customer service manager , guildford , motor t...   \n",
       "195813                                      administrator   \n",
       "\n",
       "                                          FullDescription LocationNormalized  \\\n",
       "0       senior support worker wanted a senior support ...            Taunton   \n",
       "1       statistical / mathematical modeller in pharmac...  North West London   \n",
       "2       the opportunity my client is currently seeking...             Surrey   \n",
       "3       core java engineer london , big data , mysql ,...             London   \n",
       "4       **** driver reqd for busy parcel round , exper...          Brentwood   \n",
       "...                                                   ...                ...   \n",
       "195809  a senior solutions architect is required to jo...             London   \n",
       "195810  job title : charity administrator salary : pou...           The City   \n",
       "195811  about the role the senior consumer insight man...     Central London   \n",
       "195812  automotive , motor trade job : customer servic...          Guildford   \n",
       "195813  a maintenance contractor near taunton that spe...                 UK   \n",
       "\n",
       "       ContractType ContractTime            Company  \\\n",
       "0               NaN    permanent              Other   \n",
       "1               NaN    permanent              Other   \n",
       "2               NaN    permanent              Other   \n",
       "3               NaN    permanent         Engage PSG   \n",
       "4         full_time          NaN              Other   \n",
       "...             ...          ...                ...   \n",
       "195809          NaN    permanent                NaN   \n",
       "195810          NaN    permanent              Other   \n",
       "195811          NaN          NaN                NaN   \n",
       "195812          NaN          NaN  Perfect Placement   \n",
       "195813          NaN     contract  Girling Jones Ltd   \n",
       "\n",
       "                                Category  Log1pSalary  \n",
       "0              Healthcare & Nursing Jobs     9.711540  \n",
       "1                   Scientific & QA Jobs    10.463132  \n",
       "2                       Engineering Jobs    10.714440  \n",
       "3                                IT Jobs    11.042938  \n",
       "4             Logistics & Warehouse Jobs     9.798182  \n",
       "...                                  ...          ...  \n",
       "195809                           IT Jobs    11.277216  \n",
       "195810                  Social work Jobs     9.852247  \n",
       "195811  PR, Advertising & Marketing Jobs    10.859018  \n",
       "195812         Trade & Construction Jobs    10.308986  \n",
       "195813                        Admin Jobs     9.468928  \n",
       "\n",
       "[195814 rows x 8 columns]"
      ]
     },
     "execution_count": 30,
     "metadata": {},
     "output_type": "execute_result"
    }
   ],
   "source": [
    "data_train"
   ]
  },
  {
   "cell_type": "code",
   "execution_count": 28,
   "metadata": {
    "id": "U07yxBc2bGhU"
   },
   "outputs": [],
   "source": [
    "def make_batch(data, max_len=None, word_dropout=0):\n",
    "    \"\"\"\n",
    "    Creates a keras-friendly dict from the batch data.\n",
    "    :param word_dropout: replaces token index with UNK_IX with this probability\n",
    "    :returns: a dict with {'title' : int64[batch, title_max_len]\n",
    "    \"\"\"\n",
    "    batch = {}\n",
    "    batch[\"Title\"] = as_matrix(data[\"Title\"].values, max_len)\n",
    "    batch[\"FullDescription\"] = as_matrix(data[\"FullDescription\"].values, max_len)\n",
    "    batch['Categorical'] = categorical_vectorizer.transform(data[categorical_columns].apply(dict, axis=1))\n",
    "    \n",
    "    if word_dropout != 0:\n",
    "        batch[\"FullDescription\"] = apply_word_dropout(batch[\"FullDescription\"], 1. - word_dropout)\n",
    "    \n",
    "    if target_column in data.columns:\n",
    "        batch[target_column] = data[target_column].values\n",
    "    \n",
    "    return batch\n",
    "\n",
    "def apply_word_dropout(matrix, keep_prop, replace_with=UNK_IX, pad_ix=PAD_IX,):\n",
    "    dropout_mask = np.random.choice(2, np.shape(matrix), p=[keep_prop, 1 - keep_prop])\n",
    "    dropout_mask &= matrix != pad_ix\n",
    "    return np.choose(dropout_mask, [matrix, np.full_like(matrix, replace_with)])"
   ]
  },
  {
   "cell_type": "code",
   "execution_count": 29,
   "metadata": {
    "colab": {
     "base_uri": "https://localhost:8080/"
    },
    "id": "pAROVV5ZbGhU",
    "outputId": "8873c2f1-c32a-44a6-b9ae-052d80e0156f"
   },
   "outputs": [
    {
     "data": {
      "text/plain": [
       "{'Title': array([[27647, 29895, 33676,     1,     1,     1,     1],\n",
       "        [29241,   197, 19177, 20044, 15556, 23164,  4053],\n",
       "        [10611, 30414, 17748,    33,  8707, 29159,    65]], dtype=int32),\n",
       " 'FullDescription': array([[27647, 29895, 33676, 32941,   984, 27647, 29895, 33676, 16453,\n",
       "         32941],\n",
       "        [29241,   197, 19177, 20044, 15556, 23164,  4053, 25513,   907,\n",
       "            82],\n",
       "        [30748, 21958, 20603,  6411, 16453,  8167, 27495,   984, 30414,\n",
       "         17748]], dtype=int32),\n",
       " 'Categorical': array([[0., 0., 0., ..., 0., 0., 0.],\n",
       "        [0., 0., 0., ..., 0., 0., 0.],\n",
       "        [0., 0., 0., ..., 0., 0., 0.]], dtype=float32),\n",
       " 'Log1pSalary': array([ 9.71154 , 10.463132, 10.71444 ], dtype=float32)}"
      ]
     },
     "execution_count": 29,
     "metadata": {},
     "output_type": "execute_result"
    }
   ],
   "source": [
    "make_batch(data_train[:3], max_len=10)"
   ]
  },
  {
   "cell_type": "code",
   "execution_count": 25,
   "metadata": {
    "colab": {
     "base_uri": "https://localhost:8080/"
    },
    "id": "uceSVd7SbGhV",
    "outputId": "30660e38-54f8-46e8-bad0-3d617ee77fb8"
   },
   "outputs": [
    {
     "data": {
      "text/plain": [
       "(105, 10)"
      ]
     },
     "execution_count": 25,
     "metadata": {
      "tags": []
     },
     "output_type": "execute_result"
    }
   ],
   "source": [
    "make_batch(data_train[:105], max_len=10)['Title'].shape"
   ]
  },
  {
   "cell_type": "code",
   "execution_count": 26,
   "metadata": {
    "colab": {
     "base_uri": "https://localhost:8080/"
    },
    "id": "9-Ayh4oPbGhW",
    "outputId": "33b4d273-e36d-4d4a-efb7-efb3e3664c87"
   },
   "outputs": [
    {
     "data": {
      "text/plain": [
       "(15, 3768)"
      ]
     },
     "execution_count": 26,
     "metadata": {
      "tags": []
     },
     "output_type": "execute_result"
    }
   ],
   "source": [
    "make_batch(data_train[:15], max_len=10)['Categorical'].shape"
   ]
  },
  {
   "cell_type": "code",
   "execution_count": 27,
   "metadata": {
    "colab": {
     "base_uri": "https://localhost:8080/"
    },
    "id": "XEY9ZZs_bGhW",
    "outputId": "08308f50-0196-4196-c9df-28bf52237bcb"
   },
   "outputs": [
    {
     "data": {
      "text/plain": [
       "(15,)"
      ]
     },
     "execution_count": 27,
     "metadata": {
      "tags": []
     },
     "output_type": "execute_result"
    }
   ],
   "source": [
    "make_batch(data_train[:15], max_len=10)['Log1pSalary'].shape"
   ]
  },
  {
   "cell_type": "markdown",
   "metadata": {
    "id": "RGYKrkiBbGhW"
   },
   "source": [
    "#### Architecture\n",
    "\n",
    "Our basic model consists of three branches:\n",
    "* Title encoder\n",
    "* Description encoder\n",
    "* Categorical features encoder\n",
    "\n",
    "We will then feed all 3 branches into one common network that predicts salary.\n",
    "\n",
    "<img src=\"https://github.com/yandexdataschool/nlp_course/raw/master/resources/w2_conv_arch.png\" width=600px>"
   ]
  },
  {
   "cell_type": "markdown",
   "metadata": {
    "id": "r3jfwdY-bGhX"
   },
   "source": [
    "This clearly doesn't fit into keras' __Sequential__ interface. To build such a network, one will have to use __[Keras Functional API](https://keras.io/models/model/)__."
   ]
  },
  {
   "cell_type": "code",
   "execution_count": 31,
   "metadata": {
    "id": "WeIPe7qEbGhX"
   },
   "outputs": [],
   "source": [
    "import keras\n",
    "import keras.layers as L"
   ]
  },
  {
   "cell_type": "code",
   "execution_count": 32,
   "metadata": {
    "id": "ZLCKj78MjJKu"
   },
   "outputs": [],
   "source": [
    "keras.backend.clear_session()"
   ]
  },
  {
   "cell_type": "code",
   "execution_count": 33,
   "metadata": {
    "id": "3-UsjfjLbGhY"
   },
   "outputs": [],
   "source": [
    "def build_model(n_tokens=len(tokens), n_cat_features=len(categorical_vectorizer.vocabulary_), hid_size=64):\n",
    "    \"\"\" Build a model that maps three data sources to a single linear output: predicted log1p(salary) \"\"\"\n",
    "    \n",
    "    l_title = L.Input(shape=[10], name=\"Title\")\n",
    "    l_descr = L.Input(shape=[10], name=\"FullDescription\")\n",
    "    l_categ = L.Input(shape=[n_cat_features], name=\"Categorical\")\n",
    "    \n",
    "    # Build your monster!\n",
    "    \n",
    "    # <YOUR CODE HERE>\n",
    "\n",
    "    output_layer = \"?\"\n",
    "    # end of your code\n",
    "    \n",
    "    model = keras.models.Model(inputs=[l_title, l_descr, l_categ], outputs=[output_layer])\n",
    "    model.compile('adam', 'mean_squared_error', metrics=['mean_absolute_error'])\n",
    "    return model\n",
    "    "
   ]
  },
  {
   "cell_type": "code",
   "execution_count": 34,
   "metadata": {
    "colab": {
     "base_uri": "https://localhost:8080/"
    },
    "id": "fsGkz_NLbGhY",
    "outputId": "163482c9-6da0-463a-d116-f6faedfe635a"
   },
   "outputs": [
    {
     "name": "stderr",
     "output_type": "stream",
     "text": [
      "2022-02-02 10:17:28.079468: I tensorflow/stream_executor/cuda/cuda_gpu_executor.cc:937] successful NUMA node read from SysFS had negative value (-1), but there must be at least one NUMA node, so returning NUMA node zero\n",
      "2022-02-02 10:17:28.166084: I tensorflow/stream_executor/cuda/cuda_gpu_executor.cc:937] successful NUMA node read from SysFS had negative value (-1), but there must be at least one NUMA node, so returning NUMA node zero\n",
      "2022-02-02 10:17:28.166249: I tensorflow/stream_executor/cuda/cuda_gpu_executor.cc:937] successful NUMA node read from SysFS had negative value (-1), but there must be at least one NUMA node, so returning NUMA node zero\n",
      "2022-02-02 10:17:28.166866: I tensorflow/core/platform/cpu_feature_guard.cc:142] This TensorFlow binary is optimized with oneAPI Deep Neural Network Library (oneDNN) to use the following CPU instructions in performance-critical operations:  AVX2 FMA\n",
      "To enable them in other operations, rebuild TensorFlow with the appropriate compiler flags.\n",
      "2022-02-02 10:17:28.181541: I tensorflow/stream_executor/cuda/cuda_gpu_executor.cc:937] successful NUMA node read from SysFS had negative value (-1), but there must be at least one NUMA node, so returning NUMA node zero\n",
      "2022-02-02 10:17:28.183625: I tensorflow/stream_executor/cuda/cuda_gpu_executor.cc:937] successful NUMA node read from SysFS had negative value (-1), but there must be at least one NUMA node, so returning NUMA node zero\n",
      "2022-02-02 10:17:28.184385: I tensorflow/stream_executor/cuda/cuda_gpu_executor.cc:937] successful NUMA node read from SysFS had negative value (-1), but there must be at least one NUMA node, so returning NUMA node zero\n",
      "2022-02-02 10:17:32.773416: I tensorflow/stream_executor/cuda/cuda_gpu_executor.cc:937] successful NUMA node read from SysFS had negative value (-1), but there must be at least one NUMA node, so returning NUMA node zero\n",
      "2022-02-02 10:17:32.774078: I tensorflow/stream_executor/cuda/cuda_gpu_executor.cc:937] successful NUMA node read from SysFS had negative value (-1), but there must be at least one NUMA node, so returning NUMA node zero\n",
      "2022-02-02 10:17:32.774608: I tensorflow/stream_executor/cuda/cuda_gpu_executor.cc:937] successful NUMA node read from SysFS had negative value (-1), but there must be at least one NUMA node, so returning NUMA node zero\n",
      "2022-02-02 10:17:32.775235: I tensorflow/core/common_runtime/gpu/gpu_device.cc:1510] Created device /job:localhost/replica:0/task:0/device:GPU:0 with 2120 MB memory:  -> device: 0, name: NVIDIA GeForce GTX 1650 Ti, pci bus id: 0000:01:00.0, compute capability: 7.5\n"
     ]
    },
    {
     "name": "stdout",
     "output_type": "stream",
     "text": [
      "Model: \"model\"\n",
      "__________________________________________________________________________________________________\n",
      "Layer (type)                    Output Shape         Param #     Connected to                     \n",
      "==================================================================================================\n",
      "FullDescription (InputLayer)    [(None, 10)]         0                                            \n",
      "__________________________________________________________________________________________________\n",
      "Title (InputLayer)              [(None, 10)]         0                                            \n",
      "__________________________________________________________________________________________________\n",
      "embedding_1 (Embedding)         (None, 10, 10)       341600      FullDescription[0][0]            \n",
      "__________________________________________________________________________________________________\n",
      "embedding (Embedding)           (None, 10, 10)       341600      Title[0][0]                      \n",
      "__________________________________________________________________________________________________\n",
      "tf.expand_dims_1 (TFOpLambda)   (None, 10, 10, 1)    0           embedding_1[0][0]                \n",
      "__________________________________________________________________________________________________\n",
      "tf.expand_dims (TFOpLambda)     (None, 10, 10, 1)    0           embedding[0][0]                  \n",
      "__________________________________________________________________________________________________\n",
      "conv2d_4 (Conv2D)               (None, 9, 9, 16)     80          tf.expand_dims_1[0][0]           \n",
      "__________________________________________________________________________________________________\n",
      "conv2d (Conv2D)                 (None, 9, 9, 16)     80          tf.expand_dims[0][0]             \n",
      "__________________________________________________________________________________________________\n",
      "conv2d_5 (Conv2D)               (None, 8, 8, 16)     1040        conv2d_4[0][0]                   \n",
      "__________________________________________________________________________________________________\n",
      "conv2d_1 (Conv2D)               (None, 8, 8, 16)     1040        conv2d[0][0]                     \n",
      "__________________________________________________________________________________________________\n",
      "max_pooling2d_2 (MaxPooling2D)  (None, 4, 4, 16)     0           conv2d_5[0][0]                   \n",
      "__________________________________________________________________________________________________\n",
      "max_pooling2d (MaxPooling2D)    (None, 4, 4, 16)     0           conv2d_1[0][0]                   \n",
      "__________________________________________________________________________________________________\n",
      "Categorical (InputLayer)        [(None, 3768)]       0                                            \n",
      "__________________________________________________________________________________________________\n",
      "conv2d_6 (Conv2D)               (None, 3, 3, 32)     2080        max_pooling2d_2[0][0]            \n",
      "__________________________________________________________________________________________________\n",
      "conv2d_2 (Conv2D)               (None, 3, 3, 32)     2080        max_pooling2d[0][0]              \n",
      "__________________________________________________________________________________________________\n",
      "dense (Dense)                   (None, 256)          964864      Categorical[0][0]                \n",
      "__________________________________________________________________________________________________\n",
      "conv2d_7 (Conv2D)               (None, 2, 2, 64)     8256        conv2d_6[0][0]                   \n",
      "__________________________________________________________________________________________________\n",
      "conv2d_3 (Conv2D)               (None, 2, 2, 64)     8256        conv2d_2[0][0]                   \n",
      "__________________________________________________________________________________________________\n",
      "dense_1 (Dense)                 (None, 128)          32896       dense[0][0]                      \n",
      "__________________________________________________________________________________________________\n",
      "max_pooling2d_3 (MaxPooling2D)  (None, 1, 1, 64)     0           conv2d_7[0][0]                   \n",
      "__________________________________________________________________________________________________\n",
      "max_pooling2d_1 (MaxPooling2D)  (None, 1, 1, 64)     0           conv2d_3[0][0]                   \n",
      "__________________________________________________________________________________________________\n",
      "dense_2 (Dense)                 (None, 64)           8256        dense_1[0][0]                    \n",
      "__________________________________________________________________________________________________\n",
      "flatten_1 (Flatten)             (None, 64)           0           max_pooling2d_3[0][0]            \n",
      "__________________________________________________________________________________________________\n",
      "flatten (Flatten)               (None, 64)           0           max_pooling2d_1[0][0]            \n",
      "__________________________________________________________________________________________________\n",
      "concatenate (Concatenate)       (None, 192)          0           dense_2[0][0]                    \n",
      "                                                                 flatten_1[0][0]                  \n",
      "                                                                 flatten[0][0]                    \n",
      "__________________________________________________________________________________________________\n",
      "dense_3 (Dense)                 (None, 512)          98816       concatenate[0][0]                \n",
      "__________________________________________________________________________________________________\n",
      "dense_4 (Dense)                 (None, 1)            513         dense_3[0][0]                    \n",
      "==================================================================================================\n",
      "Total params: 1,811,457\n",
      "Trainable params: 1,811,457\n",
      "Non-trainable params: 0\n",
      "__________________________________________________________________________________________________\n"
     ]
    },
    {
     "name": "stderr",
     "output_type": "stream",
     "text": [
      "2022-02-02 10:17:33.550164: I tensorflow/compiler/mlir/mlir_graph_optimization_pass.cc:185] None of the MLIR Optimization Passes are enabled (registered 2)\n",
      "/home/gevorg/anaconda3/lib/python3.8/site-packages/keras/engine/functional.py:582: UserWarning: Input dict contained keys ['Log1pSalary'] which did not match any model input. They will be ignored by the model.\n",
      "  warnings.warn(\n",
      "2022-02-02 10:17:35.574415: I tensorflow/stream_executor/cuda/cuda_dnn.cc:369] Loaded cuDNN version 8204\n",
      "2022-02-02 10:17:36.382795: I tensorflow/core/platform/default/subprocess.cc:304] Start cannot spawn child process: No such file or directory\n"
     ]
    }
   ],
   "source": [
    "model = build_model()\n",
    "model.summary()\n",
    "\n",
    "dummy_pred = model.predict(make_batch(data_train[:100], max_len=10))\n",
    "dummy_loss = model.train_on_batch(make_batch(data_train[:100], max_len=10), data_train['Log1pSalary'][:100])[0]\n",
    "assert dummy_pred.shape == (100, 1)\n",
    "assert len(np.unique(dummy_pred)) > 20, \"model returns suspiciously few unique outputs. Check your initialization\"\n",
    "assert np.ndim(dummy_loss) == 0 and 0. <= dummy_loss <= 250., \"make sure you minimize MSE\""
   ]
  },
  {
   "cell_type": "markdown",
   "metadata": {
    "id": "OtxI_jiRbGhY"
   },
   "source": [
    "#### Training and evaluation\n",
    "\n",
    "As usual, we gonna feed our monster with random minibatches of data. \n",
    "\n",
    "As we train, we want to monitor not only loss function, which is computed in log-space, but also the actual error measured in dollars."
   ]
  },
  {
   "cell_type": "code",
   "execution_count": 35,
   "metadata": {
    "id": "qEyMSeTwbGhZ"
   },
   "outputs": [],
   "source": [
    "def iterate_minibatches(data, batch_size=256, shuffle=True, cycle=False, **kwargs):\n",
    "    \"\"\" iterates minibatches of data in random order \"\"\"\n",
    "    while True:\n",
    "        indices = np.arange(len(data))\n",
    "        if shuffle:\n",
    "            indices = np.random.permutation(indices)\n",
    "\n",
    "        for start in range(0, len(indices), batch_size):\n",
    "            batch = make_batch(data.iloc[indices[start : start + batch_size]], **kwargs)\n",
    "            target = batch.pop(target_column)\n",
    "            yield batch, target\n",
    "        \n",
    "        if not cycle: break"
   ]
  },
  {
   "cell_type": "markdown",
   "metadata": {
    "id": "7G91NDkbbGhZ"
   },
   "source": [
    "### Model training\n",
    "\n",
    "We can now fit our model the usual minibatch way. The interesting part is that we train on an infinite stream of minibatches, produced by `iterate_minibatches` function."
   ]
  },
  {
   "cell_type": "code",
   "execution_count": 36,
   "metadata": {
    "colab": {
     "base_uri": "https://localhost:8080/"
    },
    "id": "q_TeBlstbGhZ",
    "outputId": "cd0d2bae-c156-4c1c-abb1-6582fb82e0d7"
   },
   "outputs": [
    {
     "name": "stdout",
     "output_type": "stream",
     "text": [
      "Epoch 1/25\n",
      "100/100 [==============================] - 5s 44ms/step - loss: 12.4843 - mean_absolute_error: 2.0073 - val_loss: 0.1939 - val_mean_absolute_error: 0.3441\n",
      "Epoch 2/25\n",
      "100/100 [==============================] - 4s 41ms/step - loss: 0.1712 - mean_absolute_error: 0.3228 - val_loss: 0.1531 - val_mean_absolute_error: 0.3044\n",
      "Epoch 3/25\n",
      "100/100 [==============================] - 4s 40ms/step - loss: 0.1465 - mean_absolute_error: 0.2959 - val_loss: 0.1348 - val_mean_absolute_error: 0.2833\n",
      "Epoch 4/25\n",
      "100/100 [==============================] - 4s 41ms/step - loss: 0.1319 - mean_absolute_error: 0.2782 - val_loss: 0.1186 - val_mean_absolute_error: 0.2631\n",
      "Epoch 5/25\n",
      "100/100 [==============================] - 4s 41ms/step - loss: 0.1135 - mean_absolute_error: 0.2556 - val_loss: 0.1061 - val_mean_absolute_error: 0.2469\n",
      "Epoch 6/25\n",
      "100/100 [==============================] - 4s 41ms/step - loss: 0.1045 - mean_absolute_error: 0.2430 - val_loss: 0.0980 - val_mean_absolute_error: 0.2355\n",
      "Epoch 7/25\n",
      "100/100 [==============================] - 4s 41ms/step - loss: 0.0982 - mean_absolute_error: 0.2356 - val_loss: 0.0934 - val_mean_absolute_error: 0.2296\n",
      "Epoch 8/25\n",
      "100/100 [==============================] - 4s 43ms/step - loss: 0.0904 - mean_absolute_error: 0.2253 - val_loss: 0.0946 - val_mean_absolute_error: 0.2310\n",
      "Epoch 9/25\n",
      "100/100 [==============================] - 4s 40ms/step - loss: 0.0870 - mean_absolute_error: 0.2187 - val_loss: 0.0882 - val_mean_absolute_error: 0.2226\n",
      "Epoch 10/25\n",
      "100/100 [==============================] - 4s 41ms/step - loss: 0.0844 - mean_absolute_error: 0.2173 - val_loss: 0.0880 - val_mean_absolute_error: 0.2225\n",
      "Epoch 11/25\n",
      "100/100 [==============================] - 4s 40ms/step - loss: 0.0838 - mean_absolute_error: 0.2174 - val_loss: 0.0924 - val_mean_absolute_error: 0.2305\n",
      "Epoch 12/25\n",
      "100/100 [==============================] - 4s 41ms/step - loss: 0.0800 - mean_absolute_error: 0.2119 - val_loss: 0.0874 - val_mean_absolute_error: 0.2218\n",
      "Epoch 13/25\n",
      "100/100 [==============================] - 4s 41ms/step - loss: 0.0821 - mean_absolute_error: 0.2137 - val_loss: 0.0885 - val_mean_absolute_error: 0.2252\n",
      "Epoch 14/25\n",
      "100/100 [==============================] - 4s 41ms/step - loss: 0.0816 - mean_absolute_error: 0.2146 - val_loss: 0.0822 - val_mean_absolute_error: 0.2145\n",
      "Epoch 15/25\n",
      "100/100 [==============================] - 4s 41ms/step - loss: 0.0796 - mean_absolute_error: 0.2103 - val_loss: 0.0792 - val_mean_absolute_error: 0.2099\n",
      "Epoch 16/25\n",
      "100/100 [==============================] - 4s 40ms/step - loss: 0.0708 - mean_absolute_error: 0.1972 - val_loss: 0.0933 - val_mean_absolute_error: 0.2331\n",
      "Epoch 17/25\n",
      "100/100 [==============================] - 4s 41ms/step - loss: 0.0669 - mean_absolute_error: 0.1937 - val_loss: 0.0780 - val_mean_absolute_error: 0.2082\n",
      "Epoch 18/25\n",
      "100/100 [==============================] - 4s 40ms/step - loss: 0.0692 - mean_absolute_error: 0.1953 - val_loss: 0.0771 - val_mean_absolute_error: 0.2064\n",
      "Epoch 19/25\n",
      "100/100 [==============================] - 4s 40ms/step - loss: 0.0689 - mean_absolute_error: 0.1971 - val_loss: 0.0793 - val_mean_absolute_error: 0.2109\n",
      "Epoch 20/25\n",
      "100/100 [==============================] - 4s 42ms/step - loss: 0.0702 - mean_absolute_error: 0.1983 - val_loss: 0.0796 - val_mean_absolute_error: 0.2117\n",
      "Epoch 21/25\n",
      "100/100 [==============================] - 4s 41ms/step - loss: 0.0705 - mean_absolute_error: 0.1979 - val_loss: 0.0752 - val_mean_absolute_error: 0.2035\n",
      "Epoch 22/25\n",
      "100/100 [==============================] - 4s 40ms/step - loss: 0.0701 - mean_absolute_error: 0.1972 - val_loss: 0.0752 - val_mean_absolute_error: 0.2035\n",
      "Epoch 23/25\n",
      "100/100 [==============================] - 4s 41ms/step - loss: 0.0700 - mean_absolute_error: 0.1969 - val_loss: 0.0855 - val_mean_absolute_error: 0.2210\n",
      "Epoch 24/25\n",
      "100/100 [==============================] - 4s 42ms/step - loss: 0.0631 - mean_absolute_error: 0.1874 - val_loss: 0.0740 - val_mean_absolute_error: 0.2015\n",
      "Epoch 25/25\n",
      "100/100 [==============================] - 4s 41ms/step - loss: 0.0633 - mean_absolute_error: 0.1884 - val_loss: 0.0743 - val_mean_absolute_error: 0.2019\n"
     ]
    },
    {
     "data": {
      "text/plain": [
       "<keras.callbacks.History at 0x7fe3cc09a3d0>"
      ]
     },
     "execution_count": 36,
     "metadata": {},
     "output_type": "execute_result"
    }
   ],
   "source": [
    "batch_size = 256\n",
    "epochs = 25            # definitely too small\n",
    "steps_per_epoch = 100  # for full pass over data: (len(data_train) - 1) // batch_size + 1\n",
    "\n",
    "model = build_model()\n",
    "\n",
    "model.fit(iterate_minibatches(data_train, batch_size, cycle=True, word_dropout=0.05, max_len=10), \n",
    "                    epochs=epochs, steps_per_epoch=steps_per_epoch,\n",
    "                    \n",
    "                    validation_data=iterate_minibatches(data_val, batch_size, cycle=True, max_len=10),\n",
    "                    validation_steps=data_val.shape[0] // batch_size)"
   ]
  },
  {
   "cell_type": "code",
   "execution_count": 37,
   "metadata": {
    "colab": {
     "base_uri": "https://localhost:8080/"
    },
    "id": "FBKN2ZFGbGha",
    "outputId": "2a2d4d84-3f8e-445d-f8b8-c06cc91ed8f9"
   },
   "outputs": [
    {
     "name": "stdout",
     "output_type": "stream",
     "text": [
      "Train results:\n",
      "Mean square error: 0.05291\n",
      "Mean absolute error: 0.16851\n",
      "Val results:\n",
      "Mean square error: 0.07429\n",
      "Mean absolute error: 0.20189\n"
     ]
    }
   ],
   "source": [
    "def print_metrics(model, data, batch_size=batch_size, name=\"\", **kw):\n",
    "    squared_error = abs_error = num_samples = 0.0\n",
    "    for batch_x, batch_y in iterate_minibatches(data, batch_size=batch_size, shuffle=False, **kw):\n",
    "        batch_pred = model.predict(batch_x)[:, 0]\n",
    "        squared_error += np.sum(np.square(batch_pred - batch_y))\n",
    "        abs_error += np.sum(np.abs(batch_pred - batch_y))\n",
    "        num_samples += len(batch_y)\n",
    "    print(\"%s results:\" % (name or \"\"))\n",
    "    print(\"Mean square error: %.5f\" % (squared_error / num_samples))\n",
    "    print(\"Mean absolute error: %.5f\" % (abs_error / num_samples))\n",
    "    return squared_error, abs_error\n",
    "    \n",
    "print_metrics(model, data_train, name='Train', max_len=10)\n",
    "print_metrics(model, data_val, name='Val', max_len=10);"
   ]
  }
 ],
 "metadata": {
  "accelerator": "GPU",
  "colab": {
   "name": "nlp1.ipynb",
   "provenance": [],
   "toc_visible": true
  },
  "kernelspec": {
   "display_name": "Python 3 (ipykernel)",
   "language": "python",
   "name": "python3"
  },
  "language_info": {
   "codemirror_mode": {
    "name": "ipython",
    "version": 3
   },
   "file_extension": ".py",
   "mimetype": "text/x-python",
   "name": "python",
   "nbconvert_exporter": "python",
   "pygments_lexer": "ipython3",
   "version": "3.10.1"
  }
 },
 "nbformat": 4,
 "nbformat_minor": 1
}
