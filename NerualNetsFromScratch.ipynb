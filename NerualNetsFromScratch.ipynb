{
 "cells": [
  {
   "cell_type": "code",
   "execution_count": 8,
   "id": "06e7634c",
   "metadata": {},
   "outputs": [
    {
     "name": "stdout",
     "output_type": "stream",
     "text": [
      "[4.8, 1.21, 2.385]\n"
     ]
    }
   ],
   "source": [
    "\n",
    "# inputs = [1, 2, 3, 2.5]\n",
    "\n",
    "# weights = [[0.2, 0.8, -0.5, 1.0],\n",
    "#            [0.5, -0.91, 0.26, -0.5],\n",
    "#            [-0.26, -0.27, 0.17, 0.87]]\n",
    "\n",
    "# biases = [2, 3, 0.5]\n",
    "\n",
    "# layer_outputs = []\n",
    "# for neuron_weights, neuron_bias in zip(weights, biases):\n",
    "#     neuron_output = 0\n",
    "#     for n_input, weight in zip(inputs, neuron_weights):\n",
    "#         neuron_output += n_input*weight\n",
    "#     neuron_output += neuron_bias\n",
    "#     layer_outputs.append(neuron_output)\n",
    "\n",
    "    \n",
    "# print(layer_outputs)\n"
   ]
  },
  {
   "cell_type": "code",
   "execution_count": 6,
   "id": "bcebc2bc",
   "metadata": {},
   "outputs": [
    {
     "data": {
      "text/plain": [
       "array([4.8  , 1.21 , 2.385])"
      ]
     },
     "execution_count": 6,
     "metadata": {},
     "output_type": "execute_result"
    }
   ],
   "source": [
    "# import numpy as np\n",
    "# output = np.dot(weights, inputs) + biases\n",
    "# output"
   ]
  },
  {
   "cell_type": "code",
   "execution_count": 2,
   "id": "a8d2d89e",
   "metadata": {},
   "outputs": [
    {
     "name": "stdout",
     "output_type": "stream",
     "text": [
      "[[ 4.8    1.21   2.385]\n",
      " [ 8.9   -1.81   0.2  ]\n",
      " [ 1.41   1.051  0.026]]\n",
      "[[ 2.7355   4.919   -0.66925]\n",
      " [ 2.232    9.1491  -1.2913 ]\n",
      " [ 3.1098   2.75535 -0.14595]]\n"
     ]
    }
   ],
   "source": [
    "import numpy as np\n",
    "\n",
    "inputs = [[1, 2, 3, 2.5],\n",
    "          [2.0, 5.0, -1.0, 2.0],\n",
    "          [-1.5, 2.7, 3.3, -0.8]]\n",
    "\n",
    "weights = [[0.2, 0.8, -0.5, 1.0],\n",
    "           [0.5, -0.91, 0.26, -0.5],\n",
    "           [-0.26, -0.27, 0.17, 0.87]]\n",
    "\n",
    "biases = [2, 3, 0.5]\n",
    "\n",
    "weights2 = [[0.2, 0.8, -0.5],\n",
    "           [0.5, -0.91, 0.26],\n",
    "           [-0.26, -0.27, 0.17]]\n",
    "\n",
    "biases2 = [2, 3, 0.5]\n",
    "\n",
    "output_layer1 = np.dot(inputs, np.array(weights).T) + biases\n",
    "print(output_layer1)\n",
    "output_layer2 = np.dot(output_layer1, np.array(weights2).T) + biases2\n",
    "print(output_layer2)"
   ]
  },
  {
   "cell_type": "code",
   "execution_count": 3,
   "id": "06711471",
   "metadata": {},
   "outputs": [
    {
     "name": "stdout",
     "output_type": "stream",
     "text": [
      "[[-0.37092083 -0.34207881  0.63765211  0.37663965 -0.61601802]\n",
      " [ 0.129391    0.69155314  0.38995324  0.45269146 -0.93269433]\n",
      " [-0.2190043  -0.3196787   0.26557599  0.30153682  0.09800139]]\n",
      "[[-0.25336191 -0.00900473]\n",
      " [-0.33612088  0.09138197]\n",
      " [-0.07500806 -0.0464798 ]]\n"
     ]
    }
   ],
   "source": [
    "X = inputs\n",
    "\n",
    "class Layer_Dense:\n",
    "    def __init__(self, n_inputs, n_neurons):\n",
    "        self.weights = 0.10 * np.random.randn(n_inputs, n_neurons)\n",
    "        self.biases = np.zeros((1, n_neurons))\n",
    "    \n",
    "    def forward(self, inputs):\n",
    "        self.output = np.dot(inputs, self.weights) + self.biases\n",
    "        \n",
    "layer1 = Layer_Dense(4, 5)\n",
    "layer2 = Layer_Dense(5, 2)\n",
    "\n",
    "layer1.forward(X)\n",
    "print(layer1.output)\n",
    "layer2.forward(layer1.output)\n",
    "print(layer2.output)"
   ]
  },
  {
   "cell_type": "code",
   "execution_count": 10,
   "id": "0d6d2608",
   "metadata": {},
   "outputs": [
    {
     "data": {
      "text/plain": [
       "[<matplotlib.lines.Line2D at 0x7fe20796f940>]"
      ]
     },
     "execution_count": 10,
     "metadata": {},
     "output_type": "execute_result"
    },
    {
     "data": {
      "image/png": "[encoded data removed]",
      "text/plain": [
       "<Figure size 432x288 with 1 Axes>"
      ]
     },
     "metadata": {
      "needs_background": "light"
     },
     "output_type": "display_data"
    }
   ],
   "source": [
    "import math\n",
    "from matplotlib import pyplot\n",
    "\n",
    "def relu(x):\n",
    "#     return max(0.0, x)\n",
    "    return (1 / (1 - math.exp(-x)))\n",
    "\n",
    "y = [relu(i) for i in layer1.output[0]]\n",
    "series = [i for i in range(-1, 4)]\n",
    "pyplot.plot(y, series)"
   ]
  },
  {
   "cell_type": "code",
   "execution_count": 11,
   "id": "4a19effb",
   "metadata": {},
   "outputs": [],
   "source": [
    "import nnfs\n",
    " "
   ]
  },
  {
   "cell_type": "markdown",
   "id": "0c9563ef",
   "metadata": {},
   "source": [
    "# Softmax"
   ]
  },
  {
   "cell_type": "code",
   "execution_count": 18,
   "id": "c8f91708",
   "metadata": {},
   "outputs": [
    {
     "name": "stdout",
     "output_type": "stream",
     "text": [
      "[121.51041752   3.35348465  10.85906266]\n"
     ]
    }
   ],
   "source": [
    "layer_outputs = [4.8, 1.21, 2.385]\n",
    "\n",
    "E = math.e\n",
    "\n",
    "exp_values = np.exp(layer_outputs)\n",
    "\n",
    "# exp_values = []\n",
    "\n",
    "# for output in layer_outputs:\n",
    "#     exp_values.append(E**output)\n",
    "    \n",
    "print(exp_values)"
   ]
  },
  {
   "cell_type": "code",
   "execution_count": 19,
   "id": "970731c9",
   "metadata": {},
   "outputs": [
    {
     "name": "stdout",
     "output_type": "stream",
     "text": [
      "[0.89528266 0.02470831 0.08000903]\n",
      "0.9999999999999999\n"
     ]
    }
   ],
   "source": [
    "norm_values = exp_values / np.sum(exp_values)\n",
    "# norm_base = sum(exp_values)\n",
    "\n",
    "# norm_values = []\n",
    "\n",
    "# for value in exp_values:\n",
    "#     norm_values.append(value / norm_base)\n",
    "    \n",
    "print(norm_values)\n",
    "print(sum(norm_values))"
   ]
  },
  {
   "cell_type": "markdown",
   "id": "17ea9bef",
   "metadata": {},
   "source": [
    "### Loss with categorical Cross-Entropy"
   ]
  },
  {
   "cell_type": "code",
   "execution_count": 20,
   "id": "db9aab8f",
   "metadata": {},
   "outputs": [
    {
     "name": "stdout",
     "output_type": "stream",
     "text": [
      "1.6486586255873816\n"
     ]
    }
   ],
   "source": [
    "b = 5.2\n",
    "\n",
    "print(np.log(b))"
   ]
  },
  {
   "cell_type": "code",
   "execution_count": 22,
   "id": "798c2814",
   "metadata": {},
   "outputs": [
    {
     "name": "stdout",
     "output_type": "stream",
     "text": [
      "0.35667494393873245\n"
     ]
    }
   ],
   "source": [
    "softmax_output = [0.7, 0.1, 0.2]\n",
    "target_output = [1, 0 ,0]\n",
    "loss = -(math.log(softmax_output[0]) * target_output[0] +\n",
    "         math.log(softmax_output[1]) * target_output[1] +\n",
    "         math.log(softmax_output[2]) * target_output[2])\n",
    "print(loss)"
   ]
  },
  {
   "cell_type": "code",
   "execution_count": null,
   "id": "ffbce58d",
   "metadata": {},
   "outputs": [],
   "source": []
  }
 ],
 "metadata": {
  "kernelspec": {
   "display_name": "Python 3 (ipykernel)",
   "language": "python",
   "name": "python3"
  },
  "language_info": {
   "codemirror_mode": {
    "name": "ipython",
    "version": 3
   },
   "file_extension": ".py",
   "mimetype": "text/x-python",
   "name": "python",
   "nbconvert_exporter": "python",
   "pygments_lexer": "ipython3",
   "version": "3.10.2"
  }
 },
 "nbformat": 4,
 "nbformat_minor": 5
}
