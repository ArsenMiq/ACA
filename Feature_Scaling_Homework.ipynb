{
 "cells": [
  {
   "cell_type": "code",
   "execution_count": 42,
   "metadata": {},
   "outputs": [],
   "source": [
    "# importing essential libs\n",
    "from sklearn.model_selection import train_test_split\n",
    "from sklearn.metrics import mean_squared_error\n",
    "from sklearn import datasets, linear_model\n",
    "from matplotlib import pyplot as plt\n",
    "import pandas as pd\n",
    "import numpy as np"
   ]
  },
  {
   "cell_type": "code",
   "execution_count": 43,
   "metadata": {},
   "outputs": [],
   "source": [
    "# Load the Diabetes dataset\n",
    "columns = 'age sex bmi map tc ldl hdl tch ltg glu'.split() # Declare the columns names\n",
    "diabetes = datasets.load_diabetes() # Call the diabetes dataset from sklearn\n",
    "df = pd.DataFrame(diabetes.data, columns=columns) # load the dataset as a pandas data frame\n",
    "y = diabetes.target # define the target variable (dependent variable) as y"
   ]
  },
  {
   "cell_type": "code",
   "execution_count": 44,
   "metadata": {},
   "outputs": [
    {
     "data": {
      "text/html": [
       "<div>\n",
       "<style scoped>\n",
       "    .dataframe tbody tr th:only-of-type {\n",
       "        vertical-align: middle;\n",
       "    }\n",
       "\n",
       "    .dataframe tbody tr th {\n",
       "        vertical-align: top;\n",
       "    }\n",
       "\n",
       "    .dataframe thead th {\n",
       "        text-align: right;\n",
       "    }\n",
       "</style>\n",
       "<table border=\"1\" class=\"dataframe\">\n",
       "  <thead>\n",
       "    <tr style=\"text-align: right;\">\n",
       "      <th></th>\n",
       "      <th>age</th>\n",
       "      <th>sex</th>\n",
       "      <th>bmi</th>\n",
       "      <th>map</th>\n",
       "      <th>tc</th>\n",
       "      <th>ldl</th>\n",
       "      <th>hdl</th>\n",
       "      <th>tch</th>\n",
       "      <th>ltg</th>\n",
       "      <th>glu</th>\n",
       "    </tr>\n",
       "  </thead>\n",
       "  <tbody>\n",
       "    <tr>\n",
       "      <th>0</th>\n",
       "      <td>0.038076</td>\n",
       "      <td>0.050680</td>\n",
       "      <td>0.061696</td>\n",
       "      <td>0.021872</td>\n",
       "      <td>-0.044223</td>\n",
       "      <td>-0.034821</td>\n",
       "      <td>-0.043401</td>\n",
       "      <td>-0.002592</td>\n",
       "      <td>0.019908</td>\n",
       "      <td>-0.017646</td>\n",
       "    </tr>\n",
       "    <tr>\n",
       "      <th>1</th>\n",
       "      <td>-0.001882</td>\n",
       "      <td>-0.044642</td>\n",
       "      <td>-0.051474</td>\n",
       "      <td>-0.026328</td>\n",
       "      <td>-0.008449</td>\n",
       "      <td>-0.019163</td>\n",
       "      <td>0.074412</td>\n",
       "      <td>-0.039493</td>\n",
       "      <td>-0.068330</td>\n",
       "      <td>-0.092204</td>\n",
       "    </tr>\n",
       "    <tr>\n",
       "      <th>2</th>\n",
       "      <td>0.085299</td>\n",
       "      <td>0.050680</td>\n",
       "      <td>0.044451</td>\n",
       "      <td>-0.005671</td>\n",
       "      <td>-0.045599</td>\n",
       "      <td>-0.034194</td>\n",
       "      <td>-0.032356</td>\n",
       "      <td>-0.002592</td>\n",
       "      <td>0.002864</td>\n",
       "      <td>-0.025930</td>\n",
       "    </tr>\n",
       "    <tr>\n",
       "      <th>3</th>\n",
       "      <td>-0.089063</td>\n",
       "      <td>-0.044642</td>\n",
       "      <td>-0.011595</td>\n",
       "      <td>-0.036656</td>\n",
       "      <td>0.012191</td>\n",
       "      <td>0.024991</td>\n",
       "      <td>-0.036038</td>\n",
       "      <td>0.034309</td>\n",
       "      <td>0.022692</td>\n",
       "      <td>-0.009362</td>\n",
       "    </tr>\n",
       "    <tr>\n",
       "      <th>4</th>\n",
       "      <td>0.005383</td>\n",
       "      <td>-0.044642</td>\n",
       "      <td>-0.036385</td>\n",
       "      <td>0.021872</td>\n",
       "      <td>0.003935</td>\n",
       "      <td>0.015596</td>\n",
       "      <td>0.008142</td>\n",
       "      <td>-0.002592</td>\n",
       "      <td>-0.031991</td>\n",
       "      <td>-0.046641</td>\n",
       "    </tr>\n",
       "  </tbody>\n",
       "</table>\n",
       "</div>"
      ],
      "text/plain": [
       "        age       sex       bmi       map        tc       ldl       hdl  \\\n",
       "0  0.038076  0.050680  0.061696  0.021872 -0.044223 -0.034821 -0.043401   \n",
       "1 -0.001882 -0.044642 -0.051474 -0.026328 -0.008449 -0.019163  0.074412   \n",
       "2  0.085299  0.050680  0.044451 -0.005671 -0.045599 -0.034194 -0.032356   \n",
       "3 -0.089063 -0.044642 -0.011595 -0.036656  0.012191  0.024991 -0.036038   \n",
       "4  0.005383 -0.044642 -0.036385  0.021872  0.003935  0.015596  0.008142   \n",
       "\n",
       "        tch       ltg       glu  \n",
       "0 -0.002592  0.019908 -0.017646  \n",
       "1 -0.039493 -0.068330 -0.092204  \n",
       "2 -0.002592  0.002864 -0.025930  \n",
       "3  0.034309  0.022692 -0.009362  \n",
       "4 -0.002592 -0.031991 -0.046641  "
      ]
     },
     "execution_count": 44,
     "metadata": {},
     "output_type": "execute_result"
    }
   ],
   "source": [
    "df.head()"
   ]
  },
  {
   "cell_type": "code",
   "execution_count": 45,
   "metadata": {},
   "outputs": [
    {
     "data": {
      "text/plain": [
       "array([151.,  75., 141., 206., 135.])"
      ]
     },
     "execution_count": 45,
     "metadata": {},
     "output_type": "execute_result"
    }
   ],
   "source": [
    "y[:5]"
   ]
  },
  {
   "cell_type": "code",
   "execution_count": 46,
   "metadata": {},
   "outputs": [
    {
     "name": "stdout",
     "output_type": "stream",
     "text": [
      "(353, 10) (353,)\n",
      "(89, 10) (89,)\n"
     ]
    }
   ],
   "source": [
    "# create training and testing vars\n",
    "X_train, X_test, y_train, y_test = train_test_split(df, y, test_size=0.2, random_state=42)\n",
    "print(X_train.shape, y_train.shape)\n",
    "print(X_test.shape, y_test.shape)"
   ]
  },
  {
   "cell_type": "code",
   "execution_count": 47,
   "metadata": {},
   "outputs": [],
   "source": [
    "# fit a model\n",
    "lm = linear_model.LinearRegression()\n",
    "model = lm.fit(X_train, y_train)\n",
    "predictions = lm.predict(X_test)"
   ]
  },
  {
   "cell_type": "code",
   "execution_count": 48,
   "metadata": {},
   "outputs": [
    {
     "data": {
      "text/plain": [
       "0.452606602161738"
      ]
     },
     "execution_count": 48,
     "metadata": {},
     "output_type": "execute_result"
    }
   ],
   "source": [
    "model.score(X_test, y_test)"
   ]
  },
  {
   "cell_type": "code",
   "execution_count": 49,
   "metadata": {},
   "outputs": [
    {
     "data": {
      "text/plain": [
       "Text(0, 0.5, 'Predictions')"
      ]
     },
     "execution_count": 49,
     "metadata": {},
     "output_type": "execute_result"
    },
    {
     "data": {
      "image/png": "[encoded data removed]",
      "text/plain": [
       "<Figure size 432x288 with 1 Axes>"
      ]
     },
     "metadata": {
      "needs_background": "light"
     },
     "output_type": "display_data"
    }
   ],
   "source": [
    "## The line / model\n",
    "plt.scatter(y_test, predictions)\n",
    "plt.xlabel('True Values')\n",
    "plt.ylabel('Predictions')"
   ]
  },
  {
   "cell_type": "code",
   "execution_count": 50,
   "metadata": {},
   "outputs": [
    {
     "name": "stdout",
     "output_type": "stream",
     "text": [
      "Test RMSE: 53.8532569849144\n",
      "Train RMSE: 53.55881425327268\n"
     ]
    }
   ],
   "source": [
    "print ('Test RMSE:', np.sqrt(mean_squared_error(predictions, y_test)))\n",
    "print ('Train RMSE:', np.sqrt(mean_squared_error(lm.predict(X_train), y_train)))"
   ]
  },
  {
   "cell_type": "markdown",
   "metadata": {},
   "source": [
    "# Feature Scaling"
   ]
  },
  {
   "cell_type": "code",
   "execution_count": 51,
   "metadata": {},
   "outputs": [
    {
     "data": {
      "text/html": [
       "<div>\n",
       "<style scoped>\n",
       "    .dataframe tbody tr th:only-of-type {\n",
       "        vertical-align: middle;\n",
       "    }\n",
       "\n",
       "    .dataframe tbody tr th {\n",
       "        vertical-align: top;\n",
       "    }\n",
       "\n",
       "    .dataframe thead th {\n",
       "        text-align: right;\n",
       "    }\n",
       "</style>\n",
       "<table border=\"1\" class=\"dataframe\">\n",
       "  <thead>\n",
       "    <tr style=\"text-align: right;\">\n",
       "      <th></th>\n",
       "      <th>Name</th>\n",
       "      <th>Age</th>\n",
       "      <th>Nationality</th>\n",
       "      <th>Overall</th>\n",
       "      <th>Potential</th>\n",
       "      <th>Club</th>\n",
       "      <th>Value</th>\n",
       "      <th>Wage</th>\n",
       "      <th>Position</th>\n",
       "      <th>Jersey Number</th>\n",
       "      <th>Contract Valid Until</th>\n",
       "      <th>Height</th>\n",
       "      <th>Weight</th>\n",
       "    </tr>\n",
       "  </thead>\n",
       "  <tbody>\n",
       "    <tr>\n",
       "      <th>0</th>\n",
       "      <td>L. Messi</td>\n",
       "      <td>31</td>\n",
       "      <td>Argentina</td>\n",
       "      <td>94</td>\n",
       "      <td>94</td>\n",
       "      <td>FC Barcelona</td>\n",
       "      <td>110500000.0</td>\n",
       "      <td>€565K</td>\n",
       "      <td>RF</td>\n",
       "      <td>10.0</td>\n",
       "      <td>2021</td>\n",
       "      <td>5'7</td>\n",
       "      <td>159lbs</td>\n",
       "    </tr>\n",
       "    <tr>\n",
       "      <th>1</th>\n",
       "      <td>Cristiano Ronaldo</td>\n",
       "      <td>33</td>\n",
       "      <td>Portugal</td>\n",
       "      <td>94</td>\n",
       "      <td>94</td>\n",
       "      <td>Juventus</td>\n",
       "      <td>77000000.0</td>\n",
       "      <td>€405K</td>\n",
       "      <td>ST</td>\n",
       "      <td>7.0</td>\n",
       "      <td>2022</td>\n",
       "      <td>6'2</td>\n",
       "      <td>183lbs</td>\n",
       "    </tr>\n",
       "    <tr>\n",
       "      <th>2</th>\n",
       "      <td>Neymar Jr</td>\n",
       "      <td>26</td>\n",
       "      <td>Brazil</td>\n",
       "      <td>92</td>\n",
       "      <td>93</td>\n",
       "      <td>Paris Saint-Germain</td>\n",
       "      <td>118500000.0</td>\n",
       "      <td>€290K</td>\n",
       "      <td>LW</td>\n",
       "      <td>10.0</td>\n",
       "      <td>2022</td>\n",
       "      <td>5'9</td>\n",
       "      <td>150lbs</td>\n",
       "    </tr>\n",
       "    <tr>\n",
       "      <th>3</th>\n",
       "      <td>De Gea</td>\n",
       "      <td>27</td>\n",
       "      <td>Spain</td>\n",
       "      <td>91</td>\n",
       "      <td>93</td>\n",
       "      <td>Manchester United</td>\n",
       "      <td>72000000.0</td>\n",
       "      <td>€260K</td>\n",
       "      <td>GK</td>\n",
       "      <td>1.0</td>\n",
       "      <td>2020</td>\n",
       "      <td>6'4</td>\n",
       "      <td>168lbs</td>\n",
       "    </tr>\n",
       "    <tr>\n",
       "      <th>4</th>\n",
       "      <td>K. De Bruyne</td>\n",
       "      <td>27</td>\n",
       "      <td>Belgium</td>\n",
       "      <td>91</td>\n",
       "      <td>92</td>\n",
       "      <td>Manchester City</td>\n",
       "      <td>102000000.0</td>\n",
       "      <td>€355K</td>\n",
       "      <td>RCM</td>\n",
       "      <td>7.0</td>\n",
       "      <td>2023</td>\n",
       "      <td>5'11</td>\n",
       "      <td>154lbs</td>\n",
       "    </tr>\n",
       "  </tbody>\n",
       "</table>\n",
       "</div>"
      ],
      "text/plain": [
       "                Name  Age Nationality  Overall  Potential  \\\n",
       "0           L. Messi   31   Argentina       94         94   \n",
       "1  Cristiano Ronaldo   33    Portugal       94         94   \n",
       "2          Neymar Jr   26      Brazil       92         93   \n",
       "3             De Gea   27       Spain       91         93   \n",
       "4       K. De Bruyne   27     Belgium       91         92   \n",
       "\n",
       "                  Club        Value   Wage Position  Jersey Number  \\\n",
       "0         FC Barcelona  110500000.0  €565K       RF           10.0   \n",
       "1             Juventus   77000000.0  €405K       ST            7.0   \n",
       "2  Paris Saint-Germain  118500000.0  €290K       LW           10.0   \n",
       "3    Manchester United   72000000.0  €260K       GK            1.0   \n",
       "4      Manchester City  102000000.0  €355K      RCM            7.0   \n",
       "\n",
       "  Contract Valid Until Height  Weight  \n",
       "0                 2021    5'7  159lbs  \n",
       "1                 2022    6'2  183lbs  \n",
       "2                 2022    5'9  150lbs  \n",
       "3                 2020    6'4  168lbs  \n",
       "4                 2023   5'11  154lbs  "
      ]
     },
     "execution_count": 51,
     "metadata": {},
     "output_type": "execute_result"
    }
   ],
   "source": [
    "import pandas as pd\n",
    "from sklearn.preprocessing import MinMaxScaler\n",
    "  \n",
    "# Read Data from CSV \n",
    "data = pd.read_csv('regression.csv') \n",
    "data.head()"
   ]
  },
  {
   "cell_type": "code",
   "execution_count": 52,
   "metadata": {},
   "outputs": [],
   "source": [
    "y = data['Value']"
   ]
  },
  {
   "cell_type": "code",
   "execution_count": 53,
   "metadata": {},
   "outputs": [],
   "source": [
    "data = data.drop(['Name', 'Nationality', 'Club', 'Wage', 'Position', 'Weight', 'Height', 'Contract Valid Until', 'Value'], axis = 1)"
   ]
  },
  {
   "cell_type": "code",
   "execution_count": 54,
   "metadata": {},
   "outputs": [
    {
     "data": {
      "text/html": [
       "<div>\n",
       "<style scoped>\n",
       "    .dataframe tbody tr th:only-of-type {\n",
       "        vertical-align: middle;\n",
       "    }\n",
       "\n",
       "    .dataframe tbody tr th {\n",
       "        vertical-align: top;\n",
       "    }\n",
       "\n",
       "    .dataframe thead th {\n",
       "        text-align: right;\n",
       "    }\n",
       "</style>\n",
       "<table border=\"1\" class=\"dataframe\">\n",
       "  <thead>\n",
       "    <tr style=\"text-align: right;\">\n",
       "      <th></th>\n",
       "      <th>Age</th>\n",
       "      <th>Overall</th>\n",
       "      <th>Potential</th>\n",
       "      <th>Jersey Number</th>\n",
       "    </tr>\n",
       "  </thead>\n",
       "  <tbody>\n",
       "    <tr>\n",
       "      <th>0</th>\n",
       "      <td>31</td>\n",
       "      <td>94</td>\n",
       "      <td>94</td>\n",
       "      <td>10.0</td>\n",
       "    </tr>\n",
       "    <tr>\n",
       "      <th>1</th>\n",
       "      <td>33</td>\n",
       "      <td>94</td>\n",
       "      <td>94</td>\n",
       "      <td>7.0</td>\n",
       "    </tr>\n",
       "    <tr>\n",
       "      <th>2</th>\n",
       "      <td>26</td>\n",
       "      <td>92</td>\n",
       "      <td>93</td>\n",
       "      <td>10.0</td>\n",
       "    </tr>\n",
       "    <tr>\n",
       "      <th>3</th>\n",
       "      <td>27</td>\n",
       "      <td>91</td>\n",
       "      <td>93</td>\n",
       "      <td>1.0</td>\n",
       "    </tr>\n",
       "    <tr>\n",
       "      <th>4</th>\n",
       "      <td>27</td>\n",
       "      <td>91</td>\n",
       "      <td>92</td>\n",
       "      <td>7.0</td>\n",
       "    </tr>\n",
       "  </tbody>\n",
       "</table>\n",
       "</div>"
      ],
      "text/plain": [
       "   Age  Overall  Potential  Jersey Number\n",
       "0   31       94         94           10.0\n",
       "1   33       94         94            7.0\n",
       "2   26       92         93           10.0\n",
       "3   27       91         93            1.0\n",
       "4   27       91         92            7.0"
      ]
     },
     "execution_count": 54,
     "metadata": {},
     "output_type": "execute_result"
    }
   ],
   "source": [
    "data.head()"
   ]
  },
  {
   "cell_type": "code",
   "execution_count": 55,
   "metadata": {},
   "outputs": [],
   "source": [
    "X_train, X_test, y_train, y_test = train_test_split(data, y, test_size=0.2)"
   ]
  },
  {
   "cell_type": "markdown",
   "metadata": {},
   "source": [
    "### MinMaxScaler"
   ]
  },
  {
   "cell_type": "code",
   "execution_count": 32,
   "metadata": {},
   "outputs": [
    {
     "name": "stdout",
     "output_type": "stream",
     "text": [
      "            Age   Overall  Potential  Jersey Number\n",
      "0      0.448276  0.416667   0.382979       0.010204\n",
      "1      0.275862  0.625000   0.659574       0.091837\n",
      "2      0.206897  0.458333   0.553191       0.132653\n",
      "3      0.275862  0.416667   0.489362       0.010204\n",
      "4      0.413793  0.291667   0.255319       0.142857\n",
      "...         ...       ...        ...            ...\n",
      "14320  0.482759  0.625000   0.595745       0.306122\n",
      "14321  0.655172  0.479167   0.446809       0.081633\n",
      "14322  0.517241  0.375000   0.340426       0.255102\n",
      "14323  0.103448  0.229167   0.510638       0.275510\n",
      "14324  0.344828  0.354167   0.340426       0.336735\n",
      "\n",
      "[14325 rows x 4 columns]\n",
      "[[0.44827586 0.41666667 0.38297872 0.01020408]\n",
      " [0.27586207 0.625      0.65957447 0.09183673]\n",
      " [0.20689655 0.45833333 0.55319149 0.13265306]\n",
      " ...\n",
      " [0.51724138 0.375      0.34042553 0.25510204]\n",
      " [0.10344828 0.22916667 0.5106383  0.2755102 ]\n",
      " [0.34482759 0.35416667 0.34042553 0.33673469]]\n"
     ]
    }
   ],
   "source": [
    "# Initialise the Scaler and Fit\n",
    "norm = MinMaxScaler().fit(X_train)\n",
    "print(X_train)\n",
    "print(norm.transform(X_train))"
   ]
  },
  {
   "cell_type": "code",
   "execution_count": 16,
   "metadata": {},
   "outputs": [],
   "source": [
    "X_train = pd.DataFrame(columns = X_train.columns, data = norm.transform(X_train))"
   ]
  },
  {
   "cell_type": "code",
   "execution_count": 17,
   "metadata": {},
   "outputs": [
    {
     "data": {
      "text/html": [
       "<div>\n",
       "<style scoped>\n",
       "    .dataframe tbody tr th:only-of-type {\n",
       "        vertical-align: middle;\n",
       "    }\n",
       "\n",
       "    .dataframe tbody tr th {\n",
       "        vertical-align: top;\n",
       "    }\n",
       "\n",
       "    .dataframe thead th {\n",
       "        text-align: right;\n",
       "    }\n",
       "</style>\n",
       "<table border=\"1\" class=\"dataframe\">\n",
       "  <thead>\n",
       "    <tr style=\"text-align: right;\">\n",
       "      <th></th>\n",
       "      <th>Age</th>\n",
       "      <th>Overall</th>\n",
       "      <th>Potential</th>\n",
       "      <th>Jersey Number</th>\n",
       "    </tr>\n",
       "  </thead>\n",
       "  <tbody>\n",
       "    <tr>\n",
       "      <th>0</th>\n",
       "      <td>0.448276</td>\n",
       "      <td>0.416667</td>\n",
       "      <td>0.382979</td>\n",
       "      <td>0.010204</td>\n",
       "    </tr>\n",
       "    <tr>\n",
       "      <th>1</th>\n",
       "      <td>0.275862</td>\n",
       "      <td>0.625000</td>\n",
       "      <td>0.659574</td>\n",
       "      <td>0.091837</td>\n",
       "    </tr>\n",
       "    <tr>\n",
       "      <th>2</th>\n",
       "      <td>0.206897</td>\n",
       "      <td>0.458333</td>\n",
       "      <td>0.553191</td>\n",
       "      <td>0.132653</td>\n",
       "    </tr>\n",
       "    <tr>\n",
       "      <th>3</th>\n",
       "      <td>0.275862</td>\n",
       "      <td>0.416667</td>\n",
       "      <td>0.489362</td>\n",
       "      <td>0.010204</td>\n",
       "    </tr>\n",
       "    <tr>\n",
       "      <th>4</th>\n",
       "      <td>0.413793</td>\n",
       "      <td>0.291667</td>\n",
       "      <td>0.255319</td>\n",
       "      <td>0.142857</td>\n",
       "    </tr>\n",
       "    <tr>\n",
       "      <th>...</th>\n",
       "      <td>...</td>\n",
       "      <td>...</td>\n",
       "      <td>...</td>\n",
       "      <td>...</td>\n",
       "    </tr>\n",
       "    <tr>\n",
       "      <th>14320</th>\n",
       "      <td>0.482759</td>\n",
       "      <td>0.625000</td>\n",
       "      <td>0.595745</td>\n",
       "      <td>0.306122</td>\n",
       "    </tr>\n",
       "    <tr>\n",
       "      <th>14321</th>\n",
       "      <td>0.655172</td>\n",
       "      <td>0.479167</td>\n",
       "      <td>0.446809</td>\n",
       "      <td>0.081633</td>\n",
       "    </tr>\n",
       "    <tr>\n",
       "      <th>14322</th>\n",
       "      <td>0.517241</td>\n",
       "      <td>0.375000</td>\n",
       "      <td>0.340426</td>\n",
       "      <td>0.255102</td>\n",
       "    </tr>\n",
       "    <tr>\n",
       "      <th>14323</th>\n",
       "      <td>0.103448</td>\n",
       "      <td>0.229167</td>\n",
       "      <td>0.510638</td>\n",
       "      <td>0.275510</td>\n",
       "    </tr>\n",
       "    <tr>\n",
       "      <th>14324</th>\n",
       "      <td>0.344828</td>\n",
       "      <td>0.354167</td>\n",
       "      <td>0.340426</td>\n",
       "      <td>0.336735</td>\n",
       "    </tr>\n",
       "  </tbody>\n",
       "</table>\n",
       "<p>14325 rows × 4 columns</p>\n",
       "</div>"
      ],
      "text/plain": [
       "            Age   Overall  Potential  Jersey Number\n",
       "0      0.448276  0.416667   0.382979       0.010204\n",
       "1      0.275862  0.625000   0.659574       0.091837\n",
       "2      0.206897  0.458333   0.553191       0.132653\n",
       "3      0.275862  0.416667   0.489362       0.010204\n",
       "4      0.413793  0.291667   0.255319       0.142857\n",
       "...         ...       ...        ...            ...\n",
       "14320  0.482759  0.625000   0.595745       0.306122\n",
       "14321  0.655172  0.479167   0.446809       0.081633\n",
       "14322  0.517241  0.375000   0.340426       0.255102\n",
       "14323  0.103448  0.229167   0.510638       0.275510\n",
       "14324  0.344828  0.354167   0.340426       0.336735\n",
       "\n",
       "[14325 rows x 4 columns]"
      ]
     },
     "execution_count": 17,
     "metadata": {},
     "output_type": "execute_result"
    }
   ],
   "source": [
    "X_train"
   ]
  },
  {
   "cell_type": "code",
   "execution_count": 18,
   "metadata": {},
   "outputs": [],
   "source": [
    "X_test = pd.DataFrame(columns = X_test.columns, data = norm.transform(X_test))"
   ]
  },
  {
   "cell_type": "code",
   "execution_count": 19,
   "metadata": {},
   "outputs": [
    {
     "data": {
      "text/html": [
       "<div>\n",
       "<style scoped>\n",
       "    .dataframe tbody tr th:only-of-type {\n",
       "        vertical-align: middle;\n",
       "    }\n",
       "\n",
       "    .dataframe tbody tr th {\n",
       "        vertical-align: top;\n",
       "    }\n",
       "\n",
       "    .dataframe thead th {\n",
       "        text-align: right;\n",
       "    }\n",
       "</style>\n",
       "<table border=\"1\" class=\"dataframe\">\n",
       "  <thead>\n",
       "    <tr style=\"text-align: right;\">\n",
       "      <th></th>\n",
       "      <th>Age</th>\n",
       "      <th>Overall</th>\n",
       "      <th>Potential</th>\n",
       "      <th>Jersey Number</th>\n",
       "    </tr>\n",
       "  </thead>\n",
       "  <tbody>\n",
       "    <tr>\n",
       "      <th>0</th>\n",
       "      <td>0.517241</td>\n",
       "      <td>0.729167</td>\n",
       "      <td>0.702128</td>\n",
       "      <td>0.204082</td>\n",
       "    </tr>\n",
       "    <tr>\n",
       "      <th>1</th>\n",
       "      <td>0.172414</td>\n",
       "      <td>0.354167</td>\n",
       "      <td>0.446809</td>\n",
       "      <td>0.071429</td>\n",
       "    </tr>\n",
       "    <tr>\n",
       "      <th>2</th>\n",
       "      <td>0.241379</td>\n",
       "      <td>0.375000</td>\n",
       "      <td>0.531915</td>\n",
       "      <td>0.132653</td>\n",
       "    </tr>\n",
       "    <tr>\n",
       "      <th>3</th>\n",
       "      <td>0.655172</td>\n",
       "      <td>0.479167</td>\n",
       "      <td>0.446809</td>\n",
       "      <td>0.204082</td>\n",
       "    </tr>\n",
       "    <tr>\n",
       "      <th>4</th>\n",
       "      <td>0.275862</td>\n",
       "      <td>0.520833</td>\n",
       "      <td>0.617021</td>\n",
       "      <td>0.142857</td>\n",
       "    </tr>\n",
       "    <tr>\n",
       "      <th>...</th>\n",
       "      <td>...</td>\n",
       "      <td>...</td>\n",
       "      <td>...</td>\n",
       "      <td>...</td>\n",
       "    </tr>\n",
       "    <tr>\n",
       "      <th>3577</th>\n",
       "      <td>0.275862</td>\n",
       "      <td>0.458333</td>\n",
       "      <td>0.510638</td>\n",
       "      <td>0.214286</td>\n",
       "    </tr>\n",
       "    <tr>\n",
       "      <th>3578</th>\n",
       "      <td>0.103448</td>\n",
       "      <td>0.312500</td>\n",
       "      <td>0.531915</td>\n",
       "      <td>0.173469</td>\n",
       "    </tr>\n",
       "    <tr>\n",
       "      <th>3579</th>\n",
       "      <td>0.137931</td>\n",
       "      <td>0.375000</td>\n",
       "      <td>0.617021</td>\n",
       "      <td>0.204082</td>\n",
       "    </tr>\n",
       "    <tr>\n",
       "      <th>3580</th>\n",
       "      <td>0.206897</td>\n",
       "      <td>0.354167</td>\n",
       "      <td>0.468085</td>\n",
       "      <td>0.020408</td>\n",
       "    </tr>\n",
       "    <tr>\n",
       "      <th>3581</th>\n",
       "      <td>0.344828</td>\n",
       "      <td>0.375000</td>\n",
       "      <td>0.382979</td>\n",
       "      <td>0.295918</td>\n",
       "    </tr>\n",
       "  </tbody>\n",
       "</table>\n",
       "<p>3582 rows × 4 columns</p>\n",
       "</div>"
      ],
      "text/plain": [
       "           Age   Overall  Potential  Jersey Number\n",
       "0     0.517241  0.729167   0.702128       0.204082\n",
       "1     0.172414  0.354167   0.446809       0.071429\n",
       "2     0.241379  0.375000   0.531915       0.132653\n",
       "3     0.655172  0.479167   0.446809       0.204082\n",
       "4     0.275862  0.520833   0.617021       0.142857\n",
       "...        ...       ...        ...            ...\n",
       "3577  0.275862  0.458333   0.510638       0.214286\n",
       "3578  0.103448  0.312500   0.531915       0.173469\n",
       "3579  0.137931  0.375000   0.617021       0.204082\n",
       "3580  0.206897  0.354167   0.468085       0.020408\n",
       "3581  0.344828  0.375000   0.382979       0.295918\n",
       "\n",
       "[3582 rows x 4 columns]"
      ]
     },
     "execution_count": 19,
     "metadata": {},
     "output_type": "execute_result"
    }
   ],
   "source": [
    "X_test"
   ]
  },
  {
   "cell_type": "markdown",
   "metadata": {},
   "source": [
    "#### Implement your own MinMaxScaler. Make sure you get the same results as in sklearn.preprocessing.MinMaxScaler"
   ]
  },
  {
   "cell_type": "code",
   "execution_count": 100,
   "metadata": {},
   "outputs": [],
   "source": [
    "class MyMinMaxScaler:\n",
    "    \n",
    "    def __init__(self):\n",
    "        # TODO\n",
    "        pass\n",
    "\n",
    "    def fit(self, X):\n",
    "        # TODO\n",
    "        self.X_std = (X - X.min(axis=0)) / (X.max(axis=0) - X.min(axis=0))\n",
    "        return self.X_std\n",
    "        \n",
    "    def transform(self, s_min = 0, s_max = 1):\n",
    "        # TODO\n",
    "        self.X_transformed = slef.X_std * (s_max - s_min) + s_min\n",
    "        return self.X_transformed"
   ]
  },
  {
   "cell_type": "code",
   "execution_count": 110,
   "metadata": {},
   "outputs": [
    {
     "name": "stdout",
     "output_type": "stream",
     "text": [
      "            Age   Overall  Potential  Jersey Number\n",
      "0      0.344828  0.500000   0.488889       0.234694\n",
      "1      0.413793  0.437500   0.377778       0.081633\n",
      "2      0.448276  0.458333   0.400000       0.224490\n",
      "3      0.137931  0.437500   0.688889       0.255102\n",
      "4      0.413793  0.416667   0.377778       0.112245\n",
      "...         ...       ...        ...            ...\n",
      "14320  0.172414  0.437500   0.533333       0.979592\n",
      "14321  0.275862  0.520833   0.555556       0.255102\n",
      "14322  0.241379  0.479167   0.577778       0.265306\n",
      "14323  0.344828  0.500000   0.488889       0.193878\n",
      "14324  0.103448  0.208333   0.355556       0.153061\n",
      "\n",
      "[14325 rows x 4 columns]\n",
      "            Age   Overall  Potential  Jersey Number\n",
      "0      0.344828  0.500000   0.488889       0.234694\n",
      "1      0.413793  0.437500   0.377778       0.081633\n",
      "2      0.448276  0.458333   0.400000       0.224490\n",
      "3      0.137931  0.437500   0.688889       0.255102\n",
      "4      0.413793  0.416667   0.377778       0.112245\n",
      "...         ...       ...        ...            ...\n",
      "14320  0.172414  0.437500   0.533333       0.979592\n",
      "14321  0.275862  0.520833   0.555556       0.255102\n",
      "14322  0.241379  0.479167   0.577778       0.265306\n",
      "14323  0.344828  0.500000   0.488889       0.193878\n",
      "14324  0.103448  0.208333   0.355556       0.153061\n",
      "\n",
      "[14325 rows x 4 columns]\n"
     ]
    }
   ],
   "source": [
    "# TODO\n",
    "minMaxScaler = MyMinMaxScaler().fit(X_train)\n",
    "X_train = pd.DataFrame(columns = X_train.columns, data = minMaxScaler.transform(X_train, 0, 1))\n",
    "print(X_train)\n",
    "X_test = pd.DataFrame(columns = X_train.columns, data = minMaxScaler.transform(X_test, 0, 1))\n",
    "print(X_test)"
   ]
  },
  {
   "cell_type": "markdown",
   "metadata": {},
   "source": [
    "### Standard Scaler"
   ]
  },
  {
   "cell_type": "code",
   "execution_count": 111,
   "metadata": {},
   "outputs": [],
   "source": [
    "from sklearn.preprocessing import StandardScaler"
   ]
  },
  {
   "cell_type": "code",
   "execution_count": 112,
   "metadata": {},
   "outputs": [],
   "source": [
    "# Initialise the Scaler and Fit\n",
    "norm = StandardScaler().fit(X_train)"
   ]
  },
  {
   "cell_type": "code",
   "execution_count": 113,
   "metadata": {},
   "outputs": [],
   "source": [
    "X_train  = pd.DataFrame(columns = X_train.columns, data = norm.transform(X_train))"
   ]
  },
  {
   "cell_type": "code",
   "execution_count": 114,
   "metadata": {},
   "outputs": [
    {
     "data": {
      "image/png": "[encoded data removed]",
      "text/plain": [
       "<Figure size 432x288 with 1 Axes>"
      ]
     },
     "metadata": {
      "needs_background": "light"
     },
     "output_type": "display_data"
    }
   ],
   "source": [
    "plt.hist(X_train.Age)\n",
    "plt.show()"
   ]
  },
  {
   "cell_type": "code",
   "execution_count": 115,
   "metadata": {},
   "outputs": [
    {
     "data": {
      "text/html": [
       "<div>\n",
       "<style scoped>\n",
       "    .dataframe tbody tr th:only-of-type {\n",
       "        vertical-align: middle;\n",
       "    }\n",
       "\n",
       "    .dataframe tbody tr th {\n",
       "        vertical-align: top;\n",
       "    }\n",
       "\n",
       "    .dataframe thead th {\n",
       "        text-align: right;\n",
       "    }\n",
       "</style>\n",
       "<table border=\"1\" class=\"dataframe\">\n",
       "  <thead>\n",
       "    <tr style=\"text-align: right;\">\n",
       "      <th></th>\n",
       "      <th>Age</th>\n",
       "      <th>Overall</th>\n",
       "      <th>Potential</th>\n",
       "      <th>Jersey Number</th>\n",
       "    </tr>\n",
       "  </thead>\n",
       "  <tbody>\n",
       "    <tr>\n",
       "      <th>0</th>\n",
       "      <td>0.192114</td>\n",
       "      <td>0.546103</td>\n",
       "      <td>0.110982</td>\n",
       "      <td>0.274522</td>\n",
       "    </tr>\n",
       "    <tr>\n",
       "      <th>1</th>\n",
       "      <td>0.619813</td>\n",
       "      <td>0.112636</td>\n",
       "      <td>-0.705316</td>\n",
       "      <td>-0.668469</td>\n",
       "    </tr>\n",
       "    <tr>\n",
       "      <th>2</th>\n",
       "      <td>0.833663</td>\n",
       "      <td>0.257125</td>\n",
       "      <td>-0.542056</td>\n",
       "      <td>0.211656</td>\n",
       "    </tr>\n",
       "    <tr>\n",
       "      <th>3</th>\n",
       "      <td>-1.090984</td>\n",
       "      <td>0.112636</td>\n",
       "      <td>1.580320</td>\n",
       "      <td>0.400254</td>\n",
       "    </tr>\n",
       "    <tr>\n",
       "      <th>4</th>\n",
       "      <td>0.619813</td>\n",
       "      <td>-0.031853</td>\n",
       "      <td>-0.705316</td>\n",
       "      <td>-0.479871</td>\n",
       "    </tr>\n",
       "    <tr>\n",
       "      <th>...</th>\n",
       "      <td>...</td>\n",
       "      <td>...</td>\n",
       "      <td>...</td>\n",
       "      <td>...</td>\n",
       "    </tr>\n",
       "    <tr>\n",
       "      <th>14320</th>\n",
       "      <td>-0.877135</td>\n",
       "      <td>0.112636</td>\n",
       "      <td>0.437502</td>\n",
       "      <td>4.863746</td>\n",
       "    </tr>\n",
       "    <tr>\n",
       "      <th>14321</th>\n",
       "      <td>-0.235586</td>\n",
       "      <td>0.690592</td>\n",
       "      <td>0.600762</td>\n",
       "      <td>0.400254</td>\n",
       "    </tr>\n",
       "    <tr>\n",
       "      <th>14322</th>\n",
       "      <td>-0.449435</td>\n",
       "      <td>0.401614</td>\n",
       "      <td>0.764021</td>\n",
       "      <td>0.463120</td>\n",
       "    </tr>\n",
       "    <tr>\n",
       "      <th>14323</th>\n",
       "      <td>0.192114</td>\n",
       "      <td>0.546103</td>\n",
       "      <td>0.110982</td>\n",
       "      <td>0.023057</td>\n",
       "    </tr>\n",
       "    <tr>\n",
       "      <th>14324</th>\n",
       "      <td>-1.304834</td>\n",
       "      <td>-1.476743</td>\n",
       "      <td>-0.868576</td>\n",
       "      <td>-0.228407</td>\n",
       "    </tr>\n",
       "  </tbody>\n",
       "</table>\n",
       "<p>14325 rows × 4 columns</p>\n",
       "</div>"
      ],
      "text/plain": [
       "            Age   Overall  Potential  Jersey Number\n",
       "0      0.192114  0.546103   0.110982       0.274522\n",
       "1      0.619813  0.112636  -0.705316      -0.668469\n",
       "2      0.833663  0.257125  -0.542056       0.211656\n",
       "3     -1.090984  0.112636   1.580320       0.400254\n",
       "4      0.619813 -0.031853  -0.705316      -0.479871\n",
       "...         ...       ...        ...            ...\n",
       "14320 -0.877135  0.112636   0.437502       4.863746\n",
       "14321 -0.235586  0.690592   0.600762       0.400254\n",
       "14322 -0.449435  0.401614   0.764021       0.463120\n",
       "14323  0.192114  0.546103   0.110982       0.023057\n",
       "14324 -1.304834 -1.476743  -0.868576      -0.228407\n",
       "\n",
       "[14325 rows x 4 columns]"
      ]
     },
     "execution_count": 115,
     "metadata": {},
     "output_type": "execute_result"
    }
   ],
   "source": [
    "pd.DataFrame(columns = X_test.columns, data = norm.transform(X_test))"
   ]
  },
  {
   "cell_type": "markdown",
   "metadata": {},
   "source": [
    "#### Implement your own StandardScaler. Make sure you get the same results as in sklearn.preprocessing.MinMaxScaler"
   ]
  },
  {
   "cell_type": "code",
   "execution_count": 116,
   "metadata": {},
   "outputs": [],
   "source": [
    "class MyStandardScaler:\n",
    "    \n",
    "    def __init__(self):\n",
    "        # TODO\n",
    "        pass\n",
    "        \n",
    "    def fit(self, X):\n",
    "        # TODO\n",
    "        self.mean = np.sum(X) / len(X)\n",
    "        self.X_std = np.sqrt(abs(X - self.mean) ** 2)\n",
    "        return self\n",
    "        \n",
    "    def transform(self, X):\n",
    "        # TODO\n",
    "        X_transformed = X - self.mean / self.X_std\n",
    "        return X_transformed"
   ]
  },
  {
   "cell_type": "code",
   "execution_count": 117,
   "metadata": {},
   "outputs": [
    {
     "name": "stdout",
     "output_type": "stream",
     "text": [
      "            Age   Overall  Potential  Jersey Number\n",
      "0      0.192114  0.546103   0.110982       0.274522\n",
      "1      0.619813  0.112636  -0.705316      -0.668469\n",
      "2      0.833663  0.257125  -0.542056       0.211656\n",
      "3     -1.090984  0.112636   1.580320       0.400254\n",
      "4      0.619813 -0.031853  -0.705316      -0.479871\n",
      "...         ...       ...        ...            ...\n",
      "14320 -0.877135  0.112636   0.437502       4.863746\n",
      "14321 -0.235586  0.690592   0.600762       0.400254\n",
      "14322 -0.449435  0.401614   0.764021       0.463120\n",
      "14323  0.192114  0.546103   0.110982       0.023057\n",
      "14324 -1.304834 -1.476743  -0.868576      -0.228407\n",
      "\n",
      "[14325 rows x 4 columns]\n",
      "            Age    Overall  Potential  Jersey Number\n",
      "0     -9.786573  -4.849969 -30.874019      -4.032355\n",
      "1     -2.726480 -25.501248  -4.557217      -1.670726\n",
      "2     -1.886460 -10.904369  -6.021345      -5.309960\n",
      "3     -1.646130 -25.501248  -1.513660      -2.671535\n",
      "4     -2.726480 -91.305309  -4.557217      -2.328823\n",
      "...         ...        ...        ...            ...\n",
      "14320 -2.046611 -25.501248  -7.422590       0.738749\n",
      "14321 -7.986035  -3.709789  -5.238309      -2.671535\n",
      "14322 -4.089352  -6.795565  -3.978026      -2.264055\n",
      "14323 -9.786573  -4.849969 -30.874019     -50.609510\n",
      "14324 -1.388223  -1.770097  -3.651845      -4.975498\n",
      "\n",
      "[14325 rows x 4 columns]\n"
     ]
    }
   ],
   "source": [
    "# TODO\n",
    "std_scaler = MyStandardScaler().fit(X_train)\n",
    "print(std_scaler.transform(X_train))\n",
    "std_scaler = MyStandardScaler().fit(X_test)\n",
    "print(std_scaler.transform(X_test))"
   ]
  },
  {
   "cell_type": "markdown",
   "metadata": {},
   "source": [
    "# tasks"
   ]
  },
  {
   "cell_type": "markdown",
   "metadata": {},
   "source": [
    "###### try applying this scalers to any dataset and check the regression results"
   ]
  },
  {
   "cell_type": "code",
   "execution_count": null,
   "metadata": {},
   "outputs": [],
   "source": [
    "# Load the Diabetes dataset\n",
    "columns = 'age sex bmi map tc ldl hdl tch ltg glu'.split() # Declare the columns names\n",
    "diabetes = datasets.load_diabetes() # Call the diabetes dataset from sklearn\n",
    "df = pd.DataFrame(diabetes.data, columns=columns) # load the dataset as a pandas data frame\n",
    "y = diabetes.target # define the target variable (dependent variable) as y"
   ]
  },
  {
   "cell_type": "code",
   "execution_count": null,
   "metadata": {},
   "outputs": [],
   "source": [
    "X_train, X_test, y_train, y_test = train_test_split(df, y, test_size=0.2, random_state=42)"
   ]
  },
  {
   "cell_type": "code",
   "execution_count": null,
   "metadata": {},
   "outputs": [],
   "source": [
    "# Initialise the Scaler and Fit\n",
    "norm = MinMaxScaler().fit(X_train)"
   ]
  },
  {
   "cell_type": "code",
   "execution_count": null,
   "metadata": {},
   "outputs": [],
   "source": [
    "X_train = pd.DataFrame(columns = X_train.columns, data = norm.transform(X_train))\n",
    "X_train"
   ]
  },
  {
   "cell_type": "code",
   "execution_count": null,
   "metadata": {},
   "outputs": [],
   "source": [
    "# fit a model\n",
    "lm = linear_model.LinearRegression()\n",
    "model = lm.fit(X_train, y_train)\n",
    "X_test = pd.DataFrame(columns = X_test.columns, data = norm.transform(X_test))\n",
    "predictions = lm.predict(X_test)"
   ]
  },
  {
   "cell_type": "code",
   "execution_count": null,
   "metadata": {},
   "outputs": [],
   "source": [
    "model.score(X_test, y_test)"
   ]
  },
  {
   "cell_type": "code",
   "execution_count": null,
   "metadata": {},
   "outputs": [],
   "source": [
    "print ('Test RMSE:', np.sqrt(mean_squared_error(predictions, y_test)))\n",
    "print ('Train RMSE:', np.sqrt(mean_squared_error(lm.predict(X_train), y_train)))"
   ]
  },
  {
   "cell_type": "code",
   "execution_count": null,
   "metadata": {},
   "outputs": [],
   "source": [
    "X_train, X_test, y_train, y_test = train_test_split(df, y, test_size=0.2, random_state=42)"
   ]
  },
  {
   "cell_type": "code",
   "execution_count": null,
   "metadata": {},
   "outputs": [],
   "source": [
    "# Initialise the Scaler and Fit\n",
    "norm = StandardScaler().fit(X_train)"
   ]
  },
  {
   "cell_type": "code",
   "execution_count": null,
   "metadata": {},
   "outputs": [],
   "source": [
    "X_train = pd.DataFrame(columns = X_train.columns, data = norm.transform(X_train))\n",
    "X_train"
   ]
  },
  {
   "cell_type": "code",
   "execution_count": null,
   "metadata": {},
   "outputs": [],
   "source": [
    "# fit a model\n",
    "lm = linear_model.LinearRegression()\n",
    "model = lm.fit(X_train, y_train)\n",
    "X_test = pd.DataFrame(columns = X_test.columns, data = norm.transform(X_test))\n",
    "predictions = lm.predict(X_test)"
   ]
  },
  {
   "cell_type": "code",
   "execution_count": null,
   "metadata": {},
   "outputs": [],
   "source": [
    "model.score(X_test, y_test)"
   ]
  },
  {
   "cell_type": "code",
   "execution_count": null,
   "metadata": {},
   "outputs": [],
   "source": [
    "print ('Test RMSE:', np.sqrt(mean_squared_error(predictions, y_test)))\n",
    "print ('Train RMSE:', np.sqrt(mean_squared_error(lm.predict(X_train), y_train)))"
   ]
  },
  {
   "cell_type": "code",
   "execution_count": null,
   "metadata": {},
   "outputs": [],
   "source": [
    "lm = linear_model.LinearRegression()\n",
    "model = lm.fit(X_train, y_train)\n",
    "X_test = pd.DataFrame(columns = X_test.columns, data = norm.transform(X_test))\n",
    "predictions = lm.predict(X_test)"
   ]
  },
  {
   "cell_type": "code",
   "execution_count": null,
   "metadata": {},
   "outputs": [],
   "source": [
    "model.score(X_test, y_test)"
   ]
  },
  {
   "cell_type": "code",
   "execution_count": null,
   "metadata": {},
   "outputs": [],
   "source": [
    "print ('Test RMSE:', np.sqrt(mean_squared_error(predictions, y_test)))\n",
    "print ('Train RMSE:', np.sqrt(mean_squared_error(lm.predict(X_train), y_train)))"
   ]
  },
  {
   "cell_type": "code",
   "execution_count": null,
   "metadata": {},
   "outputs": [],
   "source": [
    "data = pd.read_csv('regression.csv') \n",
    "y = data.Value\n",
    "data = data.drop(['Name', 'Nationality', 'Club', \n",
    "                  'Wage', 'Position', 'Contract Valid Until', \n",
    "                  'Height', 'Weight', 'Value'], axis = 1)"
   ]
  },
  {
   "cell_type": "code",
   "execution_count": null,
   "metadata": {},
   "outputs": [],
   "source": [
    "X_train, X_test, y_train, y_test = train_test_split(data, y, test_size=0.2, random_state=42)"
   ]
  },
  {
   "cell_type": "code",
   "execution_count": null,
   "metadata": {},
   "outputs": [],
   "source": [
    "norm = StandardScaler().fit(X_train)"
   ]
  },
  {
   "cell_type": "code",
   "execution_count": null,
   "metadata": {},
   "outputs": [],
   "source": [
    "X_train = pd.DataFrame(columns = X_train.columns, data = norm.transform(X_train))"
   ]
  },
  {
   "cell_type": "code",
   "execution_count": null,
   "metadata": {},
   "outputs": [],
   "source": [
    "lm = linear_model.LinearRegression()\n",
    "model = lm.fit(X_train, y_train)\n",
    "X_test = pd.DataFrame(columns = X_test.columns, data = norm.transform(X_test))\n",
    "predictions = lm.predict(X_test)"
   ]
  },
  {
   "cell_type": "code",
   "execution_count": null,
   "metadata": {},
   "outputs": [],
   "source": [
    "model.score(X_test, y_test)"
   ]
  },
  {
   "cell_type": "code",
   "execution_count": null,
   "metadata": {},
   "outputs": [],
   "source": [
    "print ('Test RMSE:', np.sqrt(mean_squared_error(predictions, y_test)))\n",
    "print ('Train RMSE:', np.sqrt(mean_squared_error(lm.predict(X_train), y_train)))"
   ]
  }
 ],
 "metadata": {
  "kernelspec": {
   "display_name": "Python 3 (ipykernel)",
   "language": "python",
   "name": "python3"
  },
  "language_info": {
   "codemirror_mode": {
    "name": "ipython",
    "version": 3
   },
   "file_extension": ".py",
   "mimetype": "text/x-python",
   "name": "python",
   "nbconvert_exporter": "python",
   "pygments_lexer": "ipython3",
   "version": "3.9.9"
  }
 },
 "nbformat": 4,
 "nbformat_minor": 4
}
